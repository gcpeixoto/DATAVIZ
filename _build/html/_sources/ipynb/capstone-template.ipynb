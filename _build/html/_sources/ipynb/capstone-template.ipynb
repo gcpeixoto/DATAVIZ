{
 "cells": [
  {
   "cell_type": "markdown",
   "id": "78cc3fec-4391-4f6e-ba32-786cc64b2bc2",
   "metadata": {},
   "source": [
    "# Modelo para Relátorio de Projeto Final\n",
    "\n",
    "## Identificação\n",
    "\n",
    "**Título:** \n",
    "\n",
    "- Título do Relatório \n",
    "\n",
    "**Equipe:** \n",
    "\n",
    "- Euclides de Alexandria, 'euclides.alexandria@nome.edu.br'\n",
    "- Rei Henrique VII, 'henry@eu.com'\n",
    "- Cosme de Médici, 'cmedici@yuhh.com.br'\n",
    "\n",
    "## Resumo\n",
    "\n",
    "Escreva em uma ou duas sentenças, no máximo, a finalidade do relatório ou estudo de caso. (Por quê?)\n",
    "\n",
    "## Descrição do estudo de caso\n",
    "\n",
    "Descreva o problema a ser tratado em até 3 parágrafos. (O quê?)\n",
    "\n",
    "## Metodologia de solução\n",
    "\n",
    "Descreva a metodologia utilizada para resolver o problema proposto. (Como?)\n",
    "\n",
    "## Resultados, análise e discussão\n",
    "\n",
    "Adicione gráficos, figuras, tabelas e informações necessárias (E então?)\n",
    "\n",
    "## Referências bibliográficas\n",
    "\n",
    "Registre todas as referências utilizadas no formato utilizado no template do mini-artigo. Referências incluem:\n",
    "\n",
    "- Livro\n",
    "- Artigo\n",
    "- Site\n",
    "- Post\n",
    "- etc.\n",
    "\n",
    "## Ajuda (esta seção não deve ser incluída no relatório!)\n",
    "\n",
    "Recursos para aprender como escrever o relatório. Caso queira fazer algo e não saiba, pergunte ao professor. Se ele souber, orientará como fazer.\n",
    "\n",
    "- O que é Markdown?: [link](https://pt.wikipedia.org/wiki/Markdown)\n",
    "\n",
    "- Dicas rápidas de Markdown: [link](https://www.markdownguide.org/cheat-sheet/)\n",
    "\n",
    "- Editor online para aprender Markdown: [link](https://stackedit.io/app#)\n",
    "\n",
    "- Como inserir texto, imagens e tabelas em notebooks: [link](https://www.earthdatascience.org/courses/intro-to-earth-data-science/file-formats/use-text-files/format-text-with-markdown-jupyter-notebook/)\n"
   ]
  }
 ],
 "metadata": {
  "kernelspec": {
   "display_name": "Python 3.10.6 64-bit",
   "language": "python",
   "name": "python3"
  },
  "language_info": {
   "codemirror_mode": {
    "name": "ipython",
    "version": 3
   },
   "file_extension": ".py",
   "mimetype": "text/x-python",
   "name": "python",
   "nbconvert_exporter": "python",
   "pygments_lexer": "ipython3",
   "version": "3.10.6"
  },
  "vscode": {
   "interpreter": {
    "hash": "b0fa6594d8f4cbf19f97940f81e996739fb7646882a419484c72d19e05852a7e"
   }
  }
 },
 "nbformat": 4,
 "nbformat_minor": 5
}
