{
 "cells": [
  {
   "attachments": {},
   "cell_type": "markdown",
   "metadata": {},
   "source": [
    "# _Dataviz Workshop_: _Data Reporting_ com HTML/PDF"
   ]
  },
  {
   "attachments": {},
   "cell_type": "markdown",
   "metadata": {},
   "source": [
    "## Objetivos do workshop\n",
    "\n",
    "- Apresentar o módulo `xhtml2pdf` para conversão de código HTML para PDF;\n",
    "- Converter DataFrame para código HTML;\n",
    "- Desenvolver _workflow_ básico para geração de relatórios automatizados utilizando templates HTML atualizáveis utilizando dados sobre crimes violentos letais intencionais em João Pessoa."
   ]
  },
  {
   "attachments": {},
   "cell_type": "markdown",
   "metadata": {},
   "source": [
    "## Ferramentas utilizadas\n",
    "\n",
    "- Módulos Python    \n",
    "    - `xhtml2pdf`\n",
    "    - `re`\n",
    "    - `pandas`"
   ]
  },
  {
   "attachments": {},
   "cell_type": "markdown",
   "metadata": {},
   "source": [
    "## _Data reporting_\n",
    "\n",
    "Existem diversas ferramentas para operacionalizar PDFs, seja para análise (_parsing_), extração, encriptação ou conversão de informações. Algumas delas, com suporte em Python são: \n",
    "\n",
    "- pdfminer.six\n",
    "- pyPDF2\n",
    "- reportlab\n",
    "- json2pdf\n",
    "- pymupdf\n",
    "- pikepdf\n",
    "\n",
    "Entretanto a arte do _data reporting_, que consiste em gerar relatórios automatizados a partir de dados e exportá-los, principalmente em arquivos PDF ma forma de brochuras, portfólios, ou _one-pagers_, depende da um misto de habilidades e, às vezes, da integração de mais de uma API.\n",
    "\n",
    "Cada uma das bibliotecas acima possuem forças e fraquezas, de maneira que, raramente, teremos à mão, soluções imediatas para gerarmos nossos relatórios.\n",
    "\n",
    "A proposta deste capítulo é apresentar o módulo `xhtml2pdf` como uma primeira aproximação ao tema."
   ]
  },
  {
   "attachments": {},
   "cell_type": "markdown",
   "metadata": {},
   "source": [
    "### `xhtml2pdf`\n",
    "\n",
    "O módulo `xhtml2pdf` oferece uma maneira ágil de automatizar a geração de PDFs a partir de conteúdo HTML.  Ele utiliza a a biblioteca `reportlab` como _backbone_.\n",
    "\n",
    "Ele funciona com base em _templates_ mínimos de layouts inspirados em estilos CSS. As partes principais são os objetos `@page` e `@frame`, os quais emolduram o conteúdo em página. Além disso, são disponíveis _tags_ do tipo PDF-vendor, que habilitam o desenvolvedor a inserir informações nativas de arquivos PDF, tais como paginação, sumário e idioma.\n",
    "\n",
    "Em termos de gráficos, o módulo fornece algumas representações visuais, tais como gráficos de linhas e de barras, mas é bastante limitado.\n",
    "\n",
    "Algumas suas vantagens são: \n",
    "\n",
    "- flexibilidade para gerar múltiplos _templates_ de página;\n",
    "- encriptação e assinatura;\n",
    "- superposição de marca d'água;"
   ]
  },
  {
   "attachments": {},
   "cell_type": "markdown",
   "metadata": {},
   "source": [
    "### Instalação\n",
    "\n",
    "Recomenda-se utilizar _pip_ com: `pip install xhtml2pdf`."
   ]
  },
  {
   "cell_type": "code",
   "execution_count": 1,
   "metadata": {},
   "outputs": [],
   "source": [
    "from xhtml2pdf import pisa\n",
    "import pandas as pd, re"
   ]
  },
  {
   "attachments": {},
   "cell_type": "markdown",
   "metadata": {},
   "source": [
    "## _Workflow_ demonstrativo"
   ]
  },
  {
   "attachments": {},
   "cell_type": "markdown",
   "metadata": {},
   "source": [
    "- Primeiramente, geramos um conteúdo básico em HTML que, na prática, seria a composição de um _briefing_ atualizável periodicamente e dados obtidos de um DataFrame."
   ]
  },
  {
   "cell_type": "code",
   "execution_count": 2,
   "metadata": {
    "tags": [
     "hide-input"
    ]
   },
   "outputs": [],
   "source": [
    "# geração de HTML atualizável\n",
    "def html_data(table):\n",
    "    text = f'\\\n",
    "        <h2>Dados</h2>\\\n",
    "        <p>Mattis ullamcorper velit sed ullamcorper morbi tincidunt ornare massa eget. Ultricies mi eget mauris pharetra et ultrices neque ornare aenean.\\\n",
    "        Sit amet cursus sit amet. Varius vel pharetra vel turpis nunc eget lorem. Enim lobortis scelerisque fermentum dui faucibus.\\\n",
    "        Nibh tellus molestie nunc non blandit massa enim nec dui. Non nisi est sit amet facilisis magna.\\\n",
    "        {table.to_html(index=False)}\\\n",
    "        </p>\\\n",
    "        <h2>Análise</h2>\\\n",
    "        <p>Lorem ipsum dolor sit amet, consectetur adipiscing elit, sed do eiusmod tempor incididunt ut labore et dolore magna aliqua.\\\n",
    "        Viverra ipsum nunc aliquet bibendum enim facilisis. Dui nunc mattis enim ut tellus elementum sagittis vitae. Sed adipiscing diam donec adipiscing tristique.\\\n",
    "        Ut sem nulla pharetra diam sit. Suspendisse ultrices gravida dictum fusce ut placerat orci nulla pellentesque. Diam phasellus vestibulum lorem sed risus ultricies tristique nulla aliquet.\\\n",
    "        Elit scelerisque mauris pellentesque pulvinar pellentesque habitant morbi tristique. Pharetra convallis posuere morbi leo. Et magnis dis parturient montes nascetur.\\\n",
    "        Tortor vitae purus faucibus ornare suspendisse sed nisi lacus sed. Amet justo donec enim diam vulputate ut pharetra sit amet. Tempor nec feugiat nisl pretium fusce id velit.\\\n",
    "        Mattis vulputate enim nulla aliquet porttitor lacus luctus accumsan. Mollis nunc sed id semper risus in hendrerit gravida rutrum. Ultrices vitae auctor eu augue ut.\\\n",
    "        Sit amet nisl suscipit adipiscing bibendum est ultricies integer. Urna condimentum mattis pellentesque id. Quisque non tellus orci ac auctor augue.\\\n",
    "        Dolor sed viverra ipsum nunc aliquet bibendum enim.\\\n",
    "        \\n\\\n",
    "        Et malesuada fames ac turpis egestas. Pretium nibh ipsum consequat nisl vel pretium. Consectetur adipiscing elit ut aliquam purus.\\\n",
    "        Duis at consectetur lorem donec massa. Tortor vitae purus faucibus ornare suspendisse sed nisi lacus. In iaculis nunc sed augue lacus viverra.\\\n",
    "        Malesuada fames ac turpis egestas maecenas pharetra convallis. Massa sed elementum tempus egestas. Turpis egestas maecenas pharetra convallis posuere morbi. \\\n",
    "        Scelerisque mauris pellentesque pulvinar pellentesque habitant morbi tristique senectus. Tempus iaculis urna id volutpat.\\\n",
    "        \\n'\n",
    "    \n",
    "    return text"
   ]
  },
  {
   "attachments": {},
   "cell_type": "markdown",
   "metadata": {},
   "source": [
    "- Em seguida fazemos o carregamento dos dados que serão usados para compor o relatório. Na prática, poderia já ser um gráfico pós-processado."
   ]
  },
  {
   "cell_type": "code",
   "execution_count": 3,
   "metadata": {},
   "outputs": [],
   "source": [
    "df = pd.read_csv('../data/crimes-pb-2015-2018.csv')"
   ]
  },
  {
   "attachments": {},
   "cell_type": "markdown",
   "metadata": {},
   "source": [
    "- Fazemos o carregamento de um _template_ HTML para o relatório. Podemos ter tantos modelos para quantas forem as necessidades de projeto."
   ]
  },
  {
   "cell_type": "code",
   "execution_count": 4,
   "metadata": {},
   "outputs": [],
   "source": [
    "# carregamento do modelo\n",
    "html_report_template = '../dw/reporting/report_template.html'"
   ]
  },
  {
   "attachments": {},
   "cell_type": "markdown",
   "metadata": {},
   "source": [
    "- Por fim, escrevemos uma função de utilidade para converter o conteúdo de HTML para produzir o nosso PDF."
   ]
  },
  {
   "cell_type": "code",
   "execution_count": 5,
   "metadata": {},
   "outputs": [],
   "source": [
    "# função de utilidade para conversão\n",
    "def html_to_pdf(html_in, pdf_out):\n",
    "    \n",
    "    # arquivo de saída\n",
    "    outfile = open(pdf_out, 'w+b')\n",
    "\n",
    "    # conversão\n",
    "    c = pisa.CreatePDF(html_in, dest=outfile)\n",
    "\n",
    "    # fecha arquivo\n",
    "    outfile.close()\n",
    "\n",
    "    # retorna True se houver erro; False, senão\n",
    "    return c.err"
   ]
  },
  {
   "attachments": {},
   "cell_type": "markdown",
   "metadata": {},
   "source": [
    "- A execução da função de utilidade é melhor disposta em _script_. Aqui para fins de demonstração, o meio é indiferente.\n",
    "\n",
    "No código abaixo, fazemos uma leve inserção de conteúdo no _template_, modificando o código-fonte HTML e exportando a saída para o documento `dw-report.pdf`."
   ]
  },
  {
   "cell_type": "code",
   "execution_count": 6,
   "metadata": {},
   "outputs": [],
   "source": [
    "if __name__ == \"__main__\":\n",
    "    pisa.showLogging()\n",
    "    \n",
    "    # inserção de dado no modelo\n",
    "    with open(html_report_template) as h:\n",
    "        source_html = h.read()\n",
    "        cutoff = re.search('(</body>)',source_html).span()[0]\n",
    "        head = source_html[:cutoff]    \n",
    "        tail = source_html[cutoff:]\n",
    "        mid = html_data(df)    \n",
    "        source_html = head + mid + tail\n",
    "    \n",
    "        html_to_pdf(source_html,'../dw/reporting/pdf-output/dw-report.pdf')\n",
    "        "
   ]
  },
  {
   "attachments": {},
   "cell_type": "markdown",
   "metadata": {},
   "source": [
    "- A exibição do PDF pode ser conferida abaixo.\n",
    "\n",
    "_Obs._: parte deste material é fictício. Qualquer semelhança com nomes, pessoas, factos ou situações da vida real terá sido mera coincidência."
   ]
  },
  {
   "cell_type": "code",
   "execution_count": 7,
   "metadata": {
    "tags": [
     "remove-input"
    ]
   },
   "outputs": [
    {
     "data": {
      "text/html": [
       "\n",
       "        <iframe\n",
       "            width=\"600\"\n",
       "            height=\"500\"\n",
       "            src=\"http://gcpeixoto.github.io/DATAVIZ/dw/reporting/pdf-output/dw-report.pdf\"\n",
       "            frameborder=\"0\"\n",
       "            allowfullscreen\n",
       "            \n",
       "        ></iframe>\n",
       "        "
      ],
      "text/plain": [
       "<IPython.lib.display.IFrame at 0x7fbc73e7aa60>"
      ]
     },
     "execution_count": 7,
     "metadata": {},
     "output_type": "execute_result"
    }
   ],
   "source": [
    "from IPython.display import IFrame\n",
    "\n",
    "IFrame(src='http://gcpeixoto.github.io/DATAVIZ/dw/reporting/pdf-output/dw-report.pdf',\n",
    "       width=600,height=500)"
   ]
  },
  {
   "attachments": {},
   "cell_type": "markdown",
   "metadata": {},
   "source": [
    "## Referências\n",
    "\n",
    "- [Documentação: `xhtml2pdf`](https://xhtml2pdf.readthedocs.io/en/latest/index.html)\n",
    "- [W3 Schools](https://www.w3schools.com/html/default.asp)\n",
    "- [Reportlab](https://docs.reportlab.com/reportlab/userguide/ch1_intro/)"
   ]
  }
 ],
 "metadata": {
  "language_info": {
   "name": "python"
  },
  "orig_nbformat": 4
 },
 "nbformat": 4,
 "nbformat_minor": 2
}
