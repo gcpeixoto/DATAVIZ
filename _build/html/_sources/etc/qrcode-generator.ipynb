{
 "cells": [
  {
   "cell_type": "code",
   "execution_count": null,
   "metadata": {},
   "outputs": [],
   "source": [
    "import qrcode\n",
    "\n",
    "def generate_qr_code(link, output_file):\n",
    "    # Create a QR code instance\n",
    "    qr = qrcode.QRCode(\n",
    "        version=1,  # Controls the size of the QR Code (1 is smallest)\n",
    "        error_correction=qrcode.constants.ERROR_CORRECT_L,  # Error correction level\n",
    "        box_size=10,  # Size of each box in the QR Code grid\n",
    "        border=4,  # Border size (minimum is 4 for QR codes)\n",
    "    )\n",
    "    # Add data to the QR code\n",
    "    qr.add_data(link)\n",
    "    qr.make(fit=True)\n",
    "\n",
    "    # Create and save the image\n",
    "    img = qr.make_image(fill_color=\"#bb1b2b\", back_color=\"white\")\n",
    "    img.save(output_file)\n",
    "    #print(f\"QR Code saved to {output_file}\")\n",
    "\n",
    "# Example usage\n",
    "link = \"\"\n",
    "output_file = \"qr_code_datavis.png\"\n",
    "\n",
    "generate_qr_code(link, output_file)"
   ]
  },
  {
   "cell_type": "code",
   "execution_count": null,
   "metadata": {},
   "outputs": [],
   "source": []
  }
 ],
 "metadata": {
  "kernelspec": {
   "display_name": "base",
   "language": "python",
   "name": "python3"
  },
  "language_info": {
   "codemirror_mode": {
    "name": "ipython",
    "version": 3
   },
   "file_extension": ".py",
   "mimetype": "text/x-python",
   "name": "python",
   "nbconvert_exporter": "python",
   "pygments_lexer": "ipython3",
   "version": "3.9.7"
  }
 },
 "nbformat": 4,
 "nbformat_minor": 2
}
