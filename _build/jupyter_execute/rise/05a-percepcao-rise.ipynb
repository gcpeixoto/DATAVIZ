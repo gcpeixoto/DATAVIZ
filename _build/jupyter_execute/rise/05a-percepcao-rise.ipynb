{
 "cells": [
  {
   "cell_type": "markdown",
   "metadata": {
    "slideshow": {
     "slide_type": "slide"
    }
   },
   "source": [
    "# Percepção Visual\n",
    "\n",
    "Prof. Gustavo Oliveira\n",
    "\n",
    "CI/DCC/UFPB\n",
    "\n",
    "[gcpeixoto.github.com/DATAVIZ](gcpeixoto.github.com/DATAVIZ)"
   ]
  },
  {
   "cell_type": "markdown",
   "metadata": {
    "slideshow": {
     "slide_type": "slide"
    }
   },
   "source": [
    "## Introdução\n",
    "\n",
    "- Humanos captam 70% da informação pela visão e 30% pelos demais receptores sensoriais (audição, olfato, paladar e tato);\n",
    "- Saber sobre a mecânica da visão é útil para construir RVs melhores\n",
    "- _Insight_, _iluminação_ e _esclarecimento_, são conceitos relacionados à visão\n",
    "    - Dão sentido de recebimento de informação\n",
    "    - Trazem descrições apuradas sobre algo \n",
    "- Percepção visual e visualização de dados são assuntos vinculados"
   ]
  },
  {
   "cell_type": "markdown",
   "metadata": {
    "slideshow": {
     "slide_type": "slide"
    }
   },
   "source": [
    "## A mecânica da visão\n",
    "\n",
    "Dividida em dois estágios principais:\n",
    "\n",
    "1. _Sensação_ (processo físico): ocorre quando nossos olhos são estimulados por um objeto emissor ou refletor de luz.\n",
    "2. _Percepção_ (processo cognitivo): ocorre com a entrada de luz pelos olhos\n",
    "    - Absorção por células nervosas;\n",
    "    - Tradução dos sinais neurais (pulsos eletroquímicos)\n",
    "    - Transmissão para o cérebro, tornando aquilo que foi sentido torna-se percebido"
   ]
  },
  {
   "cell_type": "markdown",
   "metadata": {
    "slideshow": {
     "slide_type": "slide"
    }
   },
   "source": [
    "<img src=\"../figs/globo-ocular.png\" width=\"600\" height=\"600\">\n",
    "\n",
    "\n",
    "[Fonte](https://fisica.netspa.com.br/2020/10/01/fisica-otica-da-visao/)"
   ]
  },
  {
   "cell_type": "markdown",
   "metadata": {
    "slideshow": {
     "slide_type": "slide"
    }
   },
   "source": [
    "- _Fóvea_: reconhecimento de espectros de cor (vermelho, azul ou verde) e onde a acuidade visual é máxima. \n",
    "- Capaz de focar em apenas uma área limitada durante um intervalo de tempo. \n",
    "- Olhos fixados em um ponto particular / eventos não percebidos pelo campo de visão. \n",
    "- RVs abarrotadas de cores e elementos dispersam os olhos do espectador e atrapalham o foco"
   ]
  },
  {
   "cell_type": "markdown",
   "metadata": {
    "slideshow": {
     "slide_type": "slide"
    }
   },
   "source": [
    "### Tipos de memória\n",
    "\n",
    "- A neurologia hoje reconhece várias memórias (episódica, semântica, icônica (MI), háptica, entre outras)\n",
    "- Quanto à temporalidade, duas classes importantes: \n",
    "    - _memória de curto prazo (MCP)_\n",
    "    - _memória de longo prazo (MLP)_\n",
    "- Informação recebida pelos olhos roteada pelo nervo óptico para a MI (_registro sensorial_)\n",
    "- Informação permanece na MI (< 1s) antes de passar para a MCP. \n",
    "- MCP similar à memória RAM (temporária e limitada)\n",
    "- Cérebro lida com pedaços da informação visual (parte armazenada; parte esquecida)"
   ]
  },
  {
   "cell_type": "markdown",
   "metadata": {
    "slideshow": {
     "slide_type": "slide"
    }
   },
   "source": [
    "#### Equilíbrio de estímulos\n",
    "\n",
    "- Trabalhar com RVs é equilibrar estímulos para a recepção da informação ser absorvida adequadaemente\n",
    "- Lado negativo é a \"exploração\" visual através do _marketing_ coercitivo (máxima atratividade). \n",
    "> A finalidade do projeto visual dará a direção a ser seguida, mas **sempre a audiência deve ter sua cognição minimamente respeitada**"
   ]
  },
  {
   "cell_type": "markdown",
   "metadata": {
    "slideshow": {
     "slide_type": "slide"
    }
   },
   "source": [
    "### Percepção não controlada \n",
    "\n",
    "- _Percepção não controlada_ (_pre-attentive perception_) refere-se a propriedades visuais detectadas rapidamente (em frações de segundo) antes do processo da percepção propriamente dita. \n",
    "- Manifesta-se durante a identificação imediata de elementos visuais"
   ]
  },
  {
   "cell_type": "markdown",
   "metadata": {
    "slideshow": {
     "slide_type": "slide"
    },
    "tags": [
     "remove-input"
    ]
   },
   "source": [
    "<img src=\"../figs/wordcloud.png\" width=\"600\" height=\"600\">\n"
   ]
  },
  {
   "cell_type": "markdown",
   "metadata": {
    "slideshow": {
     "slide_type": "slide"
    }
   },
   "source": [
    "### Propriedades não controladas\n",
    "\n",
    "- Podem ser postas em quatro categorias: \n",
    "    - _cor_\n",
    "    - _formato_\n",
    "    - _movimento_\n",
    "    - _posição espacial_\n",
    "   "
   ]
  },
  {
   "cell_type": "markdown",
   "metadata": {
    "slideshow": {
     "slide_type": "slide"
    }
   },
   "source": [
    "### Quanto à cor\n",
    "\n",
    "- Há três atributos principais, que definem o espaço primário de cores chamado de _HSL_ \n",
    "\n",
    "| Atributo    | Descrição |\n",
    "|:-------------|:---- |\n",
    "|Matiz (_Hue_)|Caracteriza o comprimento de onda dominante da cor (também chamado de tonalidade cromática)|\n",
    "|Saturação (_Saturation_)|Medida de pureza da cor, isto é, a quantidade de luz branca|\n",
    "|Luminância (_Lightness_)|Grau de brilho de uma imagem, em escala de branco a preto (também chamada de intensidade luminosa)|"
   ]
  },
  {
   "cell_type": "markdown",
   "metadata": {
    "slideshow": {
     "slide_type": "slide"
    }
   },
   "source": [
    "<img src=\"../figs/hsv-cone.png\" width=\"700\" height=\"700\">\n"
   ]
  },
  {
   "cell_type": "markdown",
   "metadata": {
    "slideshow": {
     "slide_type": "slide"
    }
   },
   "source": [
    "### Quanto ao formato\n",
    "\n",
    "- Há pelo menos dez atributos reconhecíveis\n",
    "\n",
    "| Atributo    | Exemplo |\n",
    "|:-------------|:---- |\n",
    "|Orientação |Linha destacando-se de outras por ter orientação diferente|\n",
    "|Comprimento|Gráfico com barras de comprimentos variáveis|\n",
    "|Largura|Largura de uma linha usada para destaque|\n",
    "|Tamanho|Tamanho de uma forma geométrica para destacar quantidade (elemento visual)|\n",
    "|Colinearidade|Linhas paralelas|\n",
    "|Curvatura|Contornos de formas|\n",
    "|Agrupamento|Objetos dispostos em grupos (clusters)|\n",
    "|Marcações|Anotações em objetos por meio de marcações|\n",
    "|Formato|Triângulo entre quadrados|\n",
    "|Numerosidade|Número de objetos (cardinalidade) em um grupo|"
   ]
  },
  {
   "cell_type": "markdown",
   "metadata": {
    "slideshow": {
     "slide_type": "slide"
    }
   },
   "source": [
    "<img src=\"../figs/atributos-preattentive.png\" width=\"500\" height=\"500\">"
   ]
  },
  {
   "cell_type": "markdown",
   "metadata": {
    "slideshow": {
     "slide_type": "slide"
    }
   },
   "source": [
    "### Quanto à posição espacial\n",
    "\n",
    "- Podemos detectar três atributos\n",
    "\n",
    "| Atributo    | Descrição |\n",
    "|:-------------|:---- |\n",
    "|Posição 2D |Codifica dados quantitativos em representações visuais|\n",
    "|Profundidade estereoscópica|Permite termos uma noção de profundidade espacial em uma imagem plana (ver [estereoscopia](https://pt.wikipedia.org/wiki/Estereoscopia)).|\n",
    "|Concavidade/convexidade|Cria efeitos de superfície através de sombreamentos.|"
   ]
  },
  {
   "cell_type": "markdown",
   "metadata": {
    "slideshow": {
     "slide_type": "slide"
    }
   },
   "source": [
    "### Concavidade/convexidade\n",
    "\n",
    "- Efeito produzido através de sombreamentos\n",
    "\n",
    "<img src=\"../figs/convexidade.png\" width=\"500\" height=\"500\">"
   ]
  },
  {
   "cell_type": "markdown",
   "metadata": {
    "slideshow": {
     "slide_type": "slide"
    }
   },
   "source": [
    "### Quanto ao movimento\n",
    "\n",
    "- Há dois atributos: _flickering_ e _motion_. \n",
    "\n",
    "- _Flickering_ pode ser abusivamente utilizado em páginas da internet. Quando monitores tremulam, alguns efeitos adversos aos olhos são cansaço, irritação e lacrimação. \n",
    "- _Motion_ é a característica básica de deslocamento de objetos em tela.\n",
    "\n",
    "| Atributo    | Descrição |\n",
    "|:-------------|:---- |\n",
    "|_Flickering_ |Objetos \"tremidos\" em websites com forte apelo visual ou _dashboards_|\n",
    "|_Motion_|Objetos em movimento.|"
   ]
  },
  {
   "cell_type": "markdown",
   "metadata": {
    "slideshow": {
     "slide_type": "slide"
    }
   },
   "source": [
    "### Flickering\n",
    "\n",
    "<img src=\"../figs/flickering.jpeg\" width=\"400\" height=\"400\">\n",
    "\n",
    "[Fonte](https://www.dpreview.com/forums/thread/3964319)"
   ]
  },
  {
   "cell_type": "markdown",
   "metadata": {
    "slideshow": {
     "slide_type": "slide"
    }
   },
   "source": [
    "<img src=\"../figs/flickering2.jpg\" width=\"500\" height=\"500\">\n",
    "\n",
    "[Fonte](https://hondatheotherside.com/dash-lights-flickering-car-wont-start/)"
   ]
  },
  {
   "cell_type": "markdown",
   "metadata": {},
   "source": [
    "### Combinação de atributos _preattentive_\n",
    "\n",
    "- A combinação desses atributos (imagem, luminosidade, formaDificultam\n",
    "\n",
    "<img src=\"../figs/combinacao-preattentive.png\" width=\"500\" height=\"500\">"
   ]
  },
  {
   "cell_type": "markdown",
   "metadata": {
    "slideshow": {
     "slide_type": "slide"
    }
   },
   "source": [
    "### Percepção controlada\n",
    "\n",
    "- A percepção controlada é consciente, sequencial, e lenta. \n",
    "- Dá-se pela procura de foco. \n",
    "- Para acentuar a diferença entre percepções, vejamos a figura abaixo. \n",
    "- Ambas as sequências de dígitos são idênticas.\n",
    "    - 1a. linha exige controle focal (percepção controlada)\n",
    "    - 2a. linha, não (percepção não controlada)"
   ]
  },
  {
   "cell_type": "code",
   "execution_count": 1,
   "metadata": {
    "slideshow": {
     "slide_type": "slide"
    },
    "tags": [
     "hide-input"
    ]
   },
   "outputs": [
    {
     "data": {
      "image/png": "[encoded data removed]",
      "text/plain": [
       "<Figure size 576x36 with 2 Axes>"
      ]
     },
     "metadata": {
      "filenames": {
       "image/png": "/Users/gustavo/Library/CloudStorage/Dropbox/courses/visualizacao-dados/DATAVIZ/_build/jupyter_execute/rise/05a-percepcao-rise_21_0.png"
      },
      "needs_background": "light"
     },
     "output_type": "display_data"
    }
   ],
   "source": [
    "import aux05a"
   ]
  },
  {
   "cell_type": "markdown",
   "metadata": {
    "slideshow": {
     "slide_type": "slide"
    }
   },
   "source": [
    "### Cegueira à mudança (_change blindness_)\n",
    "\n",
    "- O fenômeno ocorre quando, visualmente, somos incapazes de notar mudanças sensíveis no ambiente quando reposicionamos nosso foco instantaneamente de um objeto para outro. \n",
    "- Moldes de um \"jogo de 7 erros\"."
   ]
  },
  {
   "cell_type": "markdown",
   "metadata": {
    "slideshow": {
     "slide_type": "slide"
    }
   },
   "source": [
    "<img src=\"../figs/Globe_and_high_court_(Spot_the_difference).jpg\" width=\"1000\" height=\"700\">\n",
    "\n",
    "\n",
    "Atribuição: Globe_and_high_court.jpg, WikiCantona, CC BY-SA 3.0, via Wikimedia Commons."
   ]
  },
  {
   "cell_type": "markdown",
   "metadata": {
    "slideshow": {
     "slide_type": "slide"
    }
   },
   "source": [
    "### Relação entre adequabilidade de atributos e categoria de dados\n",
    "\n",
    "- Varia de acordo com a categoria dos dados\n",
    "- Os símbolos `-`, `+` e `++`, nesta ordem, significam _adequação insuficiente_, _adequação limitada_, _adequação suficiente_.\n",
    "\n",
    "|Categoria do atributo| Atributo | Quantitativo | Qualitativo categórico | Qualitativo não categórico  | \n",
    "|:-------------|:-----------|:-----------|:---------|:-----------|\n",
    "|Cor|Matiz| - | - | ++ |\n",
    "|Cor|Luminância| + | ++ | - |\n",
    "|Forma|Orientação| + | + | - |\n",
    "|Forma|Comprimento| ++ | + | - |\n",
    "|Forma|Largura| + | + | - |\n",
    "|Forma|Tamanho| + | + | - |\n",
    "|Forma|Colinearidade| - | - | - |"
   ]
  },
  {
   "cell_type": "markdown",
   "metadata": {
    "slideshow": {
     "slide_type": "slide"
    }
   },
   "source": [
    "|Categoria do atributo| Atributo | Quantitativo | Qualitativo categórico | Qualitativo não categórico  | \n",
    "|:-------------|:-----------|:-----------|:---------|:-----------|\n",
    "|Forma|Curvatura| + | + | - |\n",
    "|Forma|Agrupamento| - | - | - |\n",
    "|Forma|Marcações| - | - | ++ |\n",
    "|Forma|Formato| - | - | ++ |\n",
    "|Forma|Numerosidade| ++ | ++ | - |\n",
    "|Posição|Posição 2D| ++ | ++ | + |\n",
    "|Posição|Profundidade estereoscópica| - | - | - |\n",
    "|Posição|Concavidade<br>convexidade| + | + | - |\n",
    "|Movimento|Flickering| - | - | + |\n",
    "|Movimento|Motion| + | + | - |"
   ]
  },
  {
   "cell_type": "markdown",
   "metadata": {
    "slideshow": {
     "slide_type": "slide"
    }
   },
   "source": [
    "## Princípios da Gestalt\n",
    "\n",
    "- _Gestalt_, palavra alemã que, em tradução aproximada, seria algo como \"forma total\", é a alcunha de uma teoria também conhecida como _psicologia da forma_. \n",
    "- Explica que, como o ser humano enxerga o \"todo\" e não as \"partes\" do todo, aquilo que vemos é compreendido de forma diferente pela mente\n",
    "- Por esta razão, antes precisamos entender a totalidade, para então compreender a particularidade\n",
    "- A composição de elementos e formas induz concepções distintas daquilo que vemos"
   ]
  },
  {
   "cell_type": "markdown",
   "metadata": {
    "slideshow": {
     "slide_type": "slide"
    }
   },
   "source": [
    "<img src=\"../figs/gestalt.png\" width=\"700\" height=\"700\">"
   ]
  },
  {
   "cell_type": "markdown",
   "metadata": {
    "slideshow": {
     "slide_type": "slide"
    }
   },
   "source": [
    "<img src=\"../figs/gestalt-row1.png\" width=\"500\" height=\"500\">\n",
    "\n",
    "Na primeira linha, o que vemos? \n",
    "\n",
    "- Ao analisar seus elementos, podemos ter diversas percepções. \n",
    "- Na primeira linha, o primeiro objeto é um mero quadrado; \n",
    "- O segundo é um quadrado \"picotado\" em quatro; (abajur; minka japonesa ?)\n",
    "- O terceiro é o mesmo quadrado picotado em quatro partes, porém com vãos largos (vemos apenas um \"X\"?); \n",
    "- O último é um quadrado inserido em outro (vemos um  \"losango circunscrito\"?), porém girado. "
   ]
  },
  {
   "cell_type": "markdown",
   "metadata": {
    "slideshow": {
     "slide_type": "slide"
    }
   },
   "source": [
    "<img src=\"../figs/gestalt-row2.png\" width=\"500\" height=\"500\">\n",
    "\n",
    "Na segunda linha, o que vemos? \n",
    "\n",
    "- O primeiro objeto representa um abajur? Uma minka (casa japonesa)? \n",
    "- O segundo objeto representa uma casinha com neve no telhado? \n",
    "- O terceiro uma casinha com janelas? \n",
    "- O último uma fábrica com chaminé? "
   ]
  },
  {
   "cell_type": "markdown",
   "metadata": {},
   "source": [
    "> Alguns ou todos esses conceitos podem ter passado à mente, mas percebemos que todos os elementos gráficos são apenas composições de triângulos e quadrados?? \n",
    "\n",
    "> Esse efeito provocado pelas formas, que nos faz ver o todo e não as partes, à primeira vista, é o que a teoria da _Gestalt_ explica. Os princípios da Gestalt são aplicados ao _design_ até hoje para facilitar a comunicação das informações e, muitas vezes, de forma intuitiva."
   ]
  },
  {
   "cell_type": "markdown",
   "metadata": {
    "slideshow": {
     "slide_type": "slide"
    }
   },
   "source": [
    "### 6 princípios da Gestalt\n",
    "\n",
    "1. _Figura/Fundo_: o olho humano é capaz de distinguir entre o objeto núcleo e a área que o rodeia.\n",
    "2. _Continuidade_: o olho humano é compelido a \"seguir\" o objeto, movendo-se do início dele ao fim.\n",
    "3. _Proximidade_: quando dois objetos são postos juntos, o olho humano tende a percebê-los como um único grupo."
   ]
  },
  {
   "cell_type": "markdown",
   "metadata": {
    "slideshow": {
     "slide_type": "slide"
    }
   },
   "source": [
    "4. _Similaridade_: quando vários objetos tem aparência similar, o olho humano os percebe como um grupo ou padrão.\n",
    "5. _Fechamento_: o olho humano tende a perceber um objeto \"completo\" ou \"fechado\", mesmo quando é \"incompleto\" ou não perfeitamento \"fechado\".\n",
    "6. _Simetria e ordem_: também chamado de princípio da \"boa figura\" ou \"pregnância\" (do alemão _prägnanz_), manifesta-se quando o olho humano percebe formas ambíguas da maneira mais simples possível."
   ]
  },
  {
   "cell_type": "markdown",
   "metadata": {
    "slideshow": {
     "slide_type": "slide"
    }
   },
   "source": [
    "### Aplicações dos princípios da Gestalt \n",
    "\n",
    "<img src=\"../figs/gestalt-principles.png\" width=\"800\" height=\"800\">\n",
    "\n",
    "[Fonte](https://www.simplypsychology.org/what-is-gestalt-psychology.html)\n"
   ]
  }
 ],
 "metadata": {
  "celltoolbar": "Slideshow",
  "kernelspec": {
   "display_name": "Python 3",
   "language": "python",
   "name": "python3"
  },
  "language_info": {
   "codemirror_mode": {
    "name": "ipython",
    "version": 3
   },
   "file_extension": ".py",
   "mimetype": "text/x-python",
   "name": "python",
   "nbconvert_exporter": "python",
   "pygments_lexer": "ipython3",
   "version": "3.9.4"
  },
  "vscode": {
   "interpreter": {
    "hash": "62aa3616d1d4e8dca987b405e9154085c089eb3c5a17f4da4310667e0712ec96"
   }
  }
 },
 "nbformat": 4,
 "nbformat_minor": 2
}