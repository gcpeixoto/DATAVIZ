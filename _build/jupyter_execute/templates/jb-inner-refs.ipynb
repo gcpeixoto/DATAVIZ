{
 "cells": [
  {
   "attachments": {},
   "cell_type": "markdown",
   "metadata": {},
   "source": [
    "# Referências internas no JB\n",
    "\n",
    "## Seções\n",
    "\n",
    "- Label"
   ]
  },
  {
   "cell_type": "raw",
   "metadata": {},
   "source": [
    "(sec:nome-secao)=\n",
    "# Seção"
   ]
  },
  {
   "attachments": {},
   "cell_type": "markdown",
   "metadata": {},
   "source": [
    "- Chamada"
   ]
  },
  {
   "cell_type": "raw",
   "metadata": {},
   "source": [
    "{numref}`Seção %s <sec:nome-secao>`."
   ]
  },
  {
   "attachments": {},
   "cell_type": "markdown",
   "metadata": {},
   "source": [
    "## Figuras\n",
    "\n",
    "- Bloco"
   ]
  },
  {
   "cell_type": "raw",
   "metadata": {},
   "source": [
    "```{figure} path/file-name.x\n",
    "---\n",
    "name: fig-name\n",
    "alt: About it.\n",
    "align: center\n",
    "width: 500px\n",
    "---\n",
    "Caption here \n",
    "```"
   ]
  },
  {
   "attachments": {},
   "cell_type": "markdown",
   "metadata": {},
   "source": [
    "- Chamada"
   ]
  },
  {
   "attachments": {},
   "cell_type": "raw",
   "metadata": {},
   "source": [
    "{numref}`fig-name`"
   ]
  },
  {
   "attachments": {},
   "cell_type": "markdown",
   "metadata": {},
   "source": [
    "## Tabelas\n",
    "\n",
    "- Bloco"
   ]
  },
  {
   "attachments": {},
   "cell_type": "raw",
   "metadata": {},
   "source": [
    "```{table} Caption.\n",
    ":name: tbl-name\n",
    "\n",
    "| A | B | \n",
    "|:--|--:|\n",
    "| a | b |\n",
    "```"
   ]
  },
  {
   "attachments": {},
   "cell_type": "markdown",
   "metadata": {},
   "source": [
    "- Chamada"
   ]
  },
  {
   "cell_type": "raw",
   "metadata": {},
   "source": [
    "{numref}`Tabela %s <tbl-name>`"
   ]
  },
  {
   "attachments": {},
   "cell_type": "markdown",
   "metadata": {},
   "source": [
    "## Citações\n",
    "\n",
    "- Tendo o `refs.bib` com as devidas keys, cite com:"
   ]
  },
  {
   "attachments": {},
   "cell_type": "raw",
   "metadata": {},
   "source": [
    "{cite:p}`refkey` # verifique outros modos além de cite:p"
   ]
  },
  {
   "attachments": {},
   "cell_type": "markdown",
   "metadata": {},
   "source": [
    "## Referências bibliográficas por capítulo\n",
    "\n",
    "- No final do capítulo, use:"
   ]
  },
  {
   "cell_type": "raw",
   "metadata": {},
   "source": [
    "```{bibliography}\n",
    ":filter: docname in docnames\n",
    "```"
   ]
  }
 ],
 "metadata": {
  "kernelspec": {
   "display_name": "Python 3",
   "language": "python",
   "name": "python3"
  },
  "language_info": {
   "codemirror_mode": {
    "name": "ipython",
    "version": 3
   },
   "file_extension": ".py",
   "mimetype": "text/x-python",
   "name": "python",
   "nbconvert_exporter": "python",
   "pygments_lexer": "ipython3",
   "version": "3.10.8"
  },
  "vscode": {
   "interpreter": {
    "hash": "b0fa6594d8f4cbf19f97940f81e996739fb7646882a419484c72d19e05852a7e"
   }
  }
 },
 "nbformat": 4,
 "nbformat_minor": 2
}