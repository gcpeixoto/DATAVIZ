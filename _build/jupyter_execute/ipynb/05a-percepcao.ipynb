{
 "cells": [
  {
   "cell_type": "markdown",
   "metadata": {},
   "source": [
    "# Percepção Visual\n",
    "\n",
    "Estudos científicos mostram que cerca de 70% da informação captada por um humano ocorre por meio da visão e os outros 30% dividem-se entre os demais receptores sensoriais (audição, olfato, paladar e tato). Adquirir algum conhecimento sobre a mecânica da visão é útil para que saibamos construir melhor nossas representações visuais e desenvolver projetos visuais melhores. Não é por acaso que termos como _insight_, _iluminação_ e _esclarecimento_, todos relacionados à visão, são utilizados para dar sentido de recebimento de informação e trazer descrições apuradas sobre algo. Por esta razão, percepção visual e visualização de dados são assuntos vinculados. "
   ]
  },
  {
   "cell_type": "markdown",
   "metadata": {},
   "source": [
    "## A mecânica da visão\n",
    "\n",
    "A mecânica da visão pode ser dividida em dois estágios principais:\n",
    "\n",
    "1. _Sensação_ (processo físico): ocorre quando nossos olhos são estimulados por um objeto emissor ou refletor de luz.\n",
    "2. _Percepção_ (processo cognitivo): ocorre com a entrada de luz pelos olhos, a qual é absorvida por células nervosas que a traduzem em sinais neurais (pulsos eletroquímicos) que são transmitidos diretamente ao cérebro, onde aquilo que foi sentido torna-se percebido. \n",
    "\n",
    "No centro de nossas retinas encontra-se a _fóvea_, região onde são reconhecidos os diferentes espectros de cor (vermelho, azul ou verde) e onde a acuidade visual é máxima. Entretanto, a fóvea é capaz de focar em apenas uma área limitada durante um intervalo de tempo. Quando nossos olhos fixam-se em um ponto particular e observamos seus detalhes, outros eventos podem passar despercebidos pelo nosso campo de visão. Por esta razão, quando construímos uma representação visual abarrotada de cores e elementos, os olhos do espectador ficam dispersos e sem saber para onde direcionar o foco.\n",
    "\n",
    "### Tipos de memória\n",
    "\n",
    "A neurologia hoje reconhece diversos tipos de memória, tais como episódica, semântica, icônica, háptica, entre outras. Quanto à temporalidade, há duas classes importantes: a _memória de curto prazo (MCP)_ e a _memória de longo prazo (MLP)_.  \n",
    "\n",
    "Toda informação recebida pelos olhos é, primeiramente, roteada pelo nervo óptico para a memória icônica (MI), também chamada de _registro sensorial_. A informação permanece na MI por menos de um segundo antes de passar para a MCP. A MCP é similar à memoria RAM de um computador. Ela é temporária e com capacidade de armazenamento limitada. O cérebro lida com pedaços da informação visual. Parte é armazenada e parte é esquecida. Quando de fato, aprendemos, o que fazemos é transferir a informação da MCP para a MLP. Assim, para que uma informação seja seguramente transferida e aprendida, é preciso treinar o nosso cérebro para \"esculpir\" a informação em nossa MLP. A MLP é, portanto, uma analogia do disco rígido do computador.\n",
    "\n",
    "Trabalhar com produtos visuais é, de certa forma, equilibrar estímulos para que o receptor da informação possa capturar a informação e absorvê-la de forma adequada. O lado negativo disso é a \"exploração\" visual através do _marketing_ coercitivo, que propõe máxima atratividade ao público. A finalidade do projeto visual dará a direção a ser seguida, mas sempre deve-se ter em mente que a audiência deve ter sua cognição minimamente respeitada."
   ]
  },
  {
   "cell_type": "markdown",
   "metadata": {},
   "source": [
    "### Percepção não controlada \n",
    "\n",
    "O termo _percepção não controlada_ (_pre-attentive perception_) é usado para se referir a propriedades visuais que são detectadas rapidamente (em frações de segundo) antes do processo da percepção propriamente dita. Este tipo de percepção manifesta-se, por exemplo, durante a identificação imediata de elementos visuais ({numref}`fig-wordcloud`). "
   ]
  },
  {
   "cell_type": "code",
   "execution_count": 1,
   "metadata": {
    "tags": [
     "remove-input"
    ]
   },
   "outputs": [],
   "source": [
    "# Para geração da nuvem de palavras é necessário instalar o `wordcloud` \n",
    "# através do comando `pip install wordcloud`. \n",
    "# Para geração de texto randomizado é necessário instalar o `lipsum` \n",
    "# através do comando `pip install lipsum`.\n",
    "\n",
    "import lipsum\n",
    "import numpy as np\n",
    "import matplotlib.pyplot as plt\n",
    "from wordcloud import WordCloud, get_single_color_func\n",
    "\n",
    "# https://amueller.github.io/word_cloud/auto_examples/colored_by_group.html\n",
    "class GroupedColorFunc(object):\n",
    "    \"\"\"Create a color function object which assigns DIFFERENT SHADES of\n",
    "       specified colors to certain words based on the color to words mapping.\n",
    "\n",
    "       Uses wordcloud.get_single_color_func\n",
    "\n",
    "       Parameters\n",
    "       ----------\n",
    "       color_to_words : dict(str -> list(str))\n",
    "         A dictionary that maps a color to the list of words.\n",
    "\n",
    "       default_color : str\n",
    "         Color that will be assigned to a word that's not a member\n",
    "         of any value from color_to_words.\n",
    "    \"\"\"\n",
    "\n",
    "    def __init__(self, color_to_words, default_color):\n",
    "        self.color_func_to_words = [\n",
    "            (get_single_color_func(color), set(words))\n",
    "            for (color, words) in color_to_words.items()]\n",
    "\n",
    "        self.default_color_func = get_single_color_func(default_color)\n",
    "\n",
    "    def get_color_func(self, word):\n",
    "        \"\"\"Returns a single_color_func associated with the word\"\"\"\n",
    "        try:\n",
    "            color_func = next(\n",
    "                color_func for (color_func, words) in self.color_func_to_words\n",
    "                if word in words)\n",
    "        except StopIteration:\n",
    "            color_func = self.default_color_func\n",
    "\n",
    "        return color_func\n",
    "\n",
    "    def __call__(self, word, **kwargs):\n",
    "        return self.get_color_func(word)(word, **kwargs)\n",
    "\n",
    "\n",
    "# função para gerar figura da wordcloud\n",
    "def render_wordcloud(text_file):\n",
    "    \n",
    "    with open(text_file,'r') as o:\n",
    "        text = o.read()\n",
    "        \n",
    "    wc = WordCloud(max_words=10,margin=0).generate(text)\n",
    "    \n",
    "    # A key para cores de destaque pode ser HEX\n",
    "    # Use lista de strings para highlight\n",
    "    highlight = {'red': ['et']} \n",
    "    lowlight = 'white'\n",
    "    \n",
    "    # recolorir\n",
    "    grp_color = GroupedColorFunc(highlight, lowlight)\n",
    "    wc.recolor(color_func=grp_color)\n",
    "    \n",
    "    # imagem\n",
    "    plt.imshow(wc,interpolation='bilinear')\n",
    "    plt.axis('off')\n",
    "    plt.savefig('../figs/wordcloud.png')\n",
    "\n",
    "#render_wordcloud('../data/random-text.txt')"
   ]
  },
  {
   "cell_type": "markdown",
   "metadata": {},
   "source": [
    "```{figure} ../figs/wordcloud.png\n",
    "---\n",
    "name: fig-wordcloud\n",
    "alt: Nuvem de palavras. \n",
    "align: center\n",
    "width: 500px\n",
    "---\n",
    "Nuvem de palavras. Nossos olhos detectam rapidamente a palavra _et_ em vermelho.\n",
    "```"
   ]
  },
  {
   "cell_type": "markdown",
   "metadata": {},
   "source": [
    "#### Propriedades não controladas\n",
    "\n",
    "Segundo Colin Ware {cite:p}`ware2019information`, essas propriedades podem ser postas em quatro categorias: _cor_, _formato_, _movimento_ e _posição espacial_. \n",
    "\n",
    "Quanto à cor, há três atributos principais, que definem o espaço primário de cores chamado de _HSL_ ({numref}`Tabela %s <tbl-atributos-cor>`). Discutiremos cores com mais detalhes em um capítulo específico. \n",
    "\n",
    "```{table} Atributos não controlados de cor.\n",
    ":name: tbl-atributos-cor\n",
    "\n",
    "| Atributo    | Descrição |\n",
    "|:-------------|:---- |\n",
    "|Matiz (_Hue_)|Caracteriza o comprimento de onda dominante da cor (também chamado de tonalidade cromática)|\n",
    "|Saturação (_Saturation_)|Medida de pureza da cor, isto é, a quantidade de luz branca|\n",
    "|Luminância (_Lightness_)|Grau de brilho de uma imagem, em escala de branco a preto (também chamada de intensidade luminosa)|\n",
    "```\n",
    "\n",
    "Quanto ao formato, há pelo menos dez atributos reconhecíveis, dos quais alguns já apresentamos ({numref}`Tabela %s <tbl-atributos-forma>`).\n",
    "\n",
    "```{table} Atributos não controlados de formato.\n",
    ":name: tbl-atributos-forma\n",
    "\n",
    "| Atributo    | Exemplo |\n",
    "|:-------------|:---- |\n",
    "|Orientação |Linha destacando-se de outras por ter orientação diferente|\n",
    "|Comprimento|Gráfico com barras de comprimentos variáveis|\n",
    "|Largura|Largura de uma linha usada para destaque|\n",
    "|Tamanho|Tamanho de uma forma geométrica para destacar quantidade (elemento visual)|\n",
    "|Colinearidade|Linhas paralelas|\n",
    "|Curvatura|Contornos de formas|\n",
    "|Agrupamento|Objetos dispostos em grupos (clusters)|\n",
    "|Marcações|Anotações em objetos por meio de marcações|\n",
    "|Formato|Triângulo entre quadrados|\n",
    "|Numerosidade|Número de objetos (cardinalidade) em um grupo|\n",
    "```\n",
    "\n",
    "Quanto à posição espacial, podemos detectar três atributos ({numref}`Tabela %s <tbl-atributos-posicao>`).\n",
    "\n",
    "```{table} Atributos não controlados de posição espacial.\n",
    ":name: tbl-atributos-posicao\n",
    "\n",
    "| Atributo    | Descrição |\n",
    "|:-------------|:---- |\n",
    "|Posição 2D |Codifica dados quantitativos em representações visuais|\n",
    "|Profundidade estereoscópica|Permite termos uma noção de profundidade espacial em uma imagem plana (ver [estereoscopia](https://pt.wikipedia.org/wiki/Estereoscopia)).|\n",
    "|Concavidade/convexidade|Cria efeitos de superfície através de sombreamentos.|\n",
    "```\n",
    "\n",
    "Quanto ao movimento, há dois atributos ({numref}`Tabela %s <tbl-atributos-movimento>`): _flickering_ e _motion_. O _flickering_ pode ser abusivamente utilizado em páginas da internet. Quando monitores tremulam, alguns efeitos adversos aos olhos são cansaço, irritação e lacrimação. _Motion_ é a característica básica de deslocamento de objetos em tela.\n",
    "\n",
    "```{table} Atributos não controlados de movimento.\n",
    ":name: tbl-atributos-movimento\n",
    "\n",
    "| Atributo    | Descrição |\n",
    "|:-------------|:---- |\n",
    "|_Flickering_ |Objetos \"tremidos\" em websites com forte apelo visual ou _dashboards_|\n",
    "|_Motion_|Objetos em movimento.|\n",
    "```"
   ]
  },
  {
   "cell_type": "markdown",
   "metadata": {},
   "source": [
    "### Percepção controlada\n",
    "\n",
    "A percepção controlada é consciente, sequencial, e lenta. Dá-se pela procura de foco. Para acentuar a diferença entre percepções, vejamos a figura abaixo, em contexto similar ao da anterior. Ambas as sequências de dígitos são idênticas. Se fôssemos procurar por todas as aparições do dígito \"5\" na primeira linha demoraríamos muito mais do que na segunda, na qual as aparições estão destacadas em preto. Ou seja, analisar a primeira linha exigirá de nós um certo controle focal; a segunda linha, não. No primeiro caso, a percepção controlada predomina, ao passo que no segundo predomina a não controlada."
   ]
  },
  {
   "cell_type": "code",
   "execution_count": 2,
   "metadata": {
    "tags": [
     "hide-input"
    ]
   },
   "outputs": [
    {
     "data": {
      "image/png": "[encoded data removed]",
      "text/plain": [
       "<Figure size 800x50 with 2 Axes>"
      ]
     },
     "metadata": {
      "filenames": {
       "image/png": "/Users/gustavo/Dropbox/courses/visualizacao-dados/DATAVIZ/_build/jupyter_execute/ipynb/05a-percepcao_7_0.png"
      }
     },
     "output_type": "display_data"
    }
   ],
   "source": [
    "import matplotlib.pyplot as plt\n",
    "import numpy as np\n",
    "\n",
    "# gera sequencia aleatória\n",
    "np.random.seed(10)\n",
    "text = np.random.randint(0,9,80)\n",
    "\n",
    "# casting\n",
    "ss = ''\n",
    "for si in text:\n",
    "    ss += str(si)\n",
    "text = ss; del ss\n",
    "\n",
    "# figura\n",
    "fig, ax = plt.subplots(2,1,figsize=(8,0.5),constrained_layout=True)\n",
    "ax[0].set_xlim(0,1)\n",
    "ax[0].axis('off'); \n",
    "ax[1].axis('off')\n",
    "\n",
    "# anotação\n",
    "x = 0.01; dx = 0.02\n",
    "for si in text:\n",
    "    ax[0].text(x=x,y=0.5,s=si,fontsize=10,va='center',color='gray')\n",
    "    if si == '5':\n",
    "        ax[1].text(x=x,y=0.5,s=si,fontsize=10,va='center',color='r')\n",
    "    else:\n",
    "        ax[1].text(x=x,y=0.5,s=si,fontsize=10,va='center',color='gray')\n",
    "    x += dx"
   ]
  },
  {
   "cell_type": "markdown",
   "metadata": {},
   "source": [
    "### Cegueira à mudança (_change blindness_)\n",
    "\n",
    "O fenômeno da \"cegueira à mudança\" (_change blindness_) ocorre quando, visualmente, somos incapazes de notar mudanças sensíveis no ambiente quando reposicionamos nosso foco instantaneamente de um objeto para outro. Por exemplo, se passarmos um período de tempo observando fixamente uma fotografia e, durante o nosso piscar de olhos, alguém alterá-la de maneira sutil, é bastante provável que não captemos a mudança. Esta incapacidade momentânea de perceber a mudança é similar a uma cegueira temporária. \n",
    "\n",
    "Detalhes de duas cenas iguais são, em geral, lembrados apenas quando se olha para áreas específicas. Existem resultados científicos que mostram que um espectador pode olhar várias vezes para uma imagem suficientemente \"poluída\" e não compreender a totalidade da informação, mesmo depositando nela plena atenção focal. Em outras palavras, a atenção não tem efeitos cumulativos sobre a percepção. Isto significa que projetos visuais devem dar à audiência indicações claras do que se quer destacar. As imagens na {numref}`fig-globe` abaixo retratam o fenômeno da _change blindness_. Nelas existem vários objetos sutis que escapam a uma piscadela de olhos e que não estão presentes, em particular, na imagem à direita, nos mesmos moldes de um \"jogo de 7 erros\". Deixamos ao leitor a identificação desses objetos, localizáveis apenas por percepção controlada."
   ]
  },
  {
   "cell_type": "markdown",
   "metadata": {},
   "source": [
    "```{figure} ../figs/Globe_and_high_court_(Spot_the_difference).jpg\n",
    "---\n",
    "name: fig-globe\n",
    "alt: Imagens retratando o fenômeno da cegueira à mudança.\n",
    "align: center\n",
    "width: 650px\n",
    "---\n",
    "Imagens retratando o fenômeno da \"cegueira à mudança\". Atribuição: Globe_and_high_court.jpg, WikiCantona, CC BY-SA 3.0, via Wikimedia Commons.\n",
    "```"
   ]
  },
  {
   "cell_type": "markdown",
   "metadata": {},
   "source": [
    "A adequação dos atributos de percepção às representações visuais varia de acordo com a categoria dos dados, como vemos na {numref}`Tabela %s <tbl-atributos-adequacao>`). Os símbolos `-`, `+` e `++`, nesta ordem, significam _adequação insuficiente_, _adequação limitada_, _adequação suficiente_.\n",
    "\n",
    "```{table} Relação entre adequabilidade de atributos e categoria de dados.\n",
    ":name: tbl-atributos-adequacao\n",
    "\n",
    "|Categoria do atributo| Atributo | Quantitativo | Qualitativo categórico | Qualitativo não categórico  | \n",
    "|:-------------|:-----------|:-----------|:---------|:-----------|\n",
    "|Cor|Matiz| - | - | ++ |\n",
    "|Cor|Luminância| + | ++ | - |\n",
    "|Forma|Orientação| + | + | - |\n",
    "|Forma|Comprimento| ++ | + | - |\n",
    "|Forma|Largura| + | + | - |\n",
    "|Forma|Tamanho| + | + | - |\n",
    "|Forma|Colinearidade| - | - | - |\n",
    "|Forma|Curvatura| + | + | - |\n",
    "|Forma|Agrupamento| - | - | - |\n",
    "|Forma|Marcações| - | - | ++ |\n",
    "|Forma|Formato| - | - | ++ |\n",
    "|Forma|Numerosidade| ++ | ++ | - |\n",
    "|Posição|Posição 2D| ++ | ++ | + |\n",
    "|Posição|Profundidade estereoscópica| - | - | - |\n",
    "|Posição|Concavidade<br>convexidade| + | + | - |\n",
    "|Movimento|Flickering| - | - | + |\n",
    "|Movimento|Motion| + | + | - |\n",
    "```"
   ]
  },
  {
   "attachments": {},
   "cell_type": "markdown",
   "metadata": {},
   "source": [
    "## Princípios da Gestalt\n",
    "\n",
    "_Gestalt_, palavra alemã que, em tradução aproximada, seria algo como \"forma total\", é a alcunha de uma teoria também conhecida como _psicologia da forma_. Ela explica que, como o ser humano enxerga o \"todo\" e não as \"partes\" do todo, aquilo que vemos é compreendido de forma diferente pela mente e, por esta razão, antes precisamos entender a totalidade, para então compreender a particularidade.\n",
    "\n",
    "A composição de elementos e formas permite que formemos concepções distintas daquilo que vemos e não percebamos particularidades. Vejamos a {numref}`fig-gestalt`. Ao analisar seus elementos, podemos ter diversas percepções. Na primeira linha, o primeiro objeto é um mero quadrado; o segundo é um quadrado \"picotado\" em quatro; o terceiro é o mesmo quadrado picotado em quatro partes, porém com vãos largos (vemos apenas um \"X\"?); o último é um quadrado inserido em outro (vemos um  \"losango circunscrito\"?), porém girado. \n",
    "\n",
    "```{figure} ../figs/gestalt.png\n",
    "---\n",
    "name: fig-gestalt\n",
    "alt: Composições de formas e efeitos sobre a percepção (teoria da Gestalt).\n",
    "align: center\n",
    "width: 500px\n",
    "---\n",
    "Composições de formas e efeitos sobre a percepção (teoria da Gestalt). Preparada por: G. P. Oliveira.\n",
    "```\n",
    "\n",
    "\n",
    "Na segunda linha, o que vemos? O primeiro objeto representa um abajur? Uma minka (casa japonesa)? O segundo objeto representa uma casinha com neve no telhado? O terceiro uma casinha com janelas? O último uma fábrica com chaminé? Alguns ou todos esses conceitos podem ter passado pela sua cabeça. Mas será que você percebeu que todos os elementos gráficos são apenas composições de triângulos e quadrados? \n",
    "\n",
    "Esse efeito provocado pelas formas, que nos faz ver o todo e não as partes, à primeira vista, é o que a teoria da _Gestalt_ explica. Os princípios da Gestalt são aplicados ao _design_ até hoje para facilitar a comunicação das informações e, muitas vezes, de forma intuitiva.\n",
    "\n",
    "É possível encontrar os princípios da Gestalt declarados de forma variada hoje em dia. Neste texto, atentaremos para seis:\n",
    "\n",
    "1. _Figura/Fundo_: o olho humano é capaz de distinguir entre o objeto núcleo e a área que o rodeia.\n",
    "2. _Continuidade_: o olho humano é compelido a \"seguir\" o objeto, movendo-se do início dele ao fim.\n",
    "3. _Proximidade_: quando dois objetos são postos juntos, o olho humano tende a percebê-los como um único grupo.\n",
    "4. _Similaridade_: quando vários objetos tem aparência similar, o olho humano os percebe como um grupo ou padrão.\n",
    "5. _Fechamento_: o olho humano tende a perceber um objeto \"completo\" ou \"fechado\", mesmo quando é \"incompleto\" ou não perfeitamento \"fechado\".\n",
    "6. _Simetria e ordem_: também chamado de princípio da \"boa figura\" ou \"pregnância\" (do alemão _prägnanz_), manifesta-se quando o olho humano percebe formas ambíguas da maneira mais simples possível.\n",
    "\n",
    "Aplicações desses princípios são exploradas na {numref}`fig-gestalt-principles`, adaptada desta [página](https://www.simplypsychology.org/what-is-gestalt-psychology.html).\n",
    "\n",
    "```{figure} ../figs/gestalt-principles.png\n",
    "---\n",
    "name: fig-gestalt-principles\n",
    "alt: Princípio da Gestalt.\n",
    "align: center\n",
    "width: 650px\n",
    "---\n",
    "Princípio fundamentais da Gestal. Preparada por: G. P. Oliveira.\n",
    "```"
   ]
  },
  {
   "cell_type": "markdown",
   "metadata": {},
   "source": [
    "## Referências\n",
    "\n",
    "```{bibliography}\n",
    ":filter: docname in docnames\n",
    "```"
   ]
  }
 ],
 "metadata": {
  "kernelspec": {
   "display_name": "Python 3.9.13 ('dataviz')",
   "language": "python",
   "name": "python3"
  },
  "language_info": {
   "codemirror_mode": {
    "name": "ipython",
    "version": 3
   },
   "file_extension": ".py",
   "mimetype": "text/x-python",
   "name": "python",
   "nbconvert_exporter": "python",
   "pygments_lexer": "ipython3",
   "version": "3.9.13"
  },
  "vscode": {
   "interpreter": {
    "hash": "62aa3616d1d4e8dca987b405e9154085c089eb3c5a17f4da4310667e0712ec96"
   }
  }
 },
 "nbformat": 4,
 "nbformat_minor": 2
}