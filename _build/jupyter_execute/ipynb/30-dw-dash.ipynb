{
 "cells": [
  {
   "attachments": {},
   "cell_type": "markdown",
   "metadata": {},
   "source": [
    "# _Dataviz Workshop_: _Dashboarding_ com _Dash_"
   ]
  },
  {
   "attachments": {},
   "cell_type": "markdown",
   "metadata": {},
   "source": [
    "## Objetivos do workshop\n",
    "\n",
    "- Apresentar o ecossistema _Dash_ para criação de aplicações web para exploração e visualização de dados;\n",
    "- Compreender o processo básico de criação de um _dashboard_ utilizando _Dash_;\n",
    "- Desenvolver um _dashboard_ simples para exploração de dados sobre crimes violentos letais intencionais em João Pessoa."
   ]
  },
  {
   "attachments": {},
   "cell_type": "markdown",
   "metadata": {},
   "source": [
    "## Ferramentas utilizadas\n",
    "\n",
    "- Módulos Python    \n",
    "    - `dash`\n",
    "    - `dash_bootstrap_components`\n",
    "    - `plotly`\n",
    "    - `os`\n",
    "    - `pandas`\n",
    "    - `python` (interpretador)"
   ]
  },
  {
   "attachments": {},
   "cell_type": "markdown",
   "metadata": {},
   "source": [
    "## Sobre o _Dash_"
   ]
  },
  {
   "attachments": {},
   "cell_type": "markdown",
   "metadata": {},
   "source": [
    "> _Dash is the original low-code framework for rapidly building data apps in Python._\n",
    "\n",
    "- Ou seja, _Dash_ é um ecossistema que nos permite criar aplicações para exploração e visualização de dados para a web de forma rápida e totalmente em Python. \n",
    "\n",
    "- Basicamente, o _Dash_ é uma possui três componentes fundamentais:\n",
    "    - [_Flask_](https://flask.palletsprojects.com/en/2.3.x/): a ferramenta de _backend_;\n",
    "    - [_Plotly_](https://plotly.com/python/): a feramenta que provê as bibliotecas de plotagem (em nosso caso, usamos Python);\n",
    "    - [_React_](https://react.dev): a ferramenta que fornece o arcabouço interativo e de _frontend_;\n",
    "\n",
    "- Uma vez que o Dash tem a vantagem de facilitar o desenvolvimento de aplicações puramente em Python, não é necessário conhecer profundamente HTML, CSS ou Javascript, por exemplo.\n",
    "\n",
    "- Figuras feitas em matplotlib podem ser convertidas para _Dash_ com \n",
    "`plotly.tools.mpl_to_plotly` (checar)"
   ]
  },
  {
   "attachments": {},
   "cell_type": "markdown",
   "metadata": {},
   "source": [
    "### Instalação\n",
    "\n",
    "É recomendável instalar o _Dash_ através do _pip_: `pip install dash`."
   ]
  },
  {
   "attachments": {},
   "cell_type": "markdown",
   "metadata": {},
   "source": [
    "### Pacotes essenciais\n",
    "\n",
    "O _Dash_ contém alguns pacotes essenciais dedicados a funcionalidades específicas, a saber:\n",
    "- `Dash`: pacote principal e _backbone_ de qualquer aplicação a ser criada;\n",
    "- `Dash Core Components`: pacote de componentes interativas de manipulação (botões, _dropdowns_, _sliders_ etc.);\n",
    "- `Dash HTML Components`: pacote que fornece elementos HTML como classes Python;\n",
    "- `Dash Bootstrap Components`: pacote mantido por terceiros que cuida das opções _bootstrap_ (controle visual, opções de layout, interface etc.)"
   ]
  },
  {
   "attachments": {},
   "cell_type": "markdown",
   "metadata": {},
   "source": [
    "### Processo geral de criação de apps em Dash\n",
    "\n",
    "- _Importações_ (_boilerplate_): receita básica de importação de módulos.\n",
    "- _Instanciamento_: criação do app via `Dash`;\n",
    "- _Chamada de layout_: formação dos contêineres e elementos básicos do _frontend_, principalmente via HTML. \n",
    "- _Chamada de callbacks_: uso de decoradores Python que se aplicam a funções mais genéricas que tratam da disposição das representações visuais e da interatividade.\n",
    "- _Execução_: _deployment_ via comando Python.\n"
   ]
  },
  {
   "attachments": {},
   "cell_type": "markdown",
   "metadata": {},
   "source": [
    "## Exemplos\n",
    "\n",
    "Os exemplos são gerados por execução dos scripts acessórios localizados no diretório `dw`.\n",
    "\n",
    "\n",
    "- Demonstração básica: `python ../dw/dw1a.py`\n",
    "- Plataforma CVLI: `python ../dw/dw1b.py`"
   ]
  },
  {
   "attachments": {},
   "cell_type": "markdown",
   "metadata": {},
   "source": [
    "### Execução com _JupyterDash_\n",
    "\n",
    "A execução diretamente via Jupyter notebook pode ser feita com a ajuda do módulo [JupyterDash](https://github.com/plotly/jupyter-dash) por meio da opção `app.run_server(mode='inline')`. Abaixo, criamos um _demo app_ nesses moldes."
   ]
  },
  {
   "cell_type": "code",
   "execution_count": 6,
   "metadata": {
    "tags": [
     "remove-output"
    ]
   },
   "outputs": [
    {
     "name": "stdout",
     "output_type": "stream",
     "text": [
      "Dash is running on http://127.0.0.1:8050/\n",
      "\n"
     ]
    },
    {
     "data": {
      "text/html": [
       "\n",
       "<iframe\n",
       "    width=\"100%\"\n",
       "    height=\"650\"\n",
       "    src=\"http://127.0.0.1:8050/\"\n",
       "    frameborder=\"0\"\n",
       "    allowfullscreen\n",
       "\n",
       "></iframe>\n"
      ],
      "text/plain": [
       "<IPython.lib.display.IFrame at 0x7ff450767ca0>"
      ]
     },
     "metadata": {},
     "output_type": "display_data"
    }
   ],
   "source": [
    "# boilerplate imports \n",
    "import plotly.express as px\n",
    "from jupyter_dash import JupyterDash\n",
    "from dash import html, dcc, Output, Input\n",
    "from pandas import read_csv\n",
    "\n",
    "# carrega dados\n",
    "df = read_csv('https://raw.githubusercontent.com/plotly/datasets/master/gapminder_unfiltered.csv')\n",
    "\n",
    "# constroi app\n",
    "app = JupyterDash(__name__)\n",
    "app.layout = html.Div([\n",
    "    html.H1(children='Crescimento populacional por país', \n",
    "            style={'color':'#117029'}),\n",
    "    dcc.Dropdown(df.country.unique(), 'Brazil', id='dropdown-selection'),\n",
    "    dcc.Graph(id='graph-content')\n",
    "])\n",
    "\n",
    "# callback de atualização\n",
    "@app.callback(\n",
    "    Output('graph-content', 'figure'),\n",
    "    Input('dropdown-selection', 'value')\n",
    ")\n",
    "def update_graph(value):\n",
    "    dff = df[df.country==value]\n",
    "    return px.line(dff, x='year', y='pop')\n",
    "\n",
    "# executa app e mostra resultado inline\n",
    "app.run_server(mode='inline')"
   ]
  },
  {
   "attachments": {},
   "cell_type": "markdown",
   "metadata": {},
   "source": [
    "### Modos de visualização\n",
    "\n",
    "Há três modos disponíveis para visualizar um app com JupyterDash:\n",
    "\n",
    "- `app.run_server(mode='external')`: saída para browser.\n",
    "- `app.run_server(mode='inline')`: saída para notebook.\n",
    "- `app.run_server(mode='jupyterlab')`: saída para JupyterLab."
   ]
  },
  {
   "attachments": {},
   "cell_type": "markdown",
   "metadata": {},
   "source": [
    "## Referências\n",
    "\n",
    "- [Dash User Guide](https://dash.plotly.com)\n",
    "- [Introducing JupyterDash](https://medium.com/plotly/introducing-jupyterdash-811f1f57c02e)"
   ]
  }
 ],
 "metadata": {
  "kernelspec": {
   "display_name": "dataviz",
   "language": "python",
   "name": "python3"
  },
  "language_info": {
   "codemirror_mode": {
    "name": "ipython",
    "version": 3
   },
   "file_extension": ".py",
   "mimetype": "text/x-python",
   "name": "python",
   "nbconvert_exporter": "python",
   "pygments_lexer": "ipython3",
   "version": "3.9.13"
  }
 },
 "nbformat": 4,
 "nbformat_minor": 2
}