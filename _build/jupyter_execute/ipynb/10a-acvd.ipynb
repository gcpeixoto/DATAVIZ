{
 "cells": [
  {
   "cell_type": "markdown",
   "metadata": {},
   "source": [
    "# Análise de Casos de Visualização de Dados - ACVD\n",
    "\n",
    "Siga este documento orientador para saber como organizar-se para a avaliação do Módulo 1 do curso.\n",
    "\n",
    "## Orientações Gerais\n",
    "\n",
    "### Definição \n",
    "\n",
    "A Análise de Casos de Visualização de Dados (ACVD) é um método baseado em análise crítica e julgamento de representações visuais aplicáveis a diversos segmentos, tais como educação, esporte, indústria e serviços.\n",
    "\n",
    "### Objetivo \n",
    "\n",
    "Analisar representações visuais reais sob o ponto de vista dos princípios fundamentais teóricos e técnicos da visualização de dados cobertos no curso.\n",
    "\n",
    "### Escopo\n",
    "\n",
    "Para a ACVD, será coberto todo o conteúdo do módulo 1, sendo os Capítulos de {numref}`%s <cap:estetica>` a {numref}`%s <cap:storytelling>` imprescindíveis.\n",
    "\n",
    "### Metodologia de avaliação\n",
    "\n",
    "Quiz com questões de número variável contendo, no máximo, 4 opções de resposta, com apenas uma alternativa correta, aplicado individualmente sem possibilidade de consulta a materiais externos.\n",
    "\n",
    "### Nota\n",
    "\n",
    "Na ACVD, a ênfase não estará na técnica (linguagem de programação ou método usado para a construção das RVs), mas na capacidade de reflexão, observação, análise, compreensão e introspecção dos conceitos de visualização de dados."
   ]
  },
  {
   "cell_type": "markdown",
   "metadata": {},
   "source": [
    "### Critério de avaliação\n",
    "\n",
    "Objetivo, pela pontuação das questões do quiz, cujos valores individuais podem variar. Logo, a nota da ACVD será dada na escala de 0 a 10 por soma simples."
   ]
  }
 ],
 "metadata": {
  "kernelspec": {
   "display_name": "Python 3 (ipykernel)",
   "language": "python",
   "name": "python3"
  },
  "language_info": {
   "codemirror_mode": {
    "name": "ipython",
    "version": 3
   },
   "file_extension": ".py",
   "mimetype": "text/x-python",
   "name": "python",
   "nbconvert_exporter": "python",
   "pygments_lexer": "ipython3",
   "version": "3.9.16"
  },
  "vscode": {
   "interpreter": {
    "hash": "b0fa6594d8f4cbf19f97940f81e996739fb7646882a419484c72d19e05852a7e"
   }
  }
 },
 "nbformat": 4,
 "nbformat_minor": 2
}