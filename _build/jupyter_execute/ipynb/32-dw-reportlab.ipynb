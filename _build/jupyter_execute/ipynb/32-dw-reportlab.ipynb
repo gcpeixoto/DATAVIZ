{
 "cells": [
  {
   "cell_type": "markdown",
   "metadata": {},
   "source": [
    "# _Dataviz Workshop_: _Data Reporting_ com `reportlab`"
   ]
  },
  {
   "cell_type": "markdown",
   "metadata": {},
   "source": [
    "## Objetivos do workshop\n",
    "\n",
    "- Apresentar o módulo `reportlab` para geração de PDFs;\n",
    "- Desenvolver _workflow_ básico para geração de relatórios automatizados incorporando figuras geradas pelo `plotly`."
   ]
  },
  {
   "cell_type": "markdown",
   "metadata": {},
   "source": [
    "Como vimos no {numref}`Capítulo %s <cap:reporting-html>`, a geração automatizada de relatórios pode ser feita a partir de muitas ferramentas. \n",
    "\n",
    "Neste capítulo, exploraremos um _workflow_ mínimo para conversão de dados em PDFs utilizando `reportlab`."
   ]
  },
  {
   "cell_type": "markdown",
   "metadata": {},
   "source": [
    "## Ferramentas utilizadas\n",
    "\n",
    "- Módulos Python\n",
    "    - `plotly`\n",
    "    - `reportlab`\n",
    "    - `os`"
   ]
  },
  {
   "cell_type": "markdown",
   "metadata": {},
   "source": [
    "## _ReportLab_\n",
    "\n",
    "_ReportLab_ é uma biblioteca construída em Python útil para as seguintes finalidades:\n",
    "\n",
    "- geração dinâmica de PDF na web;\n",
    "- produção de relatórios corporativos em grande volume e publicação de dados;\n",
    "- acoplamento em outras aplicações, incluindo uma \"linguagem de relatório\" customizável;\n",
    "- embasar como sistema de construção, a geração de documentos complexos, com gráficos e tabelas para fins de contabilidade, análise estatística e também publicação científica;\n",
    "\n",
    "A _ReportLab_ possui duas versões, uma comercial e outra aberta. A versão aberta, _ReportLab PDF Toolkit_ possui uma extensão [documentação](https://docs.reportlab.com/reportlab/userguide/ch1_intro/) com tutoriais compreensíveis."
   ]
  },
  {
   "cell_type": "markdown",
   "metadata": {},
   "source": [
    "### Instalação\n",
    "\n",
    "Recomenda-se utilizar _pip_ com: `pip install reportlab`."
   ]
  },
  {
   "cell_type": "markdown",
   "metadata": {},
   "source": [
    "## _Workflow_ demonstrativo"
   ]
  },
  {
   "cell_type": "markdown",
   "metadata": {},
   "source": [
    "Este workflow primário estende as capacidades discutidas com o módulo `xhtml2pdf` e mostra como inserir figuras de alta qualidade geradas via `plotly` em um documento PDF."
   ]
  },
  {
   "cell_type": "markdown",
   "metadata": {},
   "source": [
    "Começamos com as importações (_boilerplate_)."
   ]
  },
  {
   "cell_type": "code",
   "execution_count": 3,
   "metadata": {},
   "outputs": [],
   "source": [
    "import os\n",
    "import plotly.express as px\n",
    "from reportlab.lib.pagesizes import A4\n",
    "from reportlab.pdfgen import canvas"
   ]
  },
  {
   "cell_type": "markdown",
   "metadata": {},
   "source": [
    "Em seguida, criamos uma função de utilidade para produzir as imagens no PDF."
   ]
  },
  {
   "cell_type": "markdown",
   "metadata": {},
   "source": [
    "```{admonition} Nota\n",
    ":class: important\n",
    "Os métodos `showPage` e `save` não devem ser ignorados, visto que são eles os responsáveis por inserir os elementos na página do PDF e fechar o buffer do arquivo.\n",
    "```"
   ]
  },
  {
   "cell_type": "code",
   "execution_count": 4,
   "metadata": {},
   "outputs": [],
   "source": [
    "# Função de utilidade\n",
    "\n",
    "def img_to_pdf(pdfout,imgout,x,y,\n",
    "               keep_img=False,\n",
    "               open_pdf=True):\n",
    "    \n",
    "    # Cria canvas no PDF\n",
    "    c = canvas.Canvas(pdfout, pagesize=A4)\n",
    "\n",
    "    # Insere imagem \n",
    "    c.drawImage(imgout,x,y,preserveAspectRatio=True)\n",
    "\n",
    "    # Salva o PDF\n",
    "    c.showPage()\n",
    "    c.save()\n",
    "\n",
    "    # Deleta a imagem de teste\n",
    "    if not keep_img:\n",
    "        os.remove(imgout)\n",
    "    \n",
    "    # Abre PDF para exibição\n",
    "    if open_pdf:\n",
    "        os.system(f'open {pdfout}')"
   ]
  },
  {
   "cell_type": "markdown",
   "metadata": {},
   "source": [
    "Definimos alguns diretórios."
   ]
  },
  {
   "cell_type": "code",
   "execution_count": 5,
   "metadata": {},
   "outputs": [],
   "source": [
    "imgext = 'png' # formatos OK: png (melhor), jpg, eps\n",
    "basedir = '../dw/reporting/'\n",
    "pdfout = basedir + 'pdf-output/report.pdf'\n",
    "imgout = os.path.join(basedir,'test.'+ imgext)"
   ]
  },
  {
   "cell_type": "markdown",
   "metadata": {},
   "source": [
    "```{admonition} Nota\n",
    ":class: important\n",
    "A experiência mostra que os formatos PNG, JPG e EPS, nesta ordem, são as melhores opções para renderização das imagens.\n",
    "```"
   ]
  },
  {
   "cell_type": "markdown",
   "metadata": {},
   "source": [
    "As figuras _plotly.express_ podem ser objetos genéricos da classe. "
   ]
  },
  {
   "cell_type": "code",
   "execution_count": 6,
   "metadata": {},
   "outputs": [],
   "source": [
    "fig = px.line(x=[1, 2, 3],\n",
    "              y=[4, 5, 6],\n",
    "              width=400,\n",
    "              height=400)\n",
    "fig.write_image(imgout)"
   ]
  },
  {
   "cell_type": "markdown",
   "metadata": {},
   "source": [
    "Por fim, a imagem é posta no PDF pela chamada da função de utilidade."
   ]
  },
  {
   "cell_type": "code",
   "execution_count": 9,
   "metadata": {},
   "outputs": [],
   "source": [
    "img_to_pdf(pdfout,imgout,120,300,\n",
    "               keep_img=False,\n",
    "               open_pdf=True)"
   ]
  },
  {
   "cell_type": "markdown",
   "metadata": {},
   "source": [
    "Com esses pequenos passos, já é possível abrir o PDF para verificação."
   ]
  },
  {
   "cell_type": "markdown",
   "metadata": {},
   "source": [
    "```{admonition} Curiosidade\n",
    ":class: dropdown\n",
    "Visto que o módulo `os` já foi importado, para abrir o arquivo PDF diretamente, em sistemas UNIX, bastaria chamar: `_ = os.system(f'open {pdfout}')`.\n",
    "```"
   ]
  }
 ],
 "metadata": {
  "kernelspec": {
   "display_name": "Python 3 (ipykernel)",
   "language": "python",
   "name": "python3"
  },
  "language_info": {
   "codemirror_mode": {
    "name": "ipython",
    "version": 3
   },
   "file_extension": ".py",
   "mimetype": "text/x-python",
   "name": "python",
   "nbconvert_exporter": "python",
   "pygments_lexer": "ipython3",
   "version": "3.9.16"
  }
 },
 "nbformat": 4,
 "nbformat_minor": 2
}