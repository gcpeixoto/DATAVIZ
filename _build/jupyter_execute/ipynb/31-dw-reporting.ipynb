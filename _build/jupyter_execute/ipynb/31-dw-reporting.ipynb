{
 "cells": [
  {
   "cell_type": "markdown",
   "metadata": {},
   "source": [
    "(cap:reporting-html)=\n",
    "\n",
    "# _Dataviz Workshop_: _Data Reporting_ com HTML/PDF"
   ]
  },
  {
   "cell_type": "markdown",
   "metadata": {},
   "source": [
    "## Objetivos do workshop\n",
    "\n",
    "- Apresentar o módulo `xhtml2pdf` para conversão de código HTML para PDF;\n",
    "- Converter DataFrame para código HTML;\n",
    "- Desenvolver _workflow_ básico para geração de relatórios automatizados utilizando templates HTML atualizáveis utilizando dados sobre crimes violentos letais intencionais em João Pessoa."
   ]
  },
  {
   "cell_type": "markdown",
   "metadata": {},
   "source": [
    "## Ferramentas utilizadas\n",
    "\n",
    "- Módulos Python    \n",
    "    - `xhtml2pdf`\n",
    "    - `re`\n",
    "    - `pandas`"
   ]
  },
  {
   "cell_type": "markdown",
   "metadata": {},
   "source": [
    "## _Data reporting_\n",
    "\n",
    "Existem diversas ferramentas para operacionalizar PDFs, seja para análise (_parsing_), extração, encriptação ou conversão de informações. Algumas delas, com suporte em Python são: \n",
    "\n",
    "- pdfminer.six\n",
    "- pyPDF2\n",
    "- reportlab\n",
    "- json2pdf\n",
    "- pymupdf\n",
    "- pikepdf\n",
    "\n",
    "Entretanto a arte do _data reporting_, que consiste em gerar relatórios automatizados a partir de dados e exportá-los, principalmente em arquivos PDF ma forma de brochuras, portfólios, ou _one-pagers_, depende da um misto de habilidades e, às vezes, da integração de mais de uma API.\n",
    "\n",
    "Cada uma das bibliotecas acima possuem forças e fraquezas, de maneira que, raramente, teremos à mão, soluções imediatas para gerarmos nossos relatórios.\n",
    "\n",
    "A proposta deste capítulo é apresentar os módulos `xhtml2pdf` e `reportlab` como primeiras aproximações ao tema."
   ]
  },
  {
   "cell_type": "markdown",
   "metadata": {},
   "source": [
    "### `xhtml2pdf`\n",
    "\n",
    "O módulo `xhtml2pdf` oferece uma maneira ágil de automatizar a geração de PDFs a partir de conteúdo HTML.  Ele utiliza a a biblioteca `reportlab` como _backbone_.\n",
    "\n",
    "Ele funciona com base em _templates_ mínimos de layouts inspirados em estilos CSS. As partes principais são os objetos `@page` e `@frame`, os quais emolduram o conteúdo em página. Além disso, são disponíveis _tags_ do tipo PDF-vendor, que habilitam o desenvolvedor a inserir informações nativas de arquivos PDF, tais como paginação, sumário e idioma.\n",
    "\n",
    "Em termos de gráficos, o módulo fornece algumas representações visuais, tais como gráficos de linhas e de barras, mas é bastante limitado.\n",
    "\n",
    "Algumas suas vantagens são: \n",
    "\n",
    "- flexibilidade para gerar múltiplos _templates_ de página;\n",
    "- encriptação e assinatura;\n",
    "- superposição de marca d'água;"
   ]
  },
  {
   "cell_type": "markdown",
   "metadata": {},
   "source": [
    "### Instalação\n",
    "\n",
    "Recomenda-se utilizar _pip_ com: `pip install xhtml2pdf`."
   ]
  },
  {
   "cell_type": "code",
   "execution_count": 1,
   "metadata": {},
   "outputs": [],
   "source": [
    "from xhtml2pdf import pisa\n",
    "import pandas as pd, re"
   ]
  },
  {
   "cell_type": "markdown",
   "metadata": {},
   "source": [
    "## _Workflow_ demonstrativo"
   ]
  },
  {
   "cell_type": "markdown",
   "metadata": {},
   "source": [
    "- Primeiramente, geramos um conteúdo básico em HTML que, na prática, seria a composição de um _briefing_ atualizável periodicamente e dados obtidos de um DataFrame."
   ]
  },
  {
   "cell_type": "code",
   "execution_count": 2,
   "metadata": {
    "tags": [
     "hide-input"
    ]
   },
   "outputs": [],
   "source": [
    "# geração de HTML atualizável\n",
    "def html_data(table):\n",
    "    text = f'\\\n",
    "        <h2>Dados</h2>\\\n",
    "        <p>Mattis ullamcorper velit sed ullamcorper morbi tincidunt ornare massa eget. Ultricies mi eget mauris pharetra et ultrices neque ornare aenean.\\\n",
    "        Sit amet cursus sit amet. Varius vel pharetra vel turpis nunc eget lorem. Enim lobortis scelerisque fermentum dui faucibus.\\\n",
    "        Nibh tellus molestie nunc non blandit massa enim nec dui. Non nisi est sit amet facilisis magna.\\\n",
    "        {table.to_html(index=False)}\\\n",
    "        </p>\\\n",
    "        <h2>Análise</h2>\\\n",
    "        <p>Lorem ipsum dolor sit amet, consectetur adipiscing elit, sed do eiusmod tempor incididunt ut labore et dolore magna aliqua.\\\n",
    "        Viverra ipsum nunc aliquet bibendum enim facilisis. Dui nunc mattis enim ut tellus elementum sagittis vitae. Sed adipiscing diam donec adipiscing tristique.\\\n",
    "        Ut sem nulla pharetra diam sit. Suspendisse ultrices gravida dictum fusce ut placerat orci nulla pellentesque. Diam phasellus vestibulum lorem sed risus ultricies tristique nulla aliquet.\\\n",
    "        Elit scelerisque mauris pellentesque pulvinar pellentesque habitant morbi tristique. Pharetra convallis posuere morbi leo. Et magnis dis parturient montes nascetur.\\\n",
    "        Tortor vitae purus faucibus ornare suspendisse sed nisi lacus sed. Amet justo donec enim diam vulputate ut pharetra sit amet. Tempor nec feugiat nisl pretium fusce id velit.\\\n",
    "        Mattis vulputate enim nulla aliquet porttitor lacus luctus accumsan. Mollis nunc sed id semper risus in hendrerit gravida rutrum. Ultrices vitae auctor eu augue ut.\\\n",
    "        Sit amet nisl suscipit adipiscing bibendum est ultricies integer. Urna condimentum mattis pellentesque id. Quisque non tellus orci ac auctor augue.\\\n",
    "        Dolor sed viverra ipsum nunc aliquet bibendum enim.\\\n",
    "        \\n\\\n",
    "        Et malesuada fames ac turpis egestas. Pretium nibh ipsum consequat nisl vel pretium. Consectetur adipiscing elit ut aliquam purus.\\\n",
    "        Duis at consectetur lorem donec massa. Tortor vitae purus faucibus ornare suspendisse sed nisi lacus. In iaculis nunc sed augue lacus viverra.\\\n",
    "        Malesuada fames ac turpis egestas maecenas pharetra convallis. Massa sed elementum tempus egestas. Turpis egestas maecenas pharetra convallis posuere morbi. \\\n",
    "        Scelerisque mauris pellentesque pulvinar pellentesque habitant morbi tristique senectus. Tempus iaculis urna id volutpat.\\\n",
    "        \\n'\n",
    "    \n",
    "    return text"
   ]
  },
  {
   "cell_type": "markdown",
   "metadata": {},
   "source": [
    "- Em seguida fazemos o carregamento dos dados que serão usados para compor o relatório. Na prática, poderia já ser um gráfico pós-processado."
   ]
  },
  {
   "cell_type": "code",
   "execution_count": 3,
   "metadata": {},
   "outputs": [
    {
     "data": {
      "text/html": [
       "<div>\n",
       "<style scoped>\n",
       "    .dataframe tbody tr th:only-of-type {\n",
       "        vertical-align: middle;\n",
       "    }\n",
       "\n",
       "    .dataframe tbody tr th {\n",
       "        vertical-align: top;\n",
       "    }\n",
       "\n",
       "    .dataframe thead th {\n",
       "        text-align: right;\n",
       "    }\n",
       "</style>\n",
       "<table border=\"1\" class=\"dataframe\">\n",
       "  <thead>\n",
       "    <tr style=\"text-align: right;\">\n",
       "      <th></th>\n",
       "      <th>Bairros</th>\n",
       "      <th>Prevalência</th>\n",
       "      <th>Arma de fogo</th>\n",
       "      <th>Arma branca</th>\n",
       "      <th>Outros</th>\n",
       "      <th>Total de casos</th>\n",
       "    </tr>\n",
       "  </thead>\n",
       "  <tbody>\n",
       "    <tr>\n",
       "      <th>0</th>\n",
       "      <td>Varadouro</td>\n",
       "      <td>15.05</td>\n",
       "      <td>44</td>\n",
       "      <td>8</td>\n",
       "      <td>4</td>\n",
       "      <td>56</td>\n",
       "    </tr>\n",
       "    <tr>\n",
       "      <th>1</th>\n",
       "      <td>Centro</td>\n",
       "      <td>12.34</td>\n",
       "      <td>27</td>\n",
       "      <td>14</td>\n",
       "      <td>4</td>\n",
       "      <td>45</td>\n",
       "    </tr>\n",
       "    <tr>\n",
       "      <th>2</th>\n",
       "      <td>Mandacaru</td>\n",
       "      <td>5.72</td>\n",
       "      <td>64</td>\n",
       "      <td>5</td>\n",
       "      <td>3</td>\n",
       "      <td>72</td>\n",
       "    </tr>\n",
       "    <tr>\n",
       "      <th>3</th>\n",
       "      <td>Grotão</td>\n",
       "      <td>5.68</td>\n",
       "      <td>31</td>\n",
       "      <td>4</td>\n",
       "      <td>0</td>\n",
       "      <td>35</td>\n",
       "    </tr>\n",
       "    <tr>\n",
       "      <th>4</th>\n",
       "      <td>Bairro das Indústrias</td>\n",
       "      <td>5.51</td>\n",
       "      <td>46</td>\n",
       "      <td>2</td>\n",
       "      <td>0</td>\n",
       "      <td>48</td>\n",
       "    </tr>\n",
       "    <tr>\n",
       "      <th>5</th>\n",
       "      <td>Costa do Sol</td>\n",
       "      <td>4.44</td>\n",
       "      <td>26</td>\n",
       "      <td>6</td>\n",
       "      <td>5</td>\n",
       "      <td>37</td>\n",
       "    </tr>\n",
       "    <tr>\n",
       "      <th>6</th>\n",
       "      <td>Distrito Industrial</td>\n",
       "      <td>4.24</td>\n",
       "      <td>5</td>\n",
       "      <td>3</td>\n",
       "      <td>0</td>\n",
       "      <td>8</td>\n",
       "    </tr>\n",
       "    <tr>\n",
       "      <th>7</th>\n",
       "      <td>Penha</td>\n",
       "      <td>3.89</td>\n",
       "      <td>3</td>\n",
       "      <td>0</td>\n",
       "      <td>1</td>\n",
       "      <td>3</td>\n",
       "    </tr>\n",
       "    <tr>\n",
       "      <th>8</th>\n",
       "      <td>Ilha do Bispo</td>\n",
       "      <td>3.63</td>\n",
       "      <td>26</td>\n",
       "      <td>1</td>\n",
       "      <td>2</td>\n",
       "      <td>29</td>\n",
       "    </tr>\n",
       "    <tr>\n",
       "      <th>9</th>\n",
       "      <td>Costa e Silva</td>\n",
       "      <td>3.53</td>\n",
       "      <td>24</td>\n",
       "      <td>3</td>\n",
       "      <td>1</td>\n",
       "      <td>29</td>\n",
       "    </tr>\n",
       "    <tr>\n",
       "      <th>10</th>\n",
       "      <td>Roger</td>\n",
       "      <td>3.47</td>\n",
       "      <td>26</td>\n",
       "      <td>5</td>\n",
       "      <td>5</td>\n",
       "      <td>36</td>\n",
       "    </tr>\n",
       "    <tr>\n",
       "      <th>11</th>\n",
       "      <td>Gramame</td>\n",
       "      <td>3.14</td>\n",
       "      <td>70</td>\n",
       "      <td>8</td>\n",
       "      <td>5</td>\n",
       "      <td>81</td>\n",
       "    </tr>\n",
       "    <tr>\n",
       "      <th>12</th>\n",
       "      <td>Varjão</td>\n",
       "      <td>3.18</td>\n",
       "      <td>49</td>\n",
       "      <td>2</td>\n",
       "      <td>3</td>\n",
       "      <td>54</td>\n",
       "    </tr>\n",
       "    <tr>\n",
       "      <th>13</th>\n",
       "      <td>Trincheiras</td>\n",
       "      <td>3.15</td>\n",
       "      <td>13</td>\n",
       "      <td>4</td>\n",
       "      <td>5</td>\n",
       "      <td>22</td>\n",
       "    </tr>\n",
       "    <tr>\n",
       "      <th>14</th>\n",
       "      <td>Padre Zé</td>\n",
       "      <td>2.02</td>\n",
       "      <td>20</td>\n",
       "      <td>0</td>\n",
       "      <td>1</td>\n",
       "      <td>21</td>\n",
       "    </tr>\n",
       "    <tr>\n",
       "      <th>15</th>\n",
       "      <td>Mangabeira</td>\n",
       "      <td>1.65</td>\n",
       "      <td>109</td>\n",
       "      <td>15</td>\n",
       "      <td>2</td>\n",
       "      <td>126</td>\n",
       "    </tr>\n",
       "  </tbody>\n",
       "</table>\n",
       "</div>"
      ],
      "text/plain": [
       "                  Bairros  Prevalência  Arma de fogo  Arma branca  Outros  \\\n",
       "0               Varadouro        15.05            44            8       4   \n",
       "1                  Centro        12.34            27           14       4   \n",
       "2               Mandacaru         5.72            64            5       3   \n",
       "3                  Grotão         5.68            31            4       0   \n",
       "4   Bairro das Indústrias         5.51            46            2       0   \n",
       "5            Costa do Sol         4.44            26            6       5   \n",
       "6     Distrito Industrial         4.24             5            3       0   \n",
       "7                   Penha         3.89             3            0       1   \n",
       "8           Ilha do Bispo         3.63            26            1       2   \n",
       "9           Costa e Silva         3.53            24            3       1   \n",
       "10                  Roger         3.47            26            5       5   \n",
       "11                Gramame         3.14            70            8       5   \n",
       "12                 Varjão         3.18            49            2       3   \n",
       "13            Trincheiras         3.15            13            4       5   \n",
       "14               Padre Zé         2.02            20            0       1   \n",
       "15             Mangabeira         1.65           109           15       2   \n",
       "\n",
       "    Total de casos  \n",
       "0               56  \n",
       "1               45  \n",
       "2               72  \n",
       "3               35  \n",
       "4               48  \n",
       "5               37  \n",
       "6                8  \n",
       "7                3  \n",
       "8               29  \n",
       "9               29  \n",
       "10              36  \n",
       "11              81  \n",
       "12              54  \n",
       "13              22  \n",
       "14              21  \n",
       "15             126  "
      ]
     },
     "execution_count": 3,
     "metadata": {},
     "output_type": "execute_result"
    }
   ],
   "source": [
    "df = pd.read_csv('../data/crimes-pb-2015-2018.csv')\n",
    "df"
   ]
  },
  {
   "cell_type": "markdown",
   "metadata": {},
   "source": [
    "- Fazemos o carregamento de um _template_ HTML para o relatório. Podemos ter tantos modelos para quantas forem as necessidades de projeto."
   ]
  },
  {
   "cell_type": "code",
   "execution_count": 4,
   "metadata": {
    "scrolled": true
   },
   "outputs": [
    {
     "name": "stdout",
     "output_type": "stream",
     "text": [
      "<html>\n",
      "<head>\n",
      "    <style>\n",
      "        @page {\n",
      "            size: a4 portrait;\n",
      "            /* Descomente para depuração */            \n",
      "            background-image: url('../dw/reporting/watermark.pdf');\n",
      "            @frame content_frame {\n",
      "                left: 50pt; \n",
      "                width: 505pt; \n",
      "                top: 50pt; \n",
      "                height: 700pt;\n",
      "                /*-pdf-frame-border: 1;*/\n",
      "            }               \n",
      "            @frame footer_frame {                    \n",
      "                left: 50pt; \n",
      "                width: 505pt; \n",
      "                top: 772pt; \n",
      "                height: 30pt;                   \n",
      "                -pdf-frame-content: footer_content; /* estático */\n",
      "                -pdf-frame-border: 1;\n",
      "            }\n",
      "        }\n",
      "    </style>\n",
      "</head>\n",
      "<body>\n",
      "    <div id=\"footer_content\">\n",
      "        <p>Pág. <pdf:pagenumber> de <pdf:pagecount></p>\n",
      "    </div>   \n",
      "    <div id=\"content\">\n",
      "        <div id=\"header_info\">\n",
      "            <h1>Relatório: Crimes Violentos Letais Intencionais (CVLI)</h1>\n",
      "            <p>Flatmetrics Analytics S/A<br>\n",
      "            João Pessoa - PB - Brasil<br>\n",
      "            CNPJ: 00.000.000/0001-99\n",
      "            </p>\n",
      "        </div>\n",
      "        <div id=\"header_logo\">\n",
      "            <img src=\"../dw/reporting/flatmetrics_logo.png\" width=\"120\" height=\"50\">\n",
      "        </div>\n",
      "    </div>\n",
      "</body>\n",
      "</html>"
     ]
    }
   ],
   "source": [
    "# carregamento do modelo\n",
    "html_report_template = '../dw/reporting/report_template.html'\n",
    "\n",
    "!cat ../dw/reporting/report_template.html"
   ]
  },
  {
   "cell_type": "markdown",
   "metadata": {},
   "source": [
    "- Por fim, escrevemos uma função de utilidade para converter o conteúdo de HTML para produzir o nosso PDF."
   ]
  },
  {
   "cell_type": "code",
   "execution_count": 5,
   "metadata": {},
   "outputs": [],
   "source": [
    "# função de utilidade para conversão\n",
    "def html_to_pdf(html_in, pdf_out):\n",
    "    \n",
    "    # arquivo de saída\n",
    "    outfile = open(pdf_out, 'w+b')\n",
    "\n",
    "    # conversão\n",
    "    c = pisa.CreatePDF(html_in, dest=outfile)\n",
    "\n",
    "    # fecha arquivo\n",
    "    outfile.close()\n",
    "\n",
    "    # retorna True se houver erro; False, senão\n",
    "    return c.err"
   ]
  },
  {
   "cell_type": "markdown",
   "metadata": {},
   "source": [
    "- A execução da função de utilidade é melhor disposta em _script_. Aqui para fins de demonstração, o meio é indiferente.\n",
    "\n",
    "No código abaixo, fazemos uma leve inserção de conteúdo no _template_, modificando o código-fonte HTML e exportando a saída para o documento `dw-report.pdf`."
   ]
  },
  {
   "cell_type": "code",
   "execution_count": 6,
   "metadata": {},
   "outputs": [],
   "source": [
    "if __name__ == \"__main__\":\n",
    "    pisa.showLogging()\n",
    "    \n",
    "    # inserção de dado no modelo\n",
    "    with open(html_report_template) as h:\n",
    "        source_html = h.read()\n",
    "        cutoff = re.search('(</body>)',source_html).span()[0]\n",
    "        head = source_html[:cutoff]    \n",
    "        tail = source_html[cutoff:]\n",
    "        mid = html_data(df)    \n",
    "        source_html = head + mid + tail\n",
    "    \n",
    "        html_to_pdf(source_html,'../dw/reporting/pdf-output/dw-report.pdf')\n",
    "        "
   ]
  },
  {
   "cell_type": "markdown",
   "metadata": {},
   "source": [
    "_Obs._: parte deste material é fictício. Qualquer semelhança com nomes, pessoas, factos ou situações da vida real terá sido mera coincidência."
   ]
  },
  {
   "cell_type": "code",
   "execution_count": null,
   "metadata": {},
   "outputs": [],
   "source": [
    "#!open '../dw/reporting/pdf-output/dw-report.pdf'"
   ]
  },
  {
   "cell_type": "markdown",
   "metadata": {},
   "source": [
    "## Referências\n",
    "\n",
    "- [Documentação: `xhtml2pdf`](https://xhtml2pdf.readthedocs.io/en/latest/index.html)\n",
    "- [W3 Schools](https://www.w3schools.com/html/default.asp)\n",
    "- [Reportlab](https://docs.reportlab.com/reportlab/userguide/ch1_intro/)"
   ]
  }
 ],
 "metadata": {
  "kernelspec": {
   "display_name": "dataviz",
   "language": "python",
   "name": "python3"
  },
  "language_info": {
   "codemirror_mode": {
    "name": "ipython",
    "version": 3
   },
   "file_extension": ".py",
   "mimetype": "text/x-python",
   "name": "python",
   "nbconvert_exporter": "python",
   "pygments_lexer": "ipython3",
   "version": "3.13.0"
  }
 },
 "nbformat": 4,
 "nbformat_minor": 2
}