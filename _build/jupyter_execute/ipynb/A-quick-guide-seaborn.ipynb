{
 "cells": [
  {
   "cell_type": "markdown",
   "metadata": {},
   "source": [
    "# Guia rápido de plotagem - `seaborn`\n",
    "\n",
    "- Base de construção: `matplotlib`\n",
    "- Integração de dados: `pandas`"
   ]
  },
  {
   "cell_type": "markdown",
   "metadata": {},
   "source": [
    "## Receita de bolo\n",
    "\n",
    "1. importar pacote\n",
    "2. escolher tema\n",
    "3. carregar dataset\n",
    "4. criar plot"
   ]
  },
  {
   "cell_type": "code",
   "execution_count": 3,
   "metadata": {},
   "outputs": [
    {
     "data": {
      "image/png": "[encoded data removed]",
      "text/plain": [
       "<Figure size 700x200 with 1 Axes>"
      ]
     },
     "metadata": {
      "filenames": {
       "image/png": "/Users/gustavo/Dropbox/courses/visualizacao-dados/DATAVIZ/_build/jupyter_execute/ipynb/A-quick-guide-seaborn_2_0.png"
      }
     },
     "output_type": "display_data"
    }
   ],
   "source": [
    "# passo 1\n",
    "import matplotlib.pyplot as plt, pandas as pd, seaborn as sns\n",
    "\n",
    "# passo 2\n",
    "sns.set_theme() # default\n",
    "\n",
    "# passo 3\n",
    "df = pd.read_csv('../data/preco-combs-pb-2022-02.csv')\n",
    "bay_etanol = df[ (df['Municipio'] == 'BAYEUX') & (df['Produto'] == 'ETANOL')]\n",
    "\n",
    "# passo 4\n",
    "fig, ax = plt.subplots(figsize=(7,2))\n",
    "f = sns.barplot(x='Bandeira',y='Valor de Venda',hue='Bandeira', data=bay_etanol,palette=\"Paired\");"
   ]
  },
  {
   "cell_type": "markdown",
   "metadata": {},
   "source": [
    "## Classes de funções de plotagem\n",
    "\n",
    "São de dois tipos:\n",
    "\n",
    "- Funções em nível de figura (FNF): criam interface com matplotlib (retorna `seaborn.axisgrid.FacetGrid` ou `seaborn.axisgrid.PairGrid` (mosaico) ou `seaborn.axisgrid.JointGrid` (bivariados));\n",
    "- Funções em nível de eixo (FNE): plotam dados em eixo único (retorna `matplotlib.pyplot.Axes`)\n",
    "\n",
    "Organização de plots:\n",
    "\n",
    "- **Correlação**\n",
    "    - FNF:\n",
    "        - `relplot` - interface para FNEs com `kind` = `scatter` | `line` \n",
    "    - FNEs:\n",
    "        - `scatterplot` - dispersão\n",
    "        - `lineplot` - linhas gerais\n",
    "- **Distribuição**\n",
    "    - FNF:\n",
    "        - `displot` - interface para FNEs com `kind` = `hist` | `kde` | `ecdf` \n",
    "    - FNEs:\n",
    "        - `histplot` - histogramas\n",
    "        - `kdeplot` - densidade por curva de kernel\n",
    "        - `ecdfplot` - distribuição cumulativa empírica\n",
    "    - FNE complementar:    \n",
    "        - `rugplot` - densidade por traços no eixo (adicionável ao plot das demais)\n",
    "- **Categoria**\n",
    "    - FNF:\n",
    "        - `catplot` - interface para FNEs com `kind` = `strip` | `swarm` | `box` | `violin` | `boxen` | `point` | `bar` | `count` \n",
    "    - FNEs para dispersão:\n",
    "        - `stripplot` - dispersão com _jitter_ (tremor)\n",
    "        - `swarmplot` - dispersão sem sobreposição de pontos\n",
    "    - FNEs para distribuição\n",
    "        - `boxplot` - quartis e outliers em \"caixa\"\n",
    "        - `violinplot` - KDE em forma de \"violino\"\n",
    "        - `boxenplot` - aperfeiçoamento do boxplot para grandes dados\n",
    "    - FNEs para estimação:\n",
    "        - `pointplot` - pontos com _errorbar_\n",
    "        - `barplot` - barras com _errorbar_\n",
    "        - `countplot` - histograma para dados categóricos\n",
    "- **Regressão**:\n",
    "    - FNF:\n",
    "        - `lmplot` - regressão linear: combina `regplot` e `FacetGrid`\n",
    "    - FNE:\n",
    "        - `regplot` - regressão linear\n",
    "        - `residplot` - resíduos de regressão         \n",
    "- **Outras**:\n",
    "    - `heatmap` - mapa de calor\n",
    "    - `clustermap` - matriz com clusterização hierárquica\n",
    "    - `pairplot` - interface mosaico para visualização de pareamentos\n",
    "    - `jointplot` - plot bivariado genérico para mistura de pareamentos "
   ]
  }
 ],
 "metadata": {
  "kernelspec": {
   "display_name": "dataviz",
   "language": "python",
   "name": "python3"
  },
  "language_info": {
   "codemirror_mode": {
    "name": "ipython",
    "version": 3
   },
   "file_extension": ".py",
   "mimetype": "text/x-python",
   "name": "python",
   "nbconvert_exporter": "python",
   "pygments_lexer": "ipython3",
   "version": "3.13.0"
  }
 },
 "nbformat": 4,
 "nbformat_minor": 2
}