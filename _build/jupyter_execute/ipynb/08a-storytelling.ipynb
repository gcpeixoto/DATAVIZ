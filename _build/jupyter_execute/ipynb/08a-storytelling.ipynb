{
 "cells": [
  {
   "attachments": {},
   "cell_type": "markdown",
   "metadata": {},
   "source": [
    "(cap:storytelling)=\n",
    "# Técnicas de _Storytelling_"
   ]
  },
  {
   "attachments": {},
   "cell_type": "markdown",
   "metadata": {},
   "source": [
    "## _Storytelling_ quantitativo\n",
    "\n",
    "Estórias contadas em forma de prosa levam em conta uma grande densidade textual. Seria extremamente difícil expressar sem palavras as grandes obras de ficção de Isaac Asimov ou a literatura fantástica de Tolkien. Por outro lado, seria impraticável tentar descrever gráficos, números, curvas e outros visuais de dados quantitativos apenas por palavras. Em se falando de dados, compreender as características de uma narração estatística, isto é, da estória por números e formas agregadas, é essencial para que ela seja bem contada. Vejamos algumas dessas características.\n",
    "\n",
    "### Simplicidade\n",
    "\n",
    "Uma estória simples tem maior chance de ser absorvida pela mente de sua audiência. É preciso identificar a mensagem essencial a ser apresentada e passá-la ao público sem distrações. Em geral, um princípio a seguir é: não informe mais do que o necessário. A simplicidade é um ponto de equilíbrio entre o \"pouco a mostrar\" e o \"muito a dizer\". \n",
    "\n",
    "### Informação\n",
    "\n",
    "Todo _storytelling_ deve informar, revelar fatos ou fornecer interpretações de fatos que são desconhecidos à audiência. Uma forma atrativa de transmitir novidade à audiência é criar um ambiente que a estimula, a provoca e a leva a \"ruminar\" aquilo que consome pelos visuais.\n",
    "\n",
    "### Verdade\n",
    "\n",
    "Longe do julgamento moral ou filosófico acerca da verdade, uma representação visual deve ater-se minimamente à objetividade do que transmite e ter meios de verificar o que apresenta. Impor a verdade em projetos de visualização de dados é manter-se fiel àquilo que os dados originalmente evocam. A audiência tem compromisso com menos falácia e mais provas. Portanto, convença a audiência de forma consistente, íntegra e atenha-se à honestidade intelectual. \"Mostre os números\"!\n",
    "\n",
    "### Contexto\n",
    "\n",
    "Ao apresentar dados quantitativos, não basta apenas dispor números solitários sem que haja meios de compará-los. Esses meios retratam o contexto da informação e podem ser outras categorias, previsões, _benchmarks_, indicadores, padrões impostos por regulamentações, entre outros.\n",
    "\n",
    "### Familiaridade\n",
    "\n",
    "É essencial conhecer a audiência à qual você apresenta relatórios e narrativas quantitativos, o arcabouço técnico de seus membros e também a cultura. Torna-se efetivo comunicar a estória em uma linguagem que seja familiar à da audiência. Ao mesmo tempo que é válido gastar tempo para encontrar terminologias diretas e linguagem familiar para que a audiência compreenda de forma simples a mensagem que se quer passar, é também razoável que você tenha familiaridade com o que apresenta. Quem não consegue contar sua estória de modo simples e compreensível, em geral, encaixa-se em um dos seguintes perfis:\n",
    "\n",
    "- da ingenuidade, quando conhece apenas a sua \"bolha\" e é inconsciente de um mundo exterior à sua zona de convivência;\n",
    "- da preguiça, quando não quer ter disposição suficiente para aperfeiçoar sua comunicação para uma forma simples;\n",
    "- do ego, quando há mais interesse em impressionar do que comunicar;\n",
    "- do inábil, quando não domina a linguagem do cotidiano ou não tem conhecimento da própria estória que está contando.\n",
    "\n",
    "\n",
    "### Concretude\n",
    "\n",
    "O trabalho com os números pode ser bastante abstrato, assim como a Matemática o é. Trazer concretude à visualização de dados é auxiliar a audiência a captar informações aparentemente abstratas por meio de exemplos e metáforas. Um exemplo clássico é a explicação do conceito de fração através de \"pedaços de bolo\"."
   ]
  },
  {
   "attachments": {},
   "cell_type": "markdown",
   "metadata": {},
   "source": [
    "## Recomendações\n",
    "\n",
    "A melhor forma de produzir representações visuais em nível de excelência é praticando. Como diferentes _designers_ podem ter concepções diferentes ao elaborar um produto, não é improvável que você crie um _plot_ de forma diferente de colegas ainda que ele tenha o objetivo de visualizar a mesma informação. Portanto, não existem regras rígidas e determinantes para produzir um _plot_. Deve haver sinergia entre arte, técnica e criatividade, bem como alguma atenção a recomendações de profissionais experientes do ramo. Vejamos algumas delas:\n",
    "\n",
    "### Aprender bem a ferramenta de trabalho\n",
    "\n",
    "Não importa se você usará Python, Java ou Excel para produzir seus visuais. Independentemente da ferramenta, importa que você aprenda _bem_ a sua ferramenta de trabalho para construir habilidade e versatilidade suficientes. Algumas ferramentas são gratuitas, outras pagas, mas a excelência é a peça áurea que não se encontra em uma ou outra caixa de ferramentas. \n",
    "\n",
    "Como você estará em contínua imersão no universo da computação, é bastante natural que você opte por ferramentas capazes de automatizar tarefas, de baixo custo e eficientes. Neste sentido, Python e os módulos aprendidos ao longo deste curso são um excelente primeiro passo. Há muito mais a aprender sobre a internalidade de cada módulo e suas capacidades."
   ]
  },
  {
   "attachments": {},
   "cell_type": "markdown",
   "metadata": {},
   "source": [
    "### Buscar _feedback_\n",
    "\n",
    "Antes de bater o martelo sobre seu produto visual final, faça esboços e experimente. Do mesmo modo que você faz iterações em um laço `for` com o interesse de produzir aproximações sucessivas, o ato de \"iterar\" aqui aplica-se ao processo sequenciado de testar, desenhar, redesenhar, comparar e arquitetar diferentes versões de um gráfico ou _plot_. Comece com o papel, esboce a versão \"1.0\", a \"1.1\", a \"1.2\", então a \"2.0\" e assim por diante. Oportunamente, busque conselhos, opiniões e _feedbacks_ com profissionais experientes ou colegas que atuam paralelamente ao que você faz a fim de obter ajuda para esclarecer pontos obscuros ou concretizar idéias que ainda estejam em um plano abstrato."
   ]
  },
  {
   "attachments": {},
   "cell_type": "markdown",
   "metadata": {},
   "source": [
    "### Dedicar tempo\n",
    "\n",
    "Aprender a elaborar gráficos, projetar _plots_ e criar produtos visuais de alto valor agregado exige tempo. É preciso dedicar-se ao aprendizado de técnicas, desenvolver-se em programação, visitar websites especializados, ler artigos e analisar casos de sucesso. Tudo isso leva tempo! A curva de aprendizagem de Python, por exemplo, para dominar completamente os módulos de visualização é íngreme e pode durar meses, ou até anos. A cada nova ferramenta aprendida, porém, sua mochila de recursos torna-se mais volumosa. Então, prossiga passo a passo, buscando a excelência e não um mero \"tick de completado\" na sua lista de tarefas.  "
   ]
  },
  {
   "attachments": {},
   "cell_type": "markdown",
   "metadata": {},
   "source": [
    "### Inspirar-se em bons exemplos\n",
    "\n",
    "Diz um adágio que o sucesso deve ser imitado. Ao deparar-se com um projeto de visualização de dados bem elaborado ou um produto de visualização que lhe chamar muita atenção, refilta sobre ele e tente identificar o que você enxerga nele que o torna eficiente. Então, tente criar uma variação dele ou inspire-se nele para desenvolver um projeto novo com traços herdados da peça observada.\n",
    "\n",
    "Bons exemplos podem ser encontrados em diversos sites e blogs da internet, tais como:\n",
    "\n",
    "- [Flourish](https://flourish.studio/examples/);\n",
    "- [Urban Institute](http://urbaninstitute.github.io/graphics-styleguide/);\n",
    "- [PolicyViz](https://policyviz.com/resources/policyviz-data-visualization-catalog/);\n",
    "- [EagerEyes](https://eagereyes.org);\n",
    "- [The Functional Art](http://www.thefunctionalart.com) e\n",
    "- [Storytelling with Data](http://storytellingwithdata.com)."
   ]
  },
  {
   "attachments": {},
   "cell_type": "markdown",
   "metadata": {},
   "source": [
    "#### Encontrar o próprio estilo\n",
    "\n",
    "É bastante natural imprimirmos nossas próprias características, gostos e opções pessoais nos trabalhos que fazemos. Em visualização de dados, isto pode ocorrer quando optamos por uma família e estilo de fonte de texto, quando preferimos tons azulados em vez de esverdeados, ou quando preferimos espessuras de linhas mais grossas do que finas. Independentemente de como aplicamos esses \"degradês\" diversos de técnicas, devemos encontrar um estilo próprio ao elaborar projetos de visualização de dados."
   ]
  },
  {
   "attachments": {},
   "cell_type": "markdown",
   "metadata": {},
   "source": [
    "## Receituário de visuais e tabelas\n",
    "\n",
    "Nesta seção apresentamos um pequeno receituário sugestivo sobre como organizar dados em tabelas e gráficos."
   ]
  },
  {
   "attachments": {},
   "cell_type": "markdown",
   "metadata": {},
   "source": [
    "### Passos fundamentais do _design_ visual\n",
    "\n",
    "1. Determine a sua mensagem;\n",
    "2. Selecione o melhor meio de exibi-la;\n",
    "3. Projete o visual para que a mensagem seja clara, simples e precisa. Para tanto,\n",
    "- Faça com que os dados sejam claros;\n",
    "- Remova componentes desnecessárias;\n",
    "- Destaque a informação mais importante"
   ]
  },
  {
   "attachments": {},
   "cell_type": "markdown",
   "metadata": {},
   "source": [
    "### Uso de tabelas e gráficos\n",
    "\n",
    "```{table} Uso de tabelas e gráficos.\n",
    ":name: tbl-tabelas-graficos\n",
    "\n",
    "| Use tabelas quando | Use gráficos quando |\n",
    "|:-------------|:-------------------------:|\n",
    "| O visual será usado para ressaltar valores individuais | A mensagem está contida em padrões, tendências e exceções |\n",
    "| O visual será usado apenas para comparar valores individuais em vez de uma série de valores | Uma série inteira de valores deve ser vista como um todo e ou comparada |\n",
    "| Valores precisos são necessários | |\n",
    "| Os valores envolvem mais do que uma unidade de medida | | \n",
    "| Os valores devem ser apresentados em vários níveis de agregação (resumo e detalhamento) | |\n",
    "```"
   ]
  },
  {
   "attachments": {},
   "cell_type": "markdown",
   "metadata": {},
   "source": [
    "### Relacionamento e estrutura\n",
    "\n",
    "Ao lidar com relacionamentos de dados do tipo **quantitativo-categórico**, acomode a relação com a estrutura (unidirecional ou bidirecional).\n",
    "\n",
    "```{table} Acomodando relacionamento de dados do tipo quantitativo-categórico a estruturas.\n",
    ":name: tbl-relacao-estruturas-qc\n",
    "\n",
    "| Relacionamento | Estr. unidirecional | Estr. bidirecional |\n",
    "|:---------------|:--------------------|-------------------:|\n",
    "| Entre um conjunto único de valores quantitativos e um conjunto único de items categóricos | Sim | Não aplicável (há apenas um conjunto categórico) |\n",
    "| Entre um conjunto único de valores quantitativos e o conjunto interseção de várias categorias | Sim (preferível por convenção) | Sim (economiza espaço) |\n",
    "| Entre um conjunto único de valores quantitativos e o conjunto interseção de várias categorias hierarquizadas | Sim | Sim (menos clara que a unidirecional)\n",
    "```\n",
    "\n",
    "De forma semelhante, faça acomodações ao lidar com relacionamentos de dados do tipo **quantitativo-quantitativo**. \n",
    "\n",
    "```{table} Acomodando relacionamento de dados do tipo quantitativo-quantitativo a estruturas.\n",
    ":name: tbl-relacao-estruturas-qq\n",
    "\n",
    "| Relacionamento | Estr. unidirecional | Estr. bidirecional |\n",
    "|:---------------|:--------------------|-------------------:|\n",
    "| Entre um conjunto único de valores quantitativos associado com itens categóricos múltiplos | Sim | Sim (facilita comparação) |\n",
    "| Entre conjuntos distintos de valores quantitativos associados com item categórico único | Sim | Sim (estrutura tende a ser confusa se forema adicionados múltiplos conjuntos quantitativos)  |\n",
    "```"
   ]
  },
  {
   "attachments": {},
   "cell_type": "markdown",
   "metadata": {},
   "source": [
    "### Matriz de seleção de representações visuais\n",
    "\n",
    "A seguinte matriz pode ser utilizada como referência para localizar a melhor combinação de plotagem entre grupo de dados e tipo de gráfico.\n",
    "\n",
    "```{table} Matriz de seleção de plotagem.\n",
    ":name: tbl-matriz-selecao\n",
    "\n",
    "| Grupo | Pontos (_dot plots_) | Linhas (_line plots_) | Barras (_barplots_) | Caixas (_boxplots_) |\n",
    "|:---------------|:--------------------|---|---|----------------:|\n",
    "| Séries temporais | Sim (quando faltam pontos para cobrir todo o intervalo de tempo) | Sim (quando se quer mostrar tendências) | Sim (quando se quer destacar valores individuais para comparação) | Sim (quando se quer mostrar como distribuições mudam com o tempo) |\n",
    "| Ranqueamento | Sim (quando a escala quantitativa não parte de zero) | Não | Sim | Sim (quando se quer mostrar um conjunto ranqueado de distribuições) |\n",
    "| Proporções | Não | Sim (quando se quer mostrar como partes do todo mudam com o tempo) | Sim | Não |\n",
    "| Desvios | Sim (quando a escala quantitativa não parte de zero) | Sim | Sim | Não |\n",
    "| Distribuições | Sim (na forma de _strip plot_, quando se quer destacar valores individuais) | Sim (como polígono de frequências, para destacar o formato médio da distribuição) | Sim | Sim (ao se comparar múltiplas distribuições) |\n",
    "| Correlações | Sim (como _scatter plot_) | Não | Sim | Não |\n",
    "| Geoespaciais | Sim (como bolhas de vários tamanhos sobrepostas no mapa) | Sim (quando se quer mostrar rotas) | Não | Não |\n",
    "| Comparação nominal | Sim (como _dot plot_) | Não | Sim | Não |\n",
    "```"
   ]
  }
 ],
 "metadata": {
  "kernelspec": {
   "display_name": "Python 3",
   "language": "python",
   "name": "python3"
  },
  "language_info": {
   "codemirror_mode": {
    "name": "ipython",
    "version": 3
   },
   "file_extension": ".py",
   "mimetype": "text/x-python",
   "name": "python",
   "nbconvert_exporter": "python",
   "pygments_lexer": "ipython3",
   "version": "3.10.8 (main, Oct 13 2022, 09:48:40) [Clang 14.0.0 (clang-1400.0.29.102)]"
  },
  "vscode": {
   "interpreter": {
    "hash": "b0fa6594d8f4cbf19f97940f81e996739fb7646882a419484c72d19e05852a7e"
   }
  }
 },
 "nbformat": 4,
 "nbformat_minor": 2
}