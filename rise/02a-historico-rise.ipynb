{
 "cells": [
  {
   "cell_type": "markdown",
   "metadata": {
    "slideshow": {
     "slide_type": "slide"
    }
   },
   "source": [
    "# Marcos Históricos da Visualização de Dados\n",
    "\n",
    "Prof. Gustavo Oliveira\n",
    "\n",
    "CI/DCC/UFPB\n",
    "\n",
    "[gcpeixoto.github.com/DATAVIZ](gcpeixoto.github.com/DATAVIZ)"
   ]
  },
  {
   "cell_type": "markdown",
   "metadata": {
    "slideshow": {
     "slide_type": "slide"
    }
   },
   "source": [
    "## Considerações iniciais\n",
    "\n",
    "- Mapeamento pleno dos fatos históricos de dataviz é quase impossível\n",
    "- Faremos um breve resumo dos principais eventos que marcaram época\n",
    "- Base: _Milestones in the History of Data Visualization: A Case Study in Statistical Historiography_, de Michael Friendly, York Univ., Canadá"
   ]
  },
  {
   "cell_type": "markdown",
   "metadata": {
    "slideshow": {
     "slide_type": "slide"
    }
   },
   "source": [
    "## Cronologia\n",
    "\n",
    "- Registros da informação quantitativa técnica mais especializada remonta ao século XV\n",
    "- Motivação: cartografia e pensamento estatístico \n",
    "- Relatos são incompletos e organizados por autores ligados à matemática, astronomia e estatística. \n",
    "- Consideraremos apenas eventos ocorridos a partir do século XVII\n",
    "\n"
   ]
  },
  {
   "cell_type": "markdown",
   "metadata": {
    "slideshow": {
     "slide_type": "slide"
    }
   },
   "source": [
    "<img src=\"../figs/dataviz-milestones.png\" width=\"700\" height=\"700\">\n"
   ]
  },
  {
   "cell_type": "markdown",
   "metadata": {
    "slideshow": {
     "slide_type": "slide"
    }
   },
   "source": [
    "### 1600 a 1699 - Medições e teoria\n",
    "\n",
    "- Início do século: interesse em medir quantidades físicas (tempo, distância, espaço) \n",
    "- Navegação, expansão territorial e estudo dos astros. \n",
    "- Ascenção da geometria analítica, teoria dos erros e estimações, teoria da probabilidade, estatística demográfica. \n",
    "- Michael Florent van Langren, astrônomo da corte espanhola supostamente quem criou a primeira representação visual de dados estatísticos em 1644"
   ]
  },
  {
   "cell_type": "markdown",
   "metadata": {
    "slideshow": {
     "slide_type": "slide"
    }
   },
   "source": [
    "### Gráfico de [Van Langren](http://galileo.rice.edu/Catalog/NewFiles/langren.html)\n",
    "\n",
    "[Obra original](https://archive.org/details/ayer_qb_225_l36_1644/page/n9/mode/2up)\n",
    "\n",
    "- Nasceu em Amsterdam (1598); morreu em Bruxelas (1675)\n",
    "- Van Langren mostra como vários autores determinaram a distância de Toledo a Roma\n",
    "- A distância verdadeira é 16 graus e 30 minutos (marcada pela seta)\n",
    "\n",
    "\n",
    "<img src=\"../figs/langren.png\" width=\"500\" height=\"500\">"
   ]
  },
  {
   "cell_type": "markdown",
   "metadata": {
    "slideshow": {
     "slide_type": "slide"
    }
   },
   "source": [
    "#### Notas\n",
    "\n",
    "- O gráfico de Van Langren foi a 1a. RV de um dado estatístico\n",
    "- Diferenciou-se por ser baseado em dados\n",
    "- [Oresme](https://en.wikipedia.org/wiki/Nicole_Oresme) (~1360), por exemplo, não tinha dados"
   ]
  },
  {
   "cell_type": "markdown",
   "metadata": {
    "slideshow": {
     "slide_type": "slide"
    }
   },
   "source": [
    "#### Como Van Langren influenciou as RVs \n",
    "\n",
    "<img src=\"../figs/timeline-vanlangren.png\" width=\"700\" height=\"700\">"
   ]
  },
  {
   "cell_type": "markdown",
   "metadata": {
    "slideshow": {
     "slide_type": "slide"
    }
   },
   "source": [
    "### 1700 a 1799 - Novas formas gráficas\n",
    "\n",
    "- Formas gráficas mais elaboradas passaram a enriquecer os mapas\n",
    "- Caminhos foram abertos para isolinhas e isocontornos, mapeamento temático de dados físicos, geológicos, econômicos e médicos. \n",
    "- Gráficos abstratos e os primeiros gráficos de funções matemáticas introduzidos"
   ]
  },
  {
   "cell_type": "markdown",
   "metadata": {
    "slideshow": {
     "slide_type": "slide"
    }
   },
   "source": [
    "### [Joseph Priestley](https://en.wikipedia.org/wiki/Joseph_Priestley)\n",
    "\n",
    "- Nasceu na Inglaterra em 1733; morreu nos EUA em 1804\n",
    "- Desenvolveu gráfico de barra (tempo de vida de pessoas)\n"
   ]
  },
  {
   "cell_type": "markdown",
   "metadata": {
    "slideshow": {
     "slide_type": "slide"
    }
   },
   "source": [
    "<img src=\"../figs/priestley-chart.png\" width=\"700\" height=\"700\">"
   ]
  },
  {
   "cell_type": "markdown",
   "metadata": {
    "slideshow": {
     "slide_type": "slide"
    }
   },
   "source": [
    "### [William Playfair](https://en.wikipedia.org/wiki/William_Playfair) \n",
    "\n",
    "- Nasceu na Escócia em 1759; morreu em 1823\n",
    "- Considerado o principal inventor da época \n",
    "- Pioneiro da construção das RVs que utilizamos até hoje: \n",
    "    - gráfico de linhas e de barras (1786)\n",
    "    - setores (\"pizza\") e circular (1801)."
   ]
  },
  {
   "cell_type": "markdown",
   "metadata": {
    "slideshow": {
     "slide_type": "slide"
    }
   },
   "source": [
    "### Mapa da história do comércio exterior da Inglaterra (1500 AEC - 1800 DEC)\n",
    "\n",
    "<img src=\"../figs/universal-map-trade.png\" width=\"700\" height=\"700\">"
   ]
  },
  {
   "cell_type": "markdown",
   "metadata": {
    "slideshow": {
     "slide_type": "slide"
    }
   },
   "source": [
    "### Balança comercial da Inglaterra\n",
    "\n",
    "<img src=\"../figs/playfair1.png\" width=\"600\" height=\"600\">"
   ]
  },
  {
   "cell_type": "markdown",
   "metadata": {
    "slideshow": {
     "slide_type": "slide"
    }
   },
   "source": [
    "### Série temporal da Inglaterra\n",
    "\n",
    "- Série temporal tripla: variação de preço do trigo, do salário semanal e do monarca reinante ao longo de 250 anos (1565 - 1820).\n",
    "\n",
    "<img src=\"../figs/playfair2.png\" width=\"600\" height=\"600\">"
   ]
  },
  {
   "cell_type": "markdown",
   "metadata": {
    "slideshow": {
     "slide_type": "slide"
    }
   },
   "source": [
    "### Dívida pública da Inglaterra\n",
    "\n",
    "<img src=\"../figs/playfair3.png\" width=\"300\" height=\"180\">"
   ]
  },
  {
   "cell_type": "markdown",
   "metadata": {
    "slideshow": {
     "slide_type": "slide"
    }
   },
   "source": [
    "### Gráfico de \"pizza\"\n",
    "\n",
    "- Proporções do Império Turco na Ásia, Europa e África antes de 1789\n",
    "\n",
    "<img src=\"../figs/pieChart-playfair.jpg\" width=\"300\" height=\"300\">"
   ]
  },
  {
   "cell_type": "markdown",
   "metadata": {
    "slideshow": {
     "slide_type": "slide"
    }
   },
   "source": [
    "### Período de 1800 - 1850: princípio dos gráficos modernos\n",
    "\n",
    "- Explodiram os gráficos estatísticos e os mapas temáticos modernos\n",
    "- Histogramas, séries temporais, gráficos de dispersão e atlas compreensivos\n",
    "- Diversas formas de simbolismo em tópicos econômicos, sociais, morais"
   ]
  },
  {
   "cell_type": "markdown",
   "metadata": {
    "slideshow": {
     "slide_type": "slide"
    }
   },
   "source": [
    "#### [Charles Minard](https://en.wikipedia.org/wiki/Charles_Joseph_Minard)\n",
    "\n",
    "- Minard é o mais proeminente deste tempo"
   ]
  },
  {
   "cell_type": "markdown",
   "metadata": {
    "slideshow": {
     "slide_type": "slide"
    }
   },
   "source": [
    "### Campanha militar de Napoleão\n",
    "\n",
    "<img src=\"../figs/minard1.png\" width=\"700\" height=\"400\">"
   ]
  },
  {
   "cell_type": "markdown",
   "metadata": {
    "slideshow": {
     "slide_type": "slide"
    }
   },
   "source": [
    "### Tableau gráfico\n",
    "\n",
    "- Transporte de artigos comerciais pelo Canal du Centre\n",
    "- Paradas intermediárias espaçadas por distância\n",
    "\n",
    "<img src=\"../figs/minard-tableau.png\" width=\"700\" height=\"400\">"
   ]
  },
  {
   "cell_type": "markdown",
   "metadata": {
    "slideshow": {
     "slide_type": "slide"
    }
   },
   "source": [
    "### Período de 1850 - 1900\n",
    "\n",
    "- Na segunda metade do século XIX, cenário pronto para consolidação da dataviz\n",
    "- Escritórios oficiais sobre análises estatísticas foram estabelecidos por toda a Europa\n",
    "- Teoria estatística encabeçada por Gauss e Laplace\n",
    "\n",
    "(Ver slides Friendly)"
   ]
  },
  {
   "cell_type": "markdown",
   "metadata": {
    "slideshow": {
     "slide_type": "slide"
    }
   },
   "source": [
    "### Período de 1900 - 1950\n",
    "\n",
    "- Pouca inovação para gráficos estatísticos\n",
    "- Figuras passaram a ser meras ilustrações. \n",
    "- Fase da história da visualização de dados conhecida como a _era das trevas_. \n",
    "- Representações visuais tornaram-se populares, no entanto passando a compor livros didáticos, currículos escolares. \n",
    "- Também instauraram o padrão visual em instituições governamentais, comerciais e científicas. "
   ]
  },
  {
   "cell_type": "markdown",
   "metadata": {
    "slideshow": {
     "slide_type": "slide"
    }
   },
   "source": [
    "### Período de 1950 - 1975\n",
    "\n",
    "- Espírito numérico e formal estabelecido em meados da década de 1930\n",
    "- Renascimento da visualização de dados por volta de 1960\n",
    "- Desenvolvimentos mais significativos após cerca de 50 anos de apatia:\n",
    "    - Nos EUA, [John Tukey](https://en.wikipedia.org/wiki/John_Tukey) (1915 - 2000) configura-se como patrono da _Análise Exploratória de Dados_.\n",
    "    - Na França, [Jacques Bertin](https://en.wikipedia.org/wiki/Jacques_Bertin) (1918 - 2010) publicou a conhecida obra _Sémiologie Graphique_ (Semiologia Gráfica) em 1967, onde estabeleceu as variáveis visuais estruturantes para se construir imagens gráficas. As 8 variáveis de Bertin revolucionaram a ciência da percepção visual.\n",
    "    - O desenvolvimento da computação, da tecnologia de impressão e de periféricos (plotters, terminais gráficos, mouse etc.)."
   ]
  },
  {
   "cell_type": "markdown",
   "metadata": {
    "slideshow": {
     "slide_type": "slide"
    }
   },
   "source": [
    "### Período de 1975 em diante\n",
    "\n",
    "No final do século XX, a ciência multidisciplinar intermediou o florescimento da visualização de dados. Métodos computacionais hoje estão disponíveis para qualquer sistema operacional, preferidos por cientistas e analistas provenientes das mais diversas áreas de conhecimento. Alguns pontos de destaque são:\n",
    "\n",
    "- Desenvolvimento de sistemas interativos;\n",
    "- Novos paradigmas de manipulação de dados;\n",
    "- Métodos inovadores para representação multidimensional de dados;\n",
    "- Reinvenção de técnicas gráficas para dados discretos e categóricos;\n",
    "- Visualização de dados suportada por estruturas de dados de alta complexidade;\n",
    "- Domínio de conhecimento sobre aspectos cognitivos e de percepção da representação de dados;\n",
    "- Crescimento da infraestrutura tecnológica e computacional para visualização (códigos abertos, engenharia de software gráficos, computação paralela, _streaming_ de dados em tempo real)."
   ]
  },
  {
   "cell_type": "markdown",
   "metadata": {
    "slideshow": {
     "slide_type": "slide"
    }
   },
   "source": [
    "### Fatos emblemáticos\n",
    "\n",
    "A seguinte tabela mostra uma cronologia breve sobre fatos emblemáticos da dataviz.\n",
    "\n",
    "| Período     | Evento |\n",
    "|:------------|:--------------------------------------------------------------------------------------------------------------------------------------|\n",
    "| 1750 - 1800 | William Playfair produz os primeiros gráficos modernos.                                                                               |\n",
    "| 1858        | Florence Nightingale cria o seu “diagrama Coxcomb” (circular) para ilustrar frações de mortalidade por doenças no exército britânico. |\n",
    "| 1861        | Charles Minard publica a Carte Figurative.                                                                                            |\n",
    "| 1914        | Willard Brinton publica o primeiro livro sobre visualização para negócios: Graphic Methods for Presenting Facts.                      |                               |                               |"
   ]
  },
  {
   "cell_type": "markdown",
   "metadata": {
    "slideshow": {
     "slide_type": "slide"
    }
   },
   "source": [
    "| Período     | Evento |\n",
    "|:------------|:--------------------------------------------------------------------------------------------------------------------------------------|\n",
    "| 1952        | Mary Eleanor Spear publica Charting Statistics, um livro de melhores práticas de criação de gráficos.                                 |\n",
    "| 1967        | Jacques Bertin publica Sémiologie Graphique.                                                                                          |\n",
    "| 1970 - 1980 | John Tukey inaugura a visualização de dados por meio de computadores e populariza os conceito de análise exploratória de dados.       |\n",
    "| 1983        | Edward Tufte publica The Visual Display of Quantitative Information.                                                                  |\n",
    "| 1984        | William Cleveland e Robert McGill publicam o primeiro de vários trabalhos de pesquisa que tentam medir a “percepção gráfica”.   "
   ]
  },
  {
   "cell_type": "markdown",
   "metadata": {
    "slideshow": {
     "slide_type": "slide"
    }
   },
   "source": [
    "| Período     | Evento |\n",
    "|:------------|:--------------------------------------------------------------------------------------------------------------------------------------|\n",
    "| 1986        | Jock Mackinlay publica uma influente tese de doutorado que levou o trabalho de Jacques Bertin para a era digital.                     |\n",
    "| 1990 - 2000 | Abordagens divergentes surgem entre agentes da visualização científica de dados e jornalistas orientados por design.                  |\n",
    "| 2010        | Dataviz torna-se democrática por causa da internet.                                                                                   |\n",
    "| Hoje        | Dataviz se expande por um amplo espectro de disciplinas com gráficos dinâmicos e alta interatividade.                                 |                               |"
   ]
  }
 ],
 "metadata": {
  "celltoolbar": "Slideshow",
  "kernelspec": {
   "display_name": "Python 3 (ipykernel)",
   "language": "python",
   "name": "python3"
  },
  "language_info": {
   "codemirror_mode": {
    "name": "ipython",
    "version": 3
   },
   "file_extension": ".py",
   "mimetype": "text/x-python",
   "name": "python",
   "nbconvert_exporter": "python",
   "pygments_lexer": "ipython3",
   "version": "3.10.9"
  },
  "rise": {
   "enable_chalkboard": true,
   "footer": "DATAVIZ",
   "header": "Gustavo Oliveira",
   "theme": "white"
  },
  "vscode": {
   "interpreter": {
    "hash": "62aa3616d1d4e8dca987b405e9154085c089eb3c5a17f4da4310667e0712ec96"
   }
  }
 },
 "nbformat": 4,
 "nbformat_minor": 2
}
