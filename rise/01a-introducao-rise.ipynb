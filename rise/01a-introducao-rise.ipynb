{
 "cells": [
  {
   "cell_type": "markdown",
   "metadata": {
    "slideshow": {
     "slide_type": "slide"
    }
   },
   "source": [
    "# Introdução à Visualização de Dados"
   ]
  },
  {
   "cell_type": "markdown",
   "metadata": {
    "slideshow": {
     "slide_type": "slide"
    }
   },
   "source": [
    "Características essenciais para o desenvolvimento de habilidades na disciplina:\n",
    "\n",
    "- Familiaridade com _estatística_;\n",
    "- _Vontade_ de aprender coisas novas; \n",
    "- _Curiosidade_ para descobrir respostas;\n",
    "- Apetite por _princípios de design_;\n",
    "- Disposição para aumentar seu _rigor analítico_ e\n",
    "- _Conhecimento técnico_ de pelo menos uma ferramenta para plotagem."
   ]
  },
  {
   "cell_type": "markdown",
   "metadata": {
    "slideshow": {
     "slide_type": "slide"
    }
   },
   "source": [
    "\n",
    "## Pontos de equilíbrio\n",
    "\n",
    "\n",
    "1. É melhor aprender visualização de dados através de um guia ou manual, que discute princípios, conceitos e orientações, ou através de um tutorial, que contém exemplos de código e demonstrações de gráficos incríveis?\n",
    "2. Devemos dissertar sobre as nuances artísticas, com toda a beleza do design, ou sobre a elegância simples e útil do cotidiano?\n",
    "3. Faz sentido compreender conceitos teóricos da visualização de dados, ou ser apenas pragmático?\n",
    "4. Vale seguir o exemplo dos livros pioneiros e clássicos históricos, ou avalizar o contemporâneo?\n",
    "5. O que queremos com os dados: prover um arcabouço analítico de exploração e interatividade (visualização para análise), ou apenas comunicá-los a uma audiência para gerar impacto e atratividade (visualização para comunicação)?"
   ]
  },
  {
   "cell_type": "markdown",
   "metadata": {
    "slideshow": {
     "slide_type": "slide"
    }
   },
   "source": [
    "\n",
    "## Visão geral do curso\n",
    "\n",
    "- **Fundamentos**: módulo dedicado ao estudo dos conceitos primários da visualização de dados, tais como seu desenvolvimento histórico, princípios, percepção, estética e cores.\n",
    "- **Técnicas**: módulo dedicado à discussão de técnicas diversas para representação visual de quantidades, proporções, tendências, redes e informações gerais, através de exemplos de códigos.\n",
    "- **Aplicações**: módulo dedicado à apresentação de ferramentas e plataformas modernas para construção de painéis analíticos (_dashboards_) e soluções de _data reporting_ com tutoriais simplificados."
   ]
  },
  {
   "cell_type": "markdown",
   "metadata": {
    "slideshow": {
     "slide_type": "slide"
    }
   },
   "source": [
    "## Arquitetura visual x engenharia visual\n",
    "\n",
    "_Arquitetura visual_: área profissional que cuida da especificação dos projetos de visualização de dados;\n",
    "_Engenharia visual_: área que executa tais projetos.\n",
    "\n",
    "Este curso abrange majoritariamente a segunda área.\n",
    "\n",
    "_Nota_: as definições são do professor.\n"
   ]
  },
  {
   "cell_type": "markdown",
   "metadata": {
    "slideshow": {
     "slide_type": "slide"
    }
   },
   "source": [
    "## Definindo _Visualização de Dados_\n",
    "\n",
    "Neste curso, usaremo a seguinte definição, adaptada de [Andy Kirk](https://twitter.com/visualisingdata):\n",
    "\n",
    "> _Visualização de dados é a arte de combinar representações visuais e apresentações para facilitar a compreensão dos dados._"
   ]
  },
  {
   "cell_type": "markdown",
   "metadata": {
    "slideshow": {
     "slide_type": "subslide"
    }
   },
   "source": [
    "- _Representação visual_ (_chart_) como elemento que melhor se adéqua ao que se pretende comunicar. \n",
    "- _Charts_ têm _marcadores_ e _atributos_ como fundamentos\n",
    "- A _apresentação visual_ concerne a todas as outras tomadas de decisão de design que constituem a anatomia da visualização:\n",
    "    - seleção da paleta de cores;\n",
    "    - composição da obra;\n",
    "    - características das anotações. \n",
    "- Parcela artística do autor independe da ferramenta técnica."
   ]
  },
  {
   "cell_type": "markdown",
   "metadata": {
    "slideshow": {
     "slide_type": "subslide"
    }
   },
   "source": [
    "- A parte final da definição diz respeito à _compreensão facilitada_ dos dados,\n",
    "- Processo de captura da mensagem lançada pelo contador de história (_storyteller_) ao espectador (_viewer_) em 3 etapas cognitivas:\n",
    "\n",
    "1. _Percepção_ (o que vejo?)\n",
    "2. _Interpretação_ (o que significa?)\n",
    "3. _Compreensão_ (o que significa para mim?)"
   ]
  },
  {
   "cell_type": "markdown",
   "metadata": {
    "slideshow": {
     "slide_type": "subslide"
    }
   },
   "source": [
    "### As 3 fases da compreensão de uma representação visual\n",
    "\n",
    "<img src=\"../figs/3-steps-cognition.png\" width=\"1200\" height=\"1200\">\n"
   ]
  },
  {
   "cell_type": "markdown",
   "metadata": {
    "slideshow": {
     "slide_type": "slide"
    }
   },
   "source": [
    "### Figuras feias, ruins e erradas\n",
    "\n",
    "Diferentes versões de figuras com a mesma representação visual subjacente podem existir.\n",
    "\n",
    "- _feia_ é aquela que tem problemas estéticos, apesar de clara e informativa.\n",
    "- _ruim_ é aquela que tem problemas relacionados à percepção, tais como obscuridade, confusão, complicações e enganação.\n",
    "- _errada_ é aquela que tem problemas relacionados à matemática e é objetivamente incorreta."
   ]
  },
  {
   "cell_type": "markdown",
   "metadata": {
    "slideshow": {
     "slide_type": "subslide"
    }
   },
   "source": [
    "<img src=\"../figs/hists-lodo.png\"  width=\"1200\" height=\"1200\">"
   ]
  },
  {
   "cell_type": "markdown",
   "metadata": {
    "slideshow": {
     "slide_type": "subslide"
    }
   },
   "source": [
    "Comparação de figuras: \n",
    "\n",
    "- A) adequada, sem problemas aparentes graves; \n",
    "- B) versão \"feia\", tecnicamente correta, mas colorida inutilmente; \n",
    "- C) versão \"ruim\", também tecnicamente correta, mas com marcações e gradeado destoantes; \n",
    "- D) versão \"errada\", sem escala explícita e aparentemente díspar em quantidade."
   ]
  },
  {
   "cell_type": "markdown",
   "metadata": {
    "slideshow": {
     "slide_type": "slide"
    }
   },
   "source": [
    "### _Dataviz_, o pensamento visual e o bom plot\n",
    "\n",
    "- A visualização de dados (_dataviz_, de _data visualization_) é uma disciplina obrigatória para um novo modo de pensar: o _pensamento visual_ \n",
    "- No mundo dos negócios, pensar visualmente é ser capaz de construir representações visuais com grande potencial atrativo. \n",
    "- Para empresas competitivas, a mensagem clara e acessível transmitida graficamente é uma das grandes vantagens de _marketing_."
   ]
  },
  {
   "cell_type": "markdown",
   "metadata": {
    "slideshow": {
     "slide_type": "subslide"
    }
   },
   "source": [
    "#### _Matriz da Boa Representação Visual_\n",
    "\n",
    "- Sugere que um plot considerado \"bom\" deve aproximar-se cada vez mais da quina superior direita, onde reside a perfeição.\n",
    "\n",
    "<img src=\"../figs/good-chart-matrix.png\" width=\"600\" height=\"600\">"
   ]
  },
  {
   "cell_type": "markdown",
   "metadata": {
    "slideshow": {
     "slide_type": "slide"
    }
   },
   "source": [
    "## Princípios de Tufte\n",
    "\n",
    "- apresentar dados;\n",
    "- induzir o espectador a pensar a substância da representação visual e não os métodos ou técnicas que a estruturaram;\n",
    "- evitar distorcer os dados;\n",
    "- apresentar muitos números em um espaço mínimo;\n",
    "- tornar grandes dados coerentes;\n",
    "- encorajar os olhos a compararem diferentes partes dos dados;\n",
    "- revelar os dados em vários níveis de detalhe, do mais amplo ao mais específico;\n",
    "- servir a um propósito claro: descrever, explorar, tabelar e decorar; e \n",
    "- estar estreitamente vinculada às descrições estatísticas e verbais dos dados.\n",
    "\n",
    "Ver [Edward Tufte](https://www.edwardtufte.com/tufte/)"
   ]
  },
  {
   "cell_type": "markdown",
   "metadata": {
    "slideshow": {
     "slide_type": "subslide"
    }
   },
   "source": [
    "Alguns princípios fundamentais de Tufte incorporam todas as expectativas acima:\n",
    "\n",
    "- _Integridade visual_: a figura não deve, de forma alguma, distorcer ou criar falsas interpretações dos dados."
   ]
  },
  {
   "cell_type": "markdown",
   "metadata": {
    "slideshow": {
     "slide_type": "subslide"
    }
   },
   "source": [
    "- _Maximização da razão \"tinta-dados\"_: para Tufte, o _storyteller_ precisa atentar para a quantidade de elementos agregados em uma representação visual. A equação para o que Tufte chamou de razão \"tinta-dados\" (_data-ink ratio_), aqui denotada por $\\text{RTD}$ é: \n",
    "\n",
    "$$\\text{RTD} = \\dfrac{d - t}{T},$$\n",
    "\n",
    "onde $d$, $t$, e $T$ denotam, nesta ordem, a quantidade de tinta usada para os dados, para os adereços e para ambos, no total. Maximizar a $\\text{RTD}$ implica em eliminar do visual aquilo que é inútil ou não essencial."
   ]
  },
  {
   "cell_type": "markdown",
   "metadata": {
    "slideshow": {
     "slide_type": "subslide"
    }
   },
   "source": [
    "- _Estética_: a elegância visual só pode ser atingida ao se equilibrar a complexidade dos dados com a simplicidade do design."
   ]
  },
  {
   "cell_type": "markdown",
   "metadata": {
    "slideshow": {
     "slide_type": "slide"
    }
   },
   "source": [
    "## Ferramentas técnicas do curso\n",
    "\n",
    "- Python 3.x como linguagem de programação básica\n",
    "- Diversidade de pacotes para construção de plotagens e utilidades. \n",
    "- Recomendação: ambiente virtual `conda` "
   ]
  },
  {
   "cell_type": "markdown",
   "metadata": {
    "slideshow": {
     "slide_type": "slide"
    }
   },
   "source": [
    "### Criação do novo ambiente\n",
    "\n",
    "- Execute o comando: \n",
    "\n",
    "```\n",
    "conda env create --file dataviz.yml\n",
    "```\n",
    "\n",
    "- Habilite o ambiente:\n",
    "\n",
    "```\n",
    "conda activate dataviz\n",
    "```"
   ]
  },
  {
   "cell_type": "raw",
   "metadata": {
    "slideshow": {
     "slide_type": "subslide"
    }
   },
   "source": [
    "# dataviz.yml\n",
    "\n",
    "name: dataviz\n",
    "channels:\n",
    "  - defaults\n",
    "  - conda-forge\n",
    "dependencies:\n",
    "  - numpy\n",
    "  - scipy\n",
    "  - dash\n",
    "  - bokeh\n",
    "  - hvplot\n",
    "  - datashader\n",
    "  - dask\n",
    "  - h5py\n",
    "  - geoviews\n",
    "  - pandas\n",
    "  - matplotlib\n",
    "  - seaborn\n",
    "  - plotly\n",
    "  - geopandas\n",
    "  - networkx"
   ]
  },
  {
   "cell_type": "markdown",
   "metadata": {
    "slideshow": {
     "slide_type": "slide"
    }
   },
   "source": [
    "### Exemplo aplicado\n",
    "\n",
    "- Visualizando a variação do preço por litro, em R$, de 6 tipos de combustíveis comercializados no estado da Paraíba por 8 operadoras durante o primeiro semestre de 2022. \n",
    "\n",
    "- Para a plotagem, usamos parte do [_dataset_](https://dados.gov.br/dataset/serie-historica-de-precos-de-combustiveis-por-revenda/resource/a1e1955b-f340-415d-83bf-bbce710d142b) correspondente disponibilizado pela ANP no portal [Dados Abertos](https://dados.gov.br) do Governo Federal."
   ]
  },
  {
   "cell_type": "code",
   "execution_count": 2,
   "metadata": {
    "slideshow": {
     "slide_type": "subslide"
    },
    "tags": [
     "hide-input"
    ]
   },
   "outputs": [
    {
     "data": {
      "image/png": "[encoded data removed]",
      "text/plain": [
       "<Figure size 1400x500 with 1 Axes>"
      ]
     },
     "metadata": {},
     "output_type": "display_data"
    }
   ],
   "source": [
    "from pandas import read_csv\n",
    "from matplotlib.pyplot import subplots\n",
    "import seaborn as sns\n",
    "\n",
    "# pandas\n",
    "df = read_csv('../data/preco-combs-pb-2022-02.csv')\n",
    "\n",
    "# matplotlib\n",
    "fig, ax = subplots(figsize=(14,5))\n",
    "ax.set_title('Preço de combustíveis - PB - Semestre 2022/01. Fonte: ANP')\n",
    "ax.set_ylabel('litro (R$)')\n",
    "\n",
    "# seaborn\n",
    "sns.set_style(\"whitegrid\")\n",
    "g = sns.boxplot(data=df, x=\"Bandeira\", y=\"Valor de Venda\",\n",
    "    hue='Produto',palette=\"deep\",ax = ax)\n",
    "sns.move_legend(g, \"upper center\", title='', ncol=1,\n",
    "    frameon=True, bbox_to_anchor=(1.11, .8))\n",
    "sns.despine(offset=5,trim=True)\n",
    "sns.set_style()"
   ]
  },
  {
   "cell_type": "markdown",
   "metadata": {
    "slideshow": {
     "slide_type": "slide"
    }
   },
   "source": [
    "## Terminologias\n",
    "\n",
    "\n",
    "### Termos para pessoas\n",
    "\n",
    "- _Storyteller_: você, que está construindo o produto de visualização (cf. _visualiser_, _analyst_,_visualist_, _designer_).\n",
    "- _Viewer_: a pessoa que visualiza o produto construído (cf. _consumer_, _reader_, _user_).\n",
    "- _Audiência_: um grupo de espectadores ou coorte social a quem o produto de visualização é direcionado (cf. _audience_)."
   ]
  },
  {
   "cell_type": "markdown",
   "metadata": {
    "slideshow": {
     "slide_type": "subslide"
    }
   },
   "source": [
    "### Termos para dados\n",
    "\n",
    "- _Dado bruto_: estado inicial de um dado coletado, recebido ou baixado de um repositório ainda não tratado ou sujeito a análises (cf. _raw data_).\n",
    "- _Fonte_: origem do dado bruto utilizado para a visualização (cf. _data source_).\n",
    "- _Dataset_: uma tabela ou coleção de tabelas dispostas como um _array_ computacional e organizadas em linhas (registros, instâncias ou itens) e colunas (variáveis, detalhes dos itens).\n",
    "- _Tipo_: a especificação de uma variável de tabela. Geralmente, um dado é _ordinal_ (obedece a uma relação de ordem), _numérico_ (manipulável por operações aritméticas) ou _categórico_ (identificado por um atributo que o difere de outro).\n",
    "- _Série_: sequência de valores assumidos por uma mesma variável em um _dataset_."
   ]
  },
  {
   "cell_type": "markdown",
   "metadata": {
    "slideshow": {
     "slide_type": "subslide"
    }
   },
   "source": [
    "### Termos para visualização\n",
    "\n",
    "- _Projeto de visualização_: conjunto de etapas progressivas que culminam na geração de um produto de visualização.\n",
    "- _Produto de visualização_: entregável de um projeto de visualização. Em geral, será uma _representação visual de dados_.\n",
    "- _Representação visual de dados_: termo genérico que abrange as diversas formas de disposição visual de dados, que chamaremos de _plot_. Um _plot_ pode ser um traçado representativo de uma quantitidade matemática univariada (gráfico), ou a aplicação de figuras geométricas planas ou espaciais, ou ainda a impressão de formas e símbolos para fins quantitativos ou qualitativos em várias dimensões. Assim, _plots_ incorporarão diagramas, fluxogramas, dendrogramas, superfícies, dispersões, correlações, mapas etc.\n",
    "- _Outlier_: valores em uma representação visual que escapam do intervalo normal e chamam atenção do espectador por serem ou muito menores ou muito maiores do que o esperado."
   ]
  }
 ],
 "metadata": {
  "celltoolbar": "Slideshow",
  "kernelspec": {
   "display_name": "Python 3 (ipykernel)",
   "language": "python",
   "name": "python3"
  },
  "language_info": {
   "codemirror_mode": {
    "name": "ipython",
    "version": 3
   },
   "file_extension": ".py",
   "mimetype": "text/x-python",
   "name": "python",
   "nbconvert_exporter": "python",
   "pygments_lexer": "ipython3",
   "version": "3.9.16"
  },
  "rise": {
   "enable_chalkboard": true,
   "footer": "DATAVIZ",
   "header": "Gustavo Oliveira",
   "theme": "sky"
  },
  "vscode": {
   "interpreter": {
    "hash": "62aa3616d1d4e8dca987b405e9154085c089eb3c5a17f4da4310667e0712ec96"
   }
  }
 },
 "nbformat": 4,
 "nbformat_minor": 2
}
