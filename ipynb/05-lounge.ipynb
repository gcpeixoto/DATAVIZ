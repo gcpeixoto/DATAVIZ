{
 "cells": [
  {
   "attachments": {},
   "cell_type": "markdown",
   "metadata": {},
   "source": [
    "# _Lounge_ das Representações Visuais\n",
    "\n",
    "Neste capítulo, faremos uma aproximação às diversas classes de representações visuais disponíveis em visualização de dados sem explorar ainda as tecnicalidades de construção gráfica, parcela que será coberta no próximo módulo do curso. O nome _lounge_ é sugestivo, pois será onde teremos um encontro casual com diversas espécies de _plots_ que são cotidianamente aplicados para representar dados econômicos, científicos, sociais, industriais, entre outros. \n",
    "\n",
    "O propósito será compreender a finalidade e a aplicabilidade dos _plots_.  Organizaremos nosso _lounge_ nos seguintes grupos de visualização:\n",
    "\n",
    "- quantidades;\n",
    "- distribuições;\n",
    "- proporções;\n",
    "- correlações;\n",
    "- dados geoespaciais; e\n",
    "- incertezas."
   ]
  },
  {
   "attachments": {},
   "cell_type": "markdown",
   "metadata": {},
   "source": [
    "## _Plots_ para visualizar quantidades\n",
    "\n",
    "_Plots_ para quantidades são naturalmente ligados a valores numéricos associados a algumas categorias. Neste grupo encontram-se os seguintes gráficos: \n",
    "\n",
    "- **barras**, simples, empilhadas (_stacked_) ou agrupadas (_grouped_), dispostas horizontal ou verticalmente; \n",
    "- **pontos**, uma versão simplificada dos gráficos de barras;\n",
    "- **mapas de calor** (_heatmap_), que quantificam a informação pela cor;"
   ]
  },
  {
   "cell_type": "code",
   "execution_count": null,
   "metadata": {},
   "outputs": [],
   "source": []
  },
  {
   "cell_type": "code",
   "execution_count": null,
   "metadata": {},
   "outputs": [],
   "source": []
  }
 ],
 "metadata": {
  "language_info": {
   "name": "python"
  },
  "orig_nbformat": 4
 },
 "nbformat": 4,
 "nbformat_minor": 2
}
