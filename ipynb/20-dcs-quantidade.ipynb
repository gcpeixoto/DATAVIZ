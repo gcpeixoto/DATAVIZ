{
 "cells": [
  {
   "cell_type": "markdown",
   "metadata": {},
   "source": [
    "# _Dataviz Code Session_: Quantidades"
   ]
  },
  {
   "cell_type": "markdown",
   "metadata": {},
   "source": [
    "## Objetivos da DCS\n",
    "\n",
    "- Aplicar técnicas de dataviz para plotagem e manipulação de representações visuais de quantidades.\n",
    "- Elaborar RV para dados acerca de consumidores da Netflix (Fonte: [kaggle](https://www.kaggle.com/datasets/arnavsmayan/netflix-userbase-dataset))."
   ]
  },
  {
   "cell_type": "markdown",
   "metadata": {},
   "source": [
    "## Ferramentas utilizadas\n",
    "\n",
    "- Módulos Python\n",
    "    - `pandas`\n",
    "    - `numpy`\n",
    "    - `matplotlib`\n",
    "    - `seaborn`"
   ]
  },
  {
   "cell_type": "markdown",
   "metadata": {},
   "source": [
    "## Aplicação do modelo referencial\n",
    "\n",
    "- Vide {numref}`Capítulo %s <cap:estetica>`."
   ]
  },
  {
   "cell_type": "code",
   "execution_count": 1,
   "metadata": {},
   "outputs": [],
   "source": [
    "import pandas as pd\n",
    "import numpy as np\n",
    "import seaborn as sb\n",
    "import matplotlib.pyplot as plt\n",
    "\n",
    "plt.style.use('../etc/gcpeixoto-datavis.mplstyle') # style sheet"
   ]
  },
  {
   "cell_type": "markdown",
   "metadata": {},
   "source": [
    "### Dados de entrada pré-processados"
   ]
  },
  {
   "cell_type": "markdown",
   "metadata": {},
   "source": [
    "- Carregamento de dados"
   ]
  },
  {
   "cell_type": "code",
   "execution_count": 2,
   "metadata": {},
   "outputs": [
    {
     "data": {
      "text/html": [
       "<div>\n",
       "<style scoped>\n",
       "    .dataframe tbody tr th:only-of-type {\n",
       "        vertical-align: middle;\n",
       "    }\n",
       "\n",
       "    .dataframe tbody tr th {\n",
       "        vertical-align: top;\n",
       "    }\n",
       "\n",
       "    .dataframe thead th {\n",
       "        text-align: right;\n",
       "    }\n",
       "</style>\n",
       "<table border=\"1\" class=\"dataframe\">\n",
       "  <thead>\n",
       "    <tr style=\"text-align: right;\">\n",
       "      <th></th>\n",
       "      <th>Subscription Type</th>\n",
       "      <th>Monthly Revenue</th>\n",
       "      <th>Join Date</th>\n",
       "      <th>Last Payment Date</th>\n",
       "      <th>Country</th>\n",
       "      <th>Age</th>\n",
       "      <th>Gender</th>\n",
       "      <th>Device</th>\n",
       "      <th>Plan Duration</th>\n",
       "    </tr>\n",
       "    <tr>\n",
       "      <th>User ID</th>\n",
       "      <th></th>\n",
       "      <th></th>\n",
       "      <th></th>\n",
       "      <th></th>\n",
       "      <th></th>\n",
       "      <th></th>\n",
       "      <th></th>\n",
       "      <th></th>\n",
       "      <th></th>\n",
       "    </tr>\n",
       "  </thead>\n",
       "  <tbody>\n",
       "    <tr>\n",
       "      <th>1</th>\n",
       "      <td>Basic</td>\n",
       "      <td>10</td>\n",
       "      <td>15-01-22</td>\n",
       "      <td>10-06-23</td>\n",
       "      <td>United States</td>\n",
       "      <td>28</td>\n",
       "      <td>Male</td>\n",
       "      <td>Smartphone</td>\n",
       "      <td>1 Month</td>\n",
       "    </tr>\n",
       "    <tr>\n",
       "      <th>2</th>\n",
       "      <td>Premium</td>\n",
       "      <td>15</td>\n",
       "      <td>05-09-21</td>\n",
       "      <td>22-06-23</td>\n",
       "      <td>Canada</td>\n",
       "      <td>35</td>\n",
       "      <td>Female</td>\n",
       "      <td>Tablet</td>\n",
       "      <td>1 Month</td>\n",
       "    </tr>\n",
       "    <tr>\n",
       "      <th>3</th>\n",
       "      <td>Standard</td>\n",
       "      <td>12</td>\n",
       "      <td>28-02-23</td>\n",
       "      <td>27-06-23</td>\n",
       "      <td>United Kingdom</td>\n",
       "      <td>42</td>\n",
       "      <td>Male</td>\n",
       "      <td>Smart TV</td>\n",
       "      <td>1 Month</td>\n",
       "    </tr>\n",
       "    <tr>\n",
       "      <th>4</th>\n",
       "      <td>Standard</td>\n",
       "      <td>12</td>\n",
       "      <td>10-07-22</td>\n",
       "      <td>26-06-23</td>\n",
       "      <td>Australia</td>\n",
       "      <td>51</td>\n",
       "      <td>Female</td>\n",
       "      <td>Laptop</td>\n",
       "      <td>1 Month</td>\n",
       "    </tr>\n",
       "    <tr>\n",
       "      <th>5</th>\n",
       "      <td>Basic</td>\n",
       "      <td>10</td>\n",
       "      <td>01-05-23</td>\n",
       "      <td>28-06-23</td>\n",
       "      <td>Germany</td>\n",
       "      <td>33</td>\n",
       "      <td>Male</td>\n",
       "      <td>Smartphone</td>\n",
       "      <td>1 Month</td>\n",
       "    </tr>\n",
       "    <tr>\n",
       "      <th>...</th>\n",
       "      <td>...</td>\n",
       "      <td>...</td>\n",
       "      <td>...</td>\n",
       "      <td>...</td>\n",
       "      <td>...</td>\n",
       "      <td>...</td>\n",
       "      <td>...</td>\n",
       "      <td>...</td>\n",
       "      <td>...</td>\n",
       "    </tr>\n",
       "    <tr>\n",
       "      <th>2496</th>\n",
       "      <td>Premium</td>\n",
       "      <td>14</td>\n",
       "      <td>25-07-22</td>\n",
       "      <td>12-07-23</td>\n",
       "      <td>Spain</td>\n",
       "      <td>28</td>\n",
       "      <td>Female</td>\n",
       "      <td>Smart TV</td>\n",
       "      <td>1 Month</td>\n",
       "    </tr>\n",
       "    <tr>\n",
       "      <th>2497</th>\n",
       "      <td>Basic</td>\n",
       "      <td>15</td>\n",
       "      <td>04-08-22</td>\n",
       "      <td>14-07-23</td>\n",
       "      <td>Spain</td>\n",
       "      <td>33</td>\n",
       "      <td>Female</td>\n",
       "      <td>Smart TV</td>\n",
       "      <td>1 Month</td>\n",
       "    </tr>\n",
       "    <tr>\n",
       "      <th>2498</th>\n",
       "      <td>Standard</td>\n",
       "      <td>12</td>\n",
       "      <td>09-08-22</td>\n",
       "      <td>15-07-23</td>\n",
       "      <td>United States</td>\n",
       "      <td>38</td>\n",
       "      <td>Male</td>\n",
       "      <td>Laptop</td>\n",
       "      <td>1 Month</td>\n",
       "    </tr>\n",
       "    <tr>\n",
       "      <th>2499</th>\n",
       "      <td>Standard</td>\n",
       "      <td>13</td>\n",
       "      <td>12-08-22</td>\n",
       "      <td>12-07-23</td>\n",
       "      <td>Canada</td>\n",
       "      <td>48</td>\n",
       "      <td>Female</td>\n",
       "      <td>Tablet</td>\n",
       "      <td>1 Month</td>\n",
       "    </tr>\n",
       "    <tr>\n",
       "      <th>2500</th>\n",
       "      <td>Basic</td>\n",
       "      <td>15</td>\n",
       "      <td>13-08-22</td>\n",
       "      <td>12-07-23</td>\n",
       "      <td>United States</td>\n",
       "      <td>35</td>\n",
       "      <td>Female</td>\n",
       "      <td>Smart TV</td>\n",
       "      <td>1 Month</td>\n",
       "    </tr>\n",
       "  </tbody>\n",
       "</table>\n",
       "<p>2500 rows × 9 columns</p>\n",
       "</div>"
      ],
      "text/plain": [
       "        Subscription Type  Monthly Revenue Join Date Last Payment Date  \\\n",
       "User ID                                                                  \n",
       "1                   Basic               10  15-01-22          10-06-23   \n",
       "2                 Premium               15  05-09-21          22-06-23   \n",
       "3                Standard               12  28-02-23          27-06-23   \n",
       "4                Standard               12  10-07-22          26-06-23   \n",
       "5                   Basic               10  01-05-23          28-06-23   \n",
       "...                   ...              ...       ...               ...   \n",
       "2496              Premium               14  25-07-22          12-07-23   \n",
       "2497                Basic               15  04-08-22          14-07-23   \n",
       "2498             Standard               12  09-08-22          15-07-23   \n",
       "2499             Standard               13  12-08-22          12-07-23   \n",
       "2500                Basic               15  13-08-22          12-07-23   \n",
       "\n",
       "                Country  Age  Gender      Device Plan Duration  \n",
       "User ID                                                         \n",
       "1         United States   28    Male  Smartphone       1 Month  \n",
       "2                Canada   35  Female      Tablet       1 Month  \n",
       "3        United Kingdom   42    Male    Smart TV       1 Month  \n",
       "4             Australia   51  Female      Laptop       1 Month  \n",
       "5               Germany   33    Male  Smartphone       1 Month  \n",
       "...                 ...  ...     ...         ...           ...  \n",
       "2496              Spain   28  Female    Smart TV       1 Month  \n",
       "2497              Spain   33  Female    Smart TV       1 Month  \n",
       "2498      United States   38    Male      Laptop       1 Month  \n",
       "2499             Canada   48  Female      Tablet       1 Month  \n",
       "2500      United States   35  Female    Smart TV       1 Month  \n",
       "\n",
       "[2500 rows x 9 columns]"
      ]
     },
     "execution_count": 2,
     "metadata": {},
     "output_type": "execute_result"
    }
   ],
   "source": [
    "df = pd.read_csv('../data/netflix-data.csv')\n",
    "df = df.set_index('User ID')\n",
    "df"
   ]
  },
  {
   "cell_type": "markdown",
   "metadata": {},
   "source": [
    "## Visualização de quantidades com histogramas"
   ]
  },
  {
   "cell_type": "markdown",
   "metadata": {},
   "source": [
    "### Plotagem com `pandas`\n",
    "\n",
    "- O módulo `pandas` possui métodos para plotagem básica que provêm do `matplotlib` e são um _wrapper_ de `plt.plot()`.\n",
    "- Esses métodos são diretamente aplicáveis a `Series` e `DataFrames`."
   ]
  },
  {
   "cell_type": "markdown",
   "metadata": {},
   "source": [
    "- Histogramas para objetos `DataFrame`\n",
    "    - Visualizar distribuições para todas as variáveis possíveis."
   ]
  },
  {
   "cell_type": "code",
   "execution_count": 3,
   "metadata": {},
   "outputs": [
    {
     "data": {
      "image/png": "[encoded data removed]",
      "text/plain": [
       "<Figure size 800x200 with 2 Axes>"
      ]
     },
     "metadata": {},
     "output_type": "display_data"
    }
   ],
   "source": [
    "df.hist(figsize=(8,2),\n",
    "        bins=6,\n",
    "        grid=False,\n",
    "        xlabelsize=14,\n",
    "        ylabelsize=10,\n",
    "        xrot=60,\n",
    "        yrot=-20);"
   ]
  },
  {
   "cell_type": "markdown",
   "metadata": {},
   "source": [
    "- Histogramas para objetos `Series`"
   ]
  },
  {
   "cell_type": "code",
   "execution_count": 4,
   "metadata": {},
   "outputs": [
    {
     "data": {
      "image/png": "[encoded data removed]",
      "text/plain": [
       "<Figure size 600x200 with 1 Axes>"
      ]
     },
     "metadata": {},
     "output_type": "display_data"
    }
   ],
   "source": [
    "fig, ax = plt.subplots()\n",
    "\n",
    "df['Age'].hist(figsize=(6,2),\n",
    "               bins=6, \n",
    "               grid=False,\n",
    "               color='#d3ecab',\n",
    "               edgecolor= 'w',\n",
    "               xlabelsize=14,\n",
    "               ylabelsize=14)\n",
    "\n",
    "ax.set_xlabel('Idade');"
   ]
  },
  {
   "cell_type": "markdown",
   "metadata": {},
   "source": [
    "- Histograma gerado por meio de `plot`"
   ]
  },
  {
   "cell_type": "code",
   "execution_count": 5,
   "metadata": {},
   "outputs": [
    {
     "data": {
      "image/png": "[encoded data removed]",
      "text/plain": [
       "<Figure size 800x200 with 1 Axes>"
      ]
     },
     "metadata": {},
     "output_type": "display_data"
    }
   ],
   "source": [
    "df.iloc[10:40]['Age'].plot(kind='bar',\n",
    "                           title='Histograma (faixa de usuários)',\n",
    "                           figsize=(8,2),\n",
    "                           xlabel='Usuários',\n",
    "                           ylabel='Idade',\n",
    "                          grid=False);"
   ]
  },
  {
   "cell_type": "markdown",
   "metadata": {},
   "source": [
    "### Plotagem com `matplotlib`"
   ]
  },
  {
   "cell_type": "markdown",
   "metadata": {},
   "source": [
    "- Histogramas gerados com `hist` e suas opções."
   ]
  },
  {
   "cell_type": "code",
   "execution_count": 6,
   "metadata": {},
   "outputs": [
    {
     "data": {
      "image/png": "[encoded data removed]",
      "text/plain": [
       "<Figure size 600x300 with 1 Axes>"
      ]
     },
     "metadata": {},
     "output_type": "display_data"
    }
   ],
   "source": [
    "fig, ax = plt.subplots(figsize=(6,3))\n",
    "ax.hist(x=df['Age'],\n",
    "        density=True,\n",
    "        histtype='bar',\n",
    "        align='mid',\n",
    "        rwidth=0.9,\n",
    "        color='#99ba00',\n",
    "        bins=8,\n",
    "        alpha=0.5);\n"
   ]
  },
  {
   "cell_type": "code",
   "execution_count": 7,
   "metadata": {},
   "outputs": [
    {
     "data": {
      "image/png": "[encoded data removed]",
      "text/plain": [
       "<Figure size 600x300 with 1 Axes>"
      ]
     },
     "metadata": {},
     "output_type": "display_data"
    }
   ],
   "source": [
    "fig, ax = plt.subplots(figsize=(6,3))\n",
    "ax.hist(x=df[['Age','Monthly Revenue']],\n",
    "        density=True,\n",
    "        histtype='step',\n",
    "        align='mid',\n",
    "        rwidth=0.1,\n",
    "        linewidth=10,\n",
    "        color=['#74bbff','#de45fb'],\n",
    "        bins=10);"
   ]
  },
  {
   "cell_type": "markdown",
   "metadata": {},
   "source": [
    "### Plotagem com `seaborn`"
   ]
  },
  {
   "cell_type": "markdown",
   "metadata": {},
   "source": [
    "- Opções de plotagem com `histplot`\n",
    "    - Plotar diversidade de casos com alteração das variáveis"
   ]
  },
  {
   "cell_type": "code",
   "execution_count": 8,
   "metadata": {},
   "outputs": [
    {
     "data": {
      "image/png": "[encoded data removed]",
      "text/plain": [
       "<Figure size 800x300 with 1 Axes>"
      ]
     },
     "metadata": {},
     "output_type": "display_data"
    }
   ],
   "source": [
    "f, a = plt.subplots(figsize=(8,3))\n",
    "sb.set_theme(style='darkgrid')\n",
    "\n",
    "hp = sb.histplot(data=df,\n",
    "            x='Age', # 'y' para barra horizontal\n",
    "            hue='Gender',\n",
    "            bins=10,\n",
    "            #binwidth=1, # opção com bins\n",
    "            #binrange=(32,40), # extensão\n",
    "            cumulative=False, # cumulativa\n",
    "            stat='percent', # 'count' | 'frequency' | 'probability' | 'density'\n",
    "            multiple='stack',\n",
    "            palette='muted',\n",
    "            kde=True, # density \n",
    "            kde_kws={'bw_method':'silverman', # método de binning: 'scott' | 'silverman'\n",
    "                     'bw_adjust':0.5},  # ajuste da largura de banda: quanto maior, mais suave\n",
    "            element='bars', # 'bars' | 'step' | 'poly'\n",
    "            linewidth=1,\n",
    "            edgecolor='w',\n",
    "            log_scale=True,\n",
    "            ax=a)"
   ]
  },
  {
   "cell_type": "markdown",
   "metadata": {},
   "source": [
    "## Visualização de quantidades com mapa de calor"
   ]
  },
  {
   "cell_type": "code",
   "execution_count": 85,
   "metadata": {
    "scrolled": true
   },
   "outputs": [
    {
     "data": {
      "image/png": "[encoded data removed]",
      "text/plain": [
       "<Figure size 400x600 with 1 Axes>"
      ]
     },
     "metadata": {},
     "output_type": "display_data"
    }
   ],
   "source": [
    "f, a = plt.subplots(figsize=(4,6))\n",
    "dfpt = pd.pivot_table(df, index='Country', columns='Device', values='Age')\n",
    "\n",
    "# escolha 'mask' para exibir mapa de calor com máscara\n",
    "test = 'mask'\n",
    "\n",
    "if test == 'full':\n",
    "     mask = ~np.ones(dfpt.shape,dtype=bool)   \n",
    "else:\n",
    "     mask = ~np.ones(dfpt.shape,dtype=bool)\n",
    "     indices = np.argwhere(dfpt.values > 37)    \n",
    "     mask[indices[:,0], indices[:,1]] = True\n",
    "\n",
    "g = sb.heatmap(data=dfpt,\n",
    "                 cmap=sb.color_palette('mako'),\n",
    "                 annot=False,\n",
    "                 linewidths=10,\n",
    "                 linecolor='white',\n",
    "                 square=True,\n",
    "                 cbar=False,\n",
    "                 xticklabels=False,\n",
    "                 yticklabels=False,\n",
    "                 mask=mask,\n",
    "               ax=a)\n"
   ]
  },
  {
   "cell_type": "code",
   "execution_count": 19,
   "metadata": {},
   "outputs": [
    {
     "data": {
      "text/plain": [
       "38.361702127659576"
      ]
     },
     "execution_count": 19,
     "metadata": {},
     "output_type": "execute_result"
    }
   ],
   "source": [
    "df2 = df[ (df['Country'] == 'Australia') & (df['Device'] == 'Laptop')]\n",
    "df2['Age'].mean()"
   ]
  },
  {
   "cell_type": "code",
   "execution_count": 17,
   "metadata": {},
   "outputs": [
    {
     "data": {
      "text/html": [
       "<div>\n",
       "<style scoped>\n",
       "    .dataframe tbody tr th:only-of-type {\n",
       "        vertical-align: middle;\n",
       "    }\n",
       "\n",
       "    .dataframe tbody tr th {\n",
       "        vertical-align: top;\n",
       "    }\n",
       "\n",
       "    .dataframe thead th {\n",
       "        text-align: right;\n",
       "    }\n",
       "</style>\n",
       "<table border=\"1\" class=\"dataframe\">\n",
       "  <thead>\n",
       "    <tr style=\"text-align: right;\">\n",
       "      <th>Device</th>\n",
       "      <th>Laptop</th>\n",
       "      <th>Smart TV</th>\n",
       "      <th>Smartphone</th>\n",
       "      <th>Tablet</th>\n",
       "    </tr>\n",
       "    <tr>\n",
       "      <th>Country</th>\n",
       "      <th></th>\n",
       "      <th></th>\n",
       "      <th></th>\n",
       "      <th></th>\n",
       "    </tr>\n",
       "  </thead>\n",
       "  <tbody>\n",
       "    <tr>\n",
       "      <th>Australia</th>\n",
       "      <td>38.361702</td>\n",
       "      <td>39.157895</td>\n",
       "      <td>38.709091</td>\n",
       "      <td>37.186047</td>\n",
       "    </tr>\n",
       "    <tr>\n",
       "      <th>Brazil</th>\n",
       "      <td>39.227273</td>\n",
       "      <td>37.475000</td>\n",
       "      <td>38.272727</td>\n",
       "      <td>38.272727</td>\n",
       "    </tr>\n",
       "    <tr>\n",
       "      <th>Canada</th>\n",
       "      <td>38.437500</td>\n",
       "      <td>38.397436</td>\n",
       "      <td>39.462500</td>\n",
       "      <td>38.473684</td>\n",
       "    </tr>\n",
       "    <tr>\n",
       "      <th>France</th>\n",
       "      <td>40.942308</td>\n",
       "      <td>38.767442</td>\n",
       "      <td>36.914894</td>\n",
       "      <td>39.658537</td>\n",
       "    </tr>\n",
       "    <tr>\n",
       "      <th>Germany</th>\n",
       "      <td>39.349206</td>\n",
       "      <td>38.619048</td>\n",
       "      <td>38.527778</td>\n",
       "      <td>39.428571</td>\n",
       "    </tr>\n",
       "    <tr>\n",
       "      <th>Italy</th>\n",
       "      <td>39.280000</td>\n",
       "      <td>37.826087</td>\n",
       "      <td>38.319149</td>\n",
       "      <td>38.750000</td>\n",
       "    </tr>\n",
       "    <tr>\n",
       "      <th>Mexico</th>\n",
       "      <td>38.636364</td>\n",
       "      <td>39.414634</td>\n",
       "      <td>38.934783</td>\n",
       "      <td>38.442308</td>\n",
       "    </tr>\n",
       "    <tr>\n",
       "      <th>Spain</th>\n",
       "      <td>39.224299</td>\n",
       "      <td>38.444444</td>\n",
       "      <td>38.294118</td>\n",
       "      <td>39.241379</td>\n",
       "    </tr>\n",
       "    <tr>\n",
       "      <th>United Kingdom</th>\n",
       "      <td>38.250000</td>\n",
       "      <td>40.025000</td>\n",
       "      <td>40.259259</td>\n",
       "      <td>38.088889</td>\n",
       "    </tr>\n",
       "    <tr>\n",
       "      <th>United States</th>\n",
       "      <td>38.727273</td>\n",
       "      <td>39.060345</td>\n",
       "      <td>39.030303</td>\n",
       "      <td>38.913043</td>\n",
       "    </tr>\n",
       "  </tbody>\n",
       "</table>\n",
       "</div>"
      ],
      "text/plain": [
       "Device             Laptop   Smart TV  Smartphone     Tablet\n",
       "Country                                                    \n",
       "Australia       38.361702  39.157895   38.709091  37.186047\n",
       "Brazil          39.227273  37.475000   38.272727  38.272727\n",
       "Canada          38.437500  38.397436   39.462500  38.473684\n",
       "France          40.942308  38.767442   36.914894  39.658537\n",
       "Germany         39.349206  38.619048   38.527778  39.428571\n",
       "Italy           39.280000  37.826087   38.319149  38.750000\n",
       "Mexico          38.636364  39.414634   38.934783  38.442308\n",
       "Spain           39.224299  38.444444   38.294118  39.241379\n",
       "United Kingdom  38.250000  40.025000   40.259259  38.088889\n",
       "United States   38.727273  39.060345   39.030303  38.913043"
      ]
     },
     "execution_count": 17,
     "metadata": {},
     "output_type": "execute_result"
    }
   ],
   "source": [
    "dfpt"
   ]
  },
  {
   "cell_type": "code",
   "execution_count": null,
   "metadata": {},
   "outputs": [],
   "source": []
  }
 ],
 "metadata": {
  "kernelspec": {
   "display_name": "Python 3 (ipykernel)",
   "language": "python",
   "name": "python3"
  },
  "language_info": {
   "codemirror_mode": {
    "name": "ipython",
    "version": 3
   },
   "file_extension": ".py",
   "mimetype": "text/x-python",
   "name": "python",
   "nbconvert_exporter": "python",
   "pygments_lexer": "ipython3",
   "version": "3.9.16"
  }
 },
 "nbformat": 4,
 "nbformat_minor": 2
}
