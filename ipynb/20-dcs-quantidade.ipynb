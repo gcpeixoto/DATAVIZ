{
 "cells": [
  {
   "cell_type": "markdown",
   "metadata": {},
   "source": [
    "# _Dataviz Code Session_: Quantidades"
   ]
  },
  {
   "cell_type": "markdown",
   "metadata": {},
   "source": [
    "## Objetivos da DCS\n",
    "\n",
    "- Aplicar técnicas de dataviz para plotagem e manipulação de representações visuais de quantidades.\n",
    "- Elaborar RV para dados acerca de consumidores da Netflix (Fonte: [kaggle](https://www.kaggle.com/datasets/arnavsmayan/netflix-userbase-dataset))."
   ]
  },
  {
   "cell_type": "markdown",
   "metadata": {},
   "source": [
    "## Ferramentas utilizadas\n",
    "\n",
    "- Módulos Python\n",
    "    - `pandas`\n",
    "    - `numpy`\n",
    "    - `matplotlib`\n",
    "    - `seaborn`"
   ]
  },
  {
   "cell_type": "markdown",
   "metadata": {},
   "source": [
    "## Aplicação do modelo referencial\n",
    "\n",
    "- Vide {numref}`Capítulo %s <cap:estetica>`."
   ]
  },
  {
   "cell_type": "code",
   "execution_count": 57,
   "metadata": {},
   "outputs": [],
   "source": [
    "import pandas as pd\n",
    "import numpy as np\n",
    "import seaborn as sns\n",
    "import matplotlib.pyplot as plt\n",
    "\n",
    "plt.style.use('../etc/gcpeixoto-datavis.mplstyle') # style sheet"
   ]
  },
  {
   "cell_type": "markdown",
   "metadata": {},
   "source": [
    "### Dados de entrada pré-processados"
   ]
  },
  {
   "cell_type": "markdown",
   "metadata": {},
   "source": [
    "- Carregamento de dados"
   ]
  },
  {
   "cell_type": "code",
   "execution_count": 58,
   "metadata": {},
   "outputs": [
    {
     "data": {
      "text/html": [
       "<div>\n",
       "<style scoped>\n",
       "    .dataframe tbody tr th:only-of-type {\n",
       "        vertical-align: middle;\n",
       "    }\n",
       "\n",
       "    .dataframe tbody tr th {\n",
       "        vertical-align: top;\n",
       "    }\n",
       "\n",
       "    .dataframe thead th {\n",
       "        text-align: right;\n",
       "    }\n",
       "</style>\n",
       "<table border=\"1\" class=\"dataframe\">\n",
       "  <thead>\n",
       "    <tr style=\"text-align: right;\">\n",
       "      <th></th>\n",
       "      <th>Subscription Type</th>\n",
       "      <th>Monthly Revenue</th>\n",
       "      <th>Join Date</th>\n",
       "      <th>Last Payment Date</th>\n",
       "      <th>Country</th>\n",
       "      <th>Age</th>\n",
       "      <th>Gender</th>\n",
       "      <th>Device</th>\n",
       "      <th>Plan Duration</th>\n",
       "    </tr>\n",
       "    <tr>\n",
       "      <th>User ID</th>\n",
       "      <th></th>\n",
       "      <th></th>\n",
       "      <th></th>\n",
       "      <th></th>\n",
       "      <th></th>\n",
       "      <th></th>\n",
       "      <th></th>\n",
       "      <th></th>\n",
       "      <th></th>\n",
       "    </tr>\n",
       "  </thead>\n",
       "  <tbody>\n",
       "    <tr>\n",
       "      <th>1</th>\n",
       "      <td>Basic</td>\n",
       "      <td>10</td>\n",
       "      <td>15-01-22</td>\n",
       "      <td>10-06-23</td>\n",
       "      <td>United States</td>\n",
       "      <td>28</td>\n",
       "      <td>Male</td>\n",
       "      <td>Smartphone</td>\n",
       "      <td>1 Month</td>\n",
       "    </tr>\n",
       "    <tr>\n",
       "      <th>2</th>\n",
       "      <td>Premium</td>\n",
       "      <td>15</td>\n",
       "      <td>05-09-21</td>\n",
       "      <td>22-06-23</td>\n",
       "      <td>Canada</td>\n",
       "      <td>35</td>\n",
       "      <td>Female</td>\n",
       "      <td>Tablet</td>\n",
       "      <td>1 Month</td>\n",
       "    </tr>\n",
       "    <tr>\n",
       "      <th>3</th>\n",
       "      <td>Standard</td>\n",
       "      <td>12</td>\n",
       "      <td>28-02-23</td>\n",
       "      <td>27-06-23</td>\n",
       "      <td>United Kingdom</td>\n",
       "      <td>42</td>\n",
       "      <td>Male</td>\n",
       "      <td>Smart TV</td>\n",
       "      <td>1 Month</td>\n",
       "    </tr>\n",
       "    <tr>\n",
       "      <th>4</th>\n",
       "      <td>Standard</td>\n",
       "      <td>12</td>\n",
       "      <td>10-07-22</td>\n",
       "      <td>26-06-23</td>\n",
       "      <td>Australia</td>\n",
       "      <td>51</td>\n",
       "      <td>Female</td>\n",
       "      <td>Laptop</td>\n",
       "      <td>1 Month</td>\n",
       "    </tr>\n",
       "    <tr>\n",
       "      <th>5</th>\n",
       "      <td>Basic</td>\n",
       "      <td>10</td>\n",
       "      <td>01-05-23</td>\n",
       "      <td>28-06-23</td>\n",
       "      <td>Germany</td>\n",
       "      <td>33</td>\n",
       "      <td>Male</td>\n",
       "      <td>Smartphone</td>\n",
       "      <td>1 Month</td>\n",
       "    </tr>\n",
       "    <tr>\n",
       "      <th>...</th>\n",
       "      <td>...</td>\n",
       "      <td>...</td>\n",
       "      <td>...</td>\n",
       "      <td>...</td>\n",
       "      <td>...</td>\n",
       "      <td>...</td>\n",
       "      <td>...</td>\n",
       "      <td>...</td>\n",
       "      <td>...</td>\n",
       "    </tr>\n",
       "    <tr>\n",
       "      <th>2496</th>\n",
       "      <td>Premium</td>\n",
       "      <td>14</td>\n",
       "      <td>25-07-22</td>\n",
       "      <td>12-07-23</td>\n",
       "      <td>Spain</td>\n",
       "      <td>28</td>\n",
       "      <td>Female</td>\n",
       "      <td>Smart TV</td>\n",
       "      <td>1 Month</td>\n",
       "    </tr>\n",
       "    <tr>\n",
       "      <th>2497</th>\n",
       "      <td>Basic</td>\n",
       "      <td>15</td>\n",
       "      <td>04-08-22</td>\n",
       "      <td>14-07-23</td>\n",
       "      <td>Spain</td>\n",
       "      <td>33</td>\n",
       "      <td>Female</td>\n",
       "      <td>Smart TV</td>\n",
       "      <td>1 Month</td>\n",
       "    </tr>\n",
       "    <tr>\n",
       "      <th>2498</th>\n",
       "      <td>Standard</td>\n",
       "      <td>12</td>\n",
       "      <td>09-08-22</td>\n",
       "      <td>15-07-23</td>\n",
       "      <td>United States</td>\n",
       "      <td>38</td>\n",
       "      <td>Male</td>\n",
       "      <td>Laptop</td>\n",
       "      <td>1 Month</td>\n",
       "    </tr>\n",
       "    <tr>\n",
       "      <th>2499</th>\n",
       "      <td>Standard</td>\n",
       "      <td>13</td>\n",
       "      <td>12-08-22</td>\n",
       "      <td>12-07-23</td>\n",
       "      <td>Canada</td>\n",
       "      <td>48</td>\n",
       "      <td>Female</td>\n",
       "      <td>Tablet</td>\n",
       "      <td>1 Month</td>\n",
       "    </tr>\n",
       "    <tr>\n",
       "      <th>2500</th>\n",
       "      <td>Basic</td>\n",
       "      <td>15</td>\n",
       "      <td>13-08-22</td>\n",
       "      <td>12-07-23</td>\n",
       "      <td>United States</td>\n",
       "      <td>35</td>\n",
       "      <td>Female</td>\n",
       "      <td>Smart TV</td>\n",
       "      <td>1 Month</td>\n",
       "    </tr>\n",
       "  </tbody>\n",
       "</table>\n",
       "<p>2500 rows × 9 columns</p>\n",
       "</div>"
      ],
      "text/plain": [
       "        Subscription Type  Monthly Revenue Join Date Last Payment Date  \\\n",
       "User ID                                                                  \n",
       "1                   Basic               10  15-01-22          10-06-23   \n",
       "2                 Premium               15  05-09-21          22-06-23   \n",
       "3                Standard               12  28-02-23          27-06-23   \n",
       "4                Standard               12  10-07-22          26-06-23   \n",
       "5                   Basic               10  01-05-23          28-06-23   \n",
       "...                   ...              ...       ...               ...   \n",
       "2496              Premium               14  25-07-22          12-07-23   \n",
       "2497                Basic               15  04-08-22          14-07-23   \n",
       "2498             Standard               12  09-08-22          15-07-23   \n",
       "2499             Standard               13  12-08-22          12-07-23   \n",
       "2500                Basic               15  13-08-22          12-07-23   \n",
       "\n",
       "                Country  Age  Gender      Device Plan Duration  \n",
       "User ID                                                         \n",
       "1         United States   28    Male  Smartphone       1 Month  \n",
       "2                Canada   35  Female      Tablet       1 Month  \n",
       "3        United Kingdom   42    Male    Smart TV       1 Month  \n",
       "4             Australia   51  Female      Laptop       1 Month  \n",
       "5               Germany   33    Male  Smartphone       1 Month  \n",
       "...                 ...  ...     ...         ...           ...  \n",
       "2496              Spain   28  Female    Smart TV       1 Month  \n",
       "2497              Spain   33  Female    Smart TV       1 Month  \n",
       "2498      United States   38    Male      Laptop       1 Month  \n",
       "2499             Canada   48  Female      Tablet       1 Month  \n",
       "2500      United States   35  Female    Smart TV       1 Month  \n",
       "\n",
       "[2500 rows x 9 columns]"
      ]
     },
     "execution_count": 58,
     "metadata": {},
     "output_type": "execute_result"
    }
   ],
   "source": [
    "df = pd.read_csv('../data/netflix-data.csv')\n",
    "df = df.set_index('User ID')\n",
    "df"
   ]
  },
  {
   "cell_type": "markdown",
   "metadata": {},
   "source": [
    "## Visualização de quantidades com histogramas"
   ]
  },
  {
   "cell_type": "markdown",
   "metadata": {},
   "source": [
    "### Plotagem com `pandas`\n",
    "\n",
    "- O módulo `pandas` possui métodos para plotagem básica que provêm do `matplotlib` e são um _wrapper_ de `plt.plot()`.\n",
    "- Esses métodos são diretamente aplicáveis a `Series` e `DataFrames`."
   ]
  },
  {
   "cell_type": "markdown",
   "metadata": {},
   "source": [
    "- Histogramas para objetos `DataFrame`\n",
    "    - Visualizar distribuições para todas as variáveis possíveis."
   ]
  },
  {
   "cell_type": "code",
   "execution_count": 78,
   "metadata": {},
   "outputs": [
    {
     "data": {
      "image/png": "[encoded data removed]",
      "text/plain": [
       "<Figure size 1200x200 with 2 Axes>"
      ]
     },
     "metadata": {},
     "output_type": "display_data"
    }
   ],
   "source": [
    "df.hist(figsize=(12,2),\n",
    "        bins=6,\n",
    "        grid=False,\n",
    "        xlabelsize=14,\n",
    "        ylabelsize=10,\n",
    "        xrot=60,\n",
    "        yrot=-20);"
   ]
  },
  {
   "cell_type": "markdown",
   "metadata": {},
   "source": [
    "- Histogramas para objetos `Series`"
   ]
  },
  {
   "cell_type": "code",
   "execution_count": 66,
   "metadata": {},
   "outputs": [
    {
     "name": "stderr",
     "output_type": "stream",
     "text": [
      "c:\\Users\\tales\\AppData\\Local\\Programs\\Python\\Python311\\Lib\\site-packages\\seaborn\\_oldcore.py:1119: FutureWarning:\n",
      "\n",
      "use_inf_as_na option is deprecated and will be removed in a future version. Convert inf values to NaN before operating instead.\n",
      "\n"
     ]
    },
    {
     "data": {
      "image/png": "[encoded data removed]",
      "text/plain": [
       "<Figure size 800x400 with 1 Axes>"
      ]
     },
     "metadata": {},
     "output_type": "display_data"
    }
   ],
   "source": [
    "fig, ax = plt.subplots(figsize=(8, 4))\n",
    "sns.histplot(\n",
    "    df[\"Age\"],\n",
    "    bins=8,\n",
    "    color=\"#d3ecab\",\n",
    "    edgecolor=\"white\",\n",
    "    alpha=0.9,\n",
    "    ax=ax\n",
    ")\n",
    "m_age = df[\"Age\"].mean()\n",
    "ax.set_title(\"Distribuição de Idade (Todos os Usuários)\", pad=15, fontsize=16)\n",
    "ax.set_xlabel(\"Idade\", fontsize=14)\n",
    "ax.set_ylabel(\"Contagem\", fontsize=14)\n",
    "sns.despine(trim=True)\n",
    "plt.tight_layout()\n",
    "plt.show();"
   ]
  },
  {
   "cell_type": "markdown",
   "metadata": {},
   "source": [
    "- Histograma gerado por meio de `plot`"
   ]
  },
  {
   "cell_type": "code",
   "execution_count": 42,
   "metadata": {},
   "outputs": [
    {
     "data": {
      "image/png": "[encoded data removed]",
      "text/plain": [
       "<Figure size 800x200 with 1 Axes>"
      ]
     },
     "metadata": {},
     "output_type": "display_data"
    }
   ],
   "source": [
    "df.iloc[10:40]['Age'].plot(kind='bar',\n",
    "                           title='Histograma (faixa de usuários)',\n",
    "                           figsize=(8,2),\n",
    "                           xlabel='Usuários',\n",
    "                           ylabel='Idade',\n",
    "                          grid=False);"
   ]
  },
  {
   "cell_type": "markdown",
   "metadata": {},
   "source": [
    "### Plotagem com `matplotlib`"
   ]
  },
  {
   "cell_type": "markdown",
   "metadata": {},
   "source": [
    "- Histogramas gerados com `hist` e suas opções."
   ]
  },
  {
   "cell_type": "code",
   "execution_count": 84,
   "metadata": {},
   "outputs": [
    {
     "data": {
      "image/png": "[encoded data removed]",
      "text/plain": [
       "<Figure size 600x400 with 1 Axes>"
      ]
     },
     "metadata": {},
     "output_type": "display_data"
    }
   ],
   "source": [
    "fig, ax = plt.subplots(figsize=(6,4))\n",
    "ax.hist(x=df['Age'],\n",
    "        density=True,\n",
    "        histtype='bar',\n",
    "        align='mid',\n",
    "        rwidth=0.9,\n",
    "        color='#99ba00',\n",
    "        bins=8,\n",
    "        alpha=0.5);\n"
   ]
  },
  {
   "cell_type": "code",
   "execution_count": 93,
   "metadata": {},
   "outputs": [
    {
     "data": {
      "image/png": "[encoded data removed]",
      "text/plain": [
       "<Figure size 600x300 with 1 Axes>"
      ]
     },
     "metadata": {},
     "output_type": "display_data"
    }
   ],
   "source": [
    "fig, ax = plt.subplots(figsize=(6,3))\n",
    "ax.hist(x=df[['Age','Monthly Revenue']],\n",
    "        density=True,\n",
    "        histtype='step',\n",
    "        align='mid',\n",
    "        rwidth=0.1,\n",
    "        linewidth=10,\n",
    "        color=['#74bbff','#de45fb'],\n",
    "        bins=10);"
   ]
  },
  {
   "cell_type": "markdown",
   "metadata": {},
   "source": [
    "### Plotagem com `seaborn`"
   ]
  },
  {
   "cell_type": "markdown",
   "metadata": {},
   "source": [
    "- Opções de plotagem com `histplot`\n",
    "    - Plotar diversidade de casos com alteração das variáveis"
   ]
  },
  {
   "cell_type": "code",
   "execution_count": 95,
   "metadata": {},
   "outputs": [
    {
     "name": "stderr",
     "output_type": "stream",
     "text": [
      "c:\\Users\\tales\\AppData\\Local\\Programs\\Python\\Python311\\Lib\\site-packages\\seaborn\\_oldcore.py:1119: FutureWarning:\n",
      "\n",
      "use_inf_as_na option is deprecated and will be removed in a future version. Convert inf values to NaN before operating instead.\n",
      "\n",
      "c:\\Users\\tales\\AppData\\Local\\Programs\\Python\\Python311\\Lib\\site-packages\\seaborn\\_oldcore.py:1075: FutureWarning:\n",
      "\n",
      "When grouping with a length-1 list-like, you will need to pass a length-1 tuple to get_group in a future version of pandas. Pass `(name,)` instead of `name` to silence this warning.\n",
      "\n",
      "c:\\Users\\tales\\AppData\\Local\\Programs\\Python\\Python311\\Lib\\site-packages\\seaborn\\_oldcore.py:1075: FutureWarning:\n",
      "\n",
      "When grouping with a length-1 list-like, you will need to pass a length-1 tuple to get_group in a future version of pandas. Pass `(name,)` instead of `name` to silence this warning.\n",
      "\n",
      "c:\\Users\\tales\\AppData\\Local\\Programs\\Python\\Python311\\Lib\\site-packages\\seaborn\\_oldcore.py:1075: FutureWarning:\n",
      "\n",
      "When grouping with a length-1 list-like, you will need to pass a length-1 tuple to get_group in a future version of pandas. Pass `(name,)` instead of `name` to silence this warning.\n",
      "\n",
      "c:\\Users\\tales\\AppData\\Local\\Programs\\Python\\Python311\\Lib\\site-packages\\seaborn\\_oldcore.py:1075: FutureWarning:\n",
      "\n",
      "When grouping with a length-1 list-like, you will need to pass a length-1 tuple to get_group in a future version of pandas. Pass `(name,)` instead of `name` to silence this warning.\n",
      "\n",
      "c:\\Users\\tales\\AppData\\Local\\Programs\\Python\\Python311\\Lib\\site-packages\\seaborn\\_oldcore.py:1075: FutureWarning:\n",
      "\n",
      "When grouping with a length-1 list-like, you will need to pass a length-1 tuple to get_group in a future version of pandas. Pass `(name,)` instead of `name` to silence this warning.\n",
      "\n"
     ]
    },
    {
     "data": {
      "image/png": "[encoded data removed]",
      "text/plain": [
       "<Figure size 800x300 with 1 Axes>"
      ]
     },
     "metadata": {},
     "output_type": "display_data"
    }
   ],
   "source": [
    "f, a = plt.subplots(figsize=(8,3))\n",
    "sns.set_theme(style='darkgrid')\n",
    "\n",
    "hp = sns.histplot(data=df,\n",
    "            x='Age', # 'y' para barra horizontal\n",
    "            hue='Gender',\n",
    "            bins=10,\n",
    "            #binwidth=1, # opção com bins\n",
    "            #binrange=(32,40), # extensão\n",
    "            cumulative=False, # cumulativa\n",
    "            stat='percent', # 'count' | 'frequency' | 'probability' | 'density'\n",
    "            multiple='stack',\n",
    "            palette='muted',\n",
    "            kde=True, # density \n",
    "            kde_kws={'bw_method':'silverman', # método de binning: 'scott' | 'silverman'\n",
    "                     'bw_adjust':0.5},  # ajuste da largura de banda: quanto maior, mais suave\n",
    "            element='bars', # 'bars' | 'step' | 'poly'\n",
    "            linewidth=1,\n",
    "            edgecolor='w',\n",
    "            log_scale=True,\n",
    "            ax=a)"
   ]
  },
  {
   "cell_type": "markdown",
   "metadata": {},
   "source": [
    "## Visualização de quantidades com mapa de calor"
   ]
  },
  {
   "cell_type": "code",
   "execution_count": 46,
   "metadata": {
    "scrolled": true
   },
   "outputs": [
    {
     "data": {
      "image/png": "[encoded data removed]",
      "text/plain": [
       "<Figure size 400x600 with 1 Axes>"
      ]
     },
     "metadata": {},
     "output_type": "display_data"
    }
   ],
   "source": [
    "f, a = plt.subplots(figsize=(4,6))\n",
    "dfpt = pd.pivot_table(df, index='Country', columns='Device', values='Age')\n",
    "\n",
    "# escolha 'mask' para exibir mapa de calor com máscara\n",
    "test = 'mask'\n",
    "\n",
    "if test == 'full':\n",
    "     mask = ~np.ones(dfpt.shape,dtype=bool)   \n",
    "else:\n",
    "     mask = ~np.ones(dfpt.shape,dtype=bool)\n",
    "     indices = np.argwhere(dfpt.values > 37)    \n",
    "     mask[indices[:,0], indices[:,1]] = True\n",
    "\n",
    "g = sns.heatmap(data=dfpt,\n",
    "                 cmap=sns.color_palette('mako'),\n",
    "                 annot=False,\n",
    "                 linewidths=10,\n",
    "                 linecolor='white',\n",
    "                 square=True,\n",
    "                 cbar=False,\n",
    "                 xticklabels=False,\n",
    "                 yticklabels=False,\n",
    "                 mask=mask,\n",
    "               ax=a)\n"
   ]
  },
  {
   "cell_type": "code",
   "execution_count": 47,
   "metadata": {},
   "outputs": [
    {
     "data": {
      "text/plain": [
       "np.float64(38.361702127659576)"
      ]
     },
     "execution_count": 47,
     "metadata": {},
     "output_type": "execute_result"
    }
   ],
   "source": [
    "df2 = df[ (df['Country'] == 'Australia') & (df['Device'] == 'Laptop')]\n",
    "df2['Age'].mean()"
   ]
  },
  {
   "cell_type": "code",
   "execution_count": 48,
   "metadata": {},
   "outputs": [
    {
     "data": {
      "text/html": [
       "<div>\n",
       "<style scoped>\n",
       "    .dataframe tbody tr th:only-of-type {\n",
       "        vertical-align: middle;\n",
       "    }\n",
       "\n",
       "    .dataframe tbody tr th {\n",
       "        vertical-align: top;\n",
       "    }\n",
       "\n",
       "    .dataframe thead th {\n",
       "        text-align: right;\n",
       "    }\n",
       "</style>\n",
       "<table border=\"1\" class=\"dataframe\">\n",
       "  <thead>\n",
       "    <tr style=\"text-align: right;\">\n",
       "      <th>Device</th>\n",
       "      <th>Laptop</th>\n",
       "      <th>Smart TV</th>\n",
       "      <th>Smartphone</th>\n",
       "      <th>Tablet</th>\n",
       "    </tr>\n",
       "    <tr>\n",
       "      <th>Country</th>\n",
       "      <th></th>\n",
       "      <th></th>\n",
       "      <th></th>\n",
       "      <th></th>\n",
       "    </tr>\n",
       "  </thead>\n",
       "  <tbody>\n",
       "    <tr>\n",
       "      <th>Australia</th>\n",
       "      <td>38.361702</td>\n",
       "      <td>39.157895</td>\n",
       "      <td>38.709091</td>\n",
       "      <td>37.186047</td>\n",
       "    </tr>\n",
       "    <tr>\n",
       "      <th>Brazil</th>\n",
       "      <td>39.227273</td>\n",
       "      <td>37.475000</td>\n",
       "      <td>38.272727</td>\n",
       "      <td>38.272727</td>\n",
       "    </tr>\n",
       "    <tr>\n",
       "      <th>Canada</th>\n",
       "      <td>38.437500</td>\n",
       "      <td>38.397436</td>\n",
       "      <td>39.462500</td>\n",
       "      <td>38.473684</td>\n",
       "    </tr>\n",
       "    <tr>\n",
       "      <th>France</th>\n",
       "      <td>40.942308</td>\n",
       "      <td>38.767442</td>\n",
       "      <td>36.914894</td>\n",
       "      <td>39.658537</td>\n",
       "    </tr>\n",
       "    <tr>\n",
       "      <th>Germany</th>\n",
       "      <td>39.349206</td>\n",
       "      <td>38.619048</td>\n",
       "      <td>38.527778</td>\n",
       "      <td>39.428571</td>\n",
       "    </tr>\n",
       "    <tr>\n",
       "      <th>Italy</th>\n",
       "      <td>39.280000</td>\n",
       "      <td>37.826087</td>\n",
       "      <td>38.319149</td>\n",
       "      <td>38.750000</td>\n",
       "    </tr>\n",
       "    <tr>\n",
       "      <th>Mexico</th>\n",
       "      <td>38.636364</td>\n",
       "      <td>39.414634</td>\n",
       "      <td>38.934783</td>\n",
       "      <td>38.442308</td>\n",
       "    </tr>\n",
       "    <tr>\n",
       "      <th>Spain</th>\n",
       "      <td>39.224299</td>\n",
       "      <td>38.444444</td>\n",
       "      <td>38.294118</td>\n",
       "      <td>39.241379</td>\n",
       "    </tr>\n",
       "    <tr>\n",
       "      <th>United Kingdom</th>\n",
       "      <td>38.250000</td>\n",
       "      <td>40.025000</td>\n",
       "      <td>40.259259</td>\n",
       "      <td>38.088889</td>\n",
       "    </tr>\n",
       "    <tr>\n",
       "      <th>United States</th>\n",
       "      <td>38.727273</td>\n",
       "      <td>39.060345</td>\n",
       "      <td>39.030303</td>\n",
       "      <td>38.913043</td>\n",
       "    </tr>\n",
       "  </tbody>\n",
       "</table>\n",
       "</div>"
      ],
      "text/plain": [
       "Device             Laptop   Smart TV  Smartphone     Tablet\n",
       "Country                                                    \n",
       "Australia       38.361702  39.157895   38.709091  37.186047\n",
       "Brazil          39.227273  37.475000   38.272727  38.272727\n",
       "Canada          38.437500  38.397436   39.462500  38.473684\n",
       "France          40.942308  38.767442   36.914894  39.658537\n",
       "Germany         39.349206  38.619048   38.527778  39.428571\n",
       "Italy           39.280000  37.826087   38.319149  38.750000\n",
       "Mexico          38.636364  39.414634   38.934783  38.442308\n",
       "Spain           39.224299  38.444444   38.294118  39.241379\n",
       "United Kingdom  38.250000  40.025000   40.259259  38.088889\n",
       "United States   38.727273  39.060345   39.030303  38.913043"
      ]
     },
     "execution_count": 48,
     "metadata": {},
     "output_type": "execute_result"
    }
   ],
   "source": [
    "dfpt"
   ]
  },
  {
   "cell_type": "markdown",
   "metadata": {},
   "source": [
    "### Plotagem com `plotly`\n",
    "\n",
    "As células abaixo replicam as visualizações anteriores usando **Plotly Express**, permitindo *hover*, zoom e facetas."
   ]
  },
  {
   "cell_type": "code",
   "execution_count": 81,
   "metadata": {},
   "outputs": [
    {
     "data": {
      "application/vnd.plotly.v1+json": {
       "config": {
        "plotlyServerURL": "https://plot.ly"
       },
       "data": [
        {
         "bingroup": "x",
         "hovertemplate": "Device=Smartphone<br>Age=%{x}<br>count=%{y}<extra></extra>",
         "legendgroup": "Smartphone",
         "marker": {
          "color": "#636efa",
          "opacity": 0.75,
          "pattern": {
           "shape": ""
          }
         },
         "name": "Smartphone",
         "nbinsx": 15,
         "orientation": "v",
         "showlegend": true,
         "type": "histogram",
         "x": {
          "bdata": "HAAhACUAHwAbACsAIgAdACoAHQAgACgAIgAtAB0AIgAlAB0AKQAbAB8AKQAtAC4AIAAdACcAMQAjACwAMAAhACwAMQAqACQAMAAoACsAKgAnAC8ALwAvACcAHQAnACgAGwAhADIAMgAlACgALQAyAC4ALwAwACIAKAAwACMAMwAdACsAHAAnADAAJgAcACYAIgAqACYAKQAcABsALgAzACQALgAnACsAMAAoABsAIQAfADEAHQAgACEALAAoAB4AIAAsACoAHQAcACwAIgAnACkAHAAuAC4AJwAjACwAHgAfACwAKgAcABwAIAAlACkAJwApAC0ALgApADIALgAtAC4AJgAmACgAHAAjACcALAApACsAJgAjACgAKwApACoAJgAmACgAKQAlADMAJgAlACUAIgAlACMAJAAfACEAKQAeACEAMgAdADMALQAbACkAIwAqACoAHwAnACkAMgAmACYAJwAcAB4AJgAzACUAHwAnADEAHwAqACAAJAAuAC0AKAArADEAMQAsABsAMwAgABwAKwAsACgAKwAxAB8AHgAhACUAHQAqAC8AJAAuACEALwAcACYAMgAmAB0AHgAvACIAHgAjAB0AJgAxACoAJwAxACgALwAkACEAHwAtAB4ALwAgAB0AMgAoADEAIgAsACYAJwAmACoAJAAfAC0AJAAoACIAIwAvADEAIgAdACMAHQAoABwALwAyAB0AKwAbAB4AMwApADEALwAuACEAKAAeACEAMgAuACQAJAAcAC0AJwAgADMAMAAzACUAJQAuAC0AIQAuACYAHQApADMAMAAvABsALAAcACEAGwAkACIAMwAwACEALwAmADEAKgApADAAHAArAB0AIwApACwAMAAzABsAKAAeACcAMwAoADMAMQAqACoAIwAoAB0AIgAwACQAKAAoACAAJwAzABwAHAAuACsAHgAyAC8ALgAbACUAKwAeAC0AJQAqACQAGwApACsAMwAhAC0AHwAdAB8AMwAsAC8AMgApAB4AGwAnACwAIQAjACsAHQAjABsAJgAdABwAJwAeACAAIwApAB4AKAAmACMAKgAcACkAIAAeADEAIwAnACYAJQAnABwAMQAcACsAJwAjACoAIgAjAC4AJAAoACMAHAAhABsAHQAhACMAHwAwABwAHAAgACsAKgAzAB4AJQAyAB8AIQArAB4AGwAwACQAHAAkACIAIAAtAB8AIQAeACEAHwAjACAAJwAxADIAMgAyAC4ALgAcADEAJwAtACQALQApACMAKgAiADAAIQAtACcAHwAvACIAIQAjACIAHwAqAB8AMwAlACwALAAnACcAHgAbACkAMAAwACUAIgAjACkAIwAwACAAHwAjACMAIwAsABsAKgAwACQAHAAyACwAKQAjAC4AHwAnACIALgAuAC8AHgAsAC4ALQAwACAAMgAuACEAHgAnABwALAAbACoAKQAxACsALwAiADEAIwAoACkAJAAhAC8AJAAoACcALwAyACkAKAAlACkAHgAtACkAKAAmACAAJwArACkAIgAnACsAKAAvACEAMAAiACUALwAoAB0ALwAkACkAJwAhACoALQAbAC8AHwAtACIAJQAzABwAHgAnADEAJAAtAB8ALwAwACQAJwAqACgALwAuACgAHQAwACkA",
          "dtype": "i2"
         },
         "xaxis": "x",
         "yaxis": "y"
        },
        {
         "bingroup": "x",
         "hovertemplate": "Device=Tablet<br>Age=%{x}<br>count=%{y}<extra></extra>",
         "legendgroup": "Tablet",
         "marker": {
          "color": "#EF553B",
          "opacity": 0.75,
          "pattern": {
           "shape": ""
          }
         },
         "name": "Tablet",
         "nbinsx": 15,
         "orientation": "v",
         "showlegend": true,
         "type": "histogram",
         "x": {
          "bdata": "IwAuAC0AJAApAB8AIQAlACMAMAAdACAAJQAkACoAHQAhADEAKwAlAC8AJwAdAB8AHQAuAB8AMQAjACgAJQAoACsAIAAeACYAIQAcAC0AKgAxAB0AMQAjACcAHgAkAC8AJQAtACcALQAfACQAKAAbAB0ALgAtACIAHAAsABsAJQAdADAAKQAsAC0ALQAsACAAIAAtAB0AHwAvACEAJQAgACsALwAfACwAMAAnACgAKQAzADEAJQAlADAAHAAhAB0AHAAmAC8AKQAwAC0AMwApABsALgApAB8AKwAgABwAMQAzAB4AMQAqACsAIAAyACMAJQAgAB8ALAAwACgAHgAxACcAHQAwADMAIgAtADEAMQAjAC4AJgAdAC4ALgAyABwAIQAnADMAJgAhAB8AKgAxACQAIgAbADMALwAnACoAJQAeACQAHwAfABsALQAdACcAGwAhACAAJQAdAB4ALwAoACsAHgAiACAAGwAdACEALQAjADAALgAfACgAKwAfACgAKAAnADMAHwAxACIAHgAtACwAKgAcADIAIgAmAB8AHAAlAB4AKQAhACIAIgAcAB0AHQAyADIAKAAfADEAMgAuADMAMgAsACQAIAAtACoALgAzADIAJgAkACsAIwAbACYAHAAvACYAKAAlACMAIwAuABsAMwAfACcAJAAqACsAHgAdACAAIgAfACgAJgAxABsAMwAzAC4ALQAhADEAJwApAB8AKgAuACEAKgAnACgAMAAmACcALQAwACwALAAiAB0AHQAoABwAIQAkACYAMwAnACMAIAAxACoAHAAxACoAHgAiACkAJgAiACsAIAAuAC4AKAAiACcAJQAjACYAMAAfADIAIwAzACQALQAfACQAHQAdAB4ALAAvACoAHQAzACQAKQAeADIAKgAmAB8AKQArACgAHgAzADEAMAAkAB4AKQAbAC0AHQAuACYAHAAfADEAMgAzAB4ALAAlAB4ALAAvACcAJwAeAB8AJwAeAC0AKwAsACMALQAnADMAIgAcACsAGwAiADEAMwAnAC4AMgAjACEAKAApACsAKgAuAB4AIAAmABsAMgAsADEAIQAwACIAHgAlAB4AMAApACYAKQApAC8AHQAfAB8AJAAeACwAIgAfACUAGwAjADAALQArACkAIwAlACUAHgAjADIAJQAkAC0AHwAqACQAMgAvAC0AJAAyADEAKgAuACgAKgAwAB0AHAAeACQAKQAjADEAHwAfACYAHQAdACcAHAAyACEAIAAhACEAKQAmACQAHAAuAC4AKAAgABwAHAAbACkAJAArACMAGwAoAB4AHQAcACwALAAgADAAJQAoACUAJQAoAC8AHQAnACkAHAAlACUAKwApACIAHwAkAC4AJQAtADIALwAdACoAMgAqAB0AHwAqAC8AHQAfABwALAAsAC4AIQAlABwALgAdACIAMwAvACkAHwAuAC0AKAArAC8AKQAuACoAHAAtABwALAAvADEAIwAwACwAHQAnACkAIQAzACgAMwAeAC8AIQAfAB8AKAAyACsAKwAtACYALgAvAB8AHAAgACoAHwAkACQAHQAnAC8AMQAmADAALAAvAB4AMwAmAC8AHgAyACIAIwAeAB4AIwAuADMAIwAwACwALAAnAB4ALAAcADAALgAbACsAMAAfACYAMAAeADIAGwAlABwALwAvADAA",
          "dtype": "i2"
         },
         "xaxis": "x",
         "yaxis": "y"
        },
        {
         "bingroup": "x",
         "hovertemplate": "Device=Smart TV<br>Age=%{x}<br>count=%{y}<extra></extra>",
         "legendgroup": "Smart TV",
         "marker": {
          "color": "#00cc96",
          "opacity": 0.75,
          "pattern": {
           "shape": ""
          }
         },
         "name": "Smart TV",
         "nbinsx": 15,
         "orientation": "v",
         "showlegend": true,
         "type": "histogram",
         "x": {
          "bdata": "KgAdACwAJgAgADEALwAcACcAGwAkACcAHgAnABsAKQAvAC0AJwAdABsALQAeABsAMwAmADAALwAvACkAHAAhAC4AMwAlACEALAAvAC0AMQAqAB4AJAAxADMALAAnADIAJgAvABsAMAAuABsAIAAiAC8AIgAhACEAMwAiAC8AHQAfAC8AIwAoACsAIgAuADAAHgAiACYAIgAvADAAKQAuABsAMwAxAC0AHAAlAB8ALwAzAC4AHAAuACcALwAjACUAJAAfACgAHgAlACgAIAAfACQAHgAcAB4AIQAkAB8AGwAsACoAIgAgACEAMQAnABwAHwAdAB8AJwAlACQAJQAlACYAMAAnACMAJgAdACwAJAAuABsAMAAkACsAHAAxAB0AKwAgADMAIQAgABwAIgAxABwAHwAxACYAJAAqACUALgArAC0AJAAwADAALwApACgALgAvACUAMAAcACMAJAAbACQAIAAtACAAGwArACcALwAlACEAIgAuAC8AJAAeADMAMQAgADIAMgApACoAHwAcAB4AHwAuAC0ALAAyACoAMgAgAC4AKAAdACwAIgAbACUALAAlAC4AMAAkACoAKgAtABwAJAAdAB0AHAAqACcAJAAsAC4AKgAzACMAHAAqACEAMgAeABwAIQAuAB8AKwAfACkAJQAlACQAMwAyACMALAAbAC4AMwAfADAAKwAuACAAIwArADMALwAnACEAMwAlAB4AIgAxACAALwAoAC0AIwAwACkAGwApACAAIQAyABsAHAAoADIAKAAvABwAMgAgACUALgAeAB4AHQAnAB4AHAAjADMAKAAnADAALwAlACwALgAnAB4AMwAnACEAHwAuADAAIAAhACsAKgAlACkAKwAfACMAMAAhAC0AKAAhACAAHwAqADAAKwAnACgAKwAvADAAHQAnADEALQAgACUAHgAuACoALwAdADEAKQAzACEAIwAkACQAIAAhADIAHAAgABwALQAmACAALQAfACwAIwArADEALgAnACQAKQArACQAKAAzAB4AMgAxACUALQAuACAAKQAkAB4AGwAtADMAMwAoACcALQAgACoAJgAmADAAGwAbABwAIAAwAB4AIAAiAB4AHAAqADMAJQAiAB0AGwArADAAHwAqACAAJwAwADIALwAtADAALQAsAB0AJAAvACwAIgAwACsAMwAbAB0AJgAxAB4AGwAdACQAGwAlACsALAAkACAAIAAdACEAMQAnACIAJwAfAB0AHgAbAB8AHgAiAC8ALwAuAB8AKQAnADAAKAAnACAAJwAqABwALQAtADMAKQAtAB8AJwAdADAAIwAfAB4ALQAiACgAJgAsACAAJwAiACcAMAAbACsAKAAqACIAHgAlACsAMAAbACMAJwAoAB8AMQAhACYAMgAkACgAHQAnABsAHwApAC0ALwAtAC8AHQAoADIAKAAjACUAMAAeADEAMgAlACgAJgAiACkAIgAhACUAHAAvADEAIgAlADIAJgAlAB4AIQAgAB4AJgAxADAAKwArACwAHAArADEAMwAeACQAHgApACAAIwAbAC4AJQAdADIAIgAoAB0AKgAsADEAMQAzAB4AHgAjACgAMgAxADIAIwAjACEAJAAcACEAIwA=",
          "dtype": "i2"
         },
         "xaxis": "x",
         "yaxis": "y"
        },
        {
         "bingroup": "x",
         "hovertemplate": "Device=Laptop<br>Age=%{x}<br>count=%{y}<extra></extra>",
         "legendgroup": "Laptop",
         "marker": {
          "color": "#ab63fa",
          "opacity": 0.75,
          "pattern": {
           "shape": ""
          }
         },
         "name": "Laptop",
         "nbinsx": 15,
         "orientation": "v",
         "showlegend": true,
         "type": "histogram",
         "x": {
          "bdata": "MwAnADAAHgAaACgAJAApAC0AHwArABwAKQAuABwAKAAkABwAHAAzACsAIwAlACIAIAAjACQAJgAuACUAIQAyACsALQAvADEAHAAjADEALwAeABsAHgAfAB0AKgAgAC8AMQAkAB4AHAAxAC4AMgAlADEAKQAxACsAMwAsADIALwAlACEAHAAeAC4ALAAdACkAHAAiACIAMgAiACoAMgArACcAMgAtACQAJAAyACQAHAAyACcAHgAjACQAHgAsACkAJgAoACQAHwAkACAAJwAsACUALwArACYAKwAqAC0AMQAvAC8ALwAbABwAIwAzACAAMAAeACQAJQAxAB8AKgAtACIAIQAvAB8AMgAgACUAJQAzABwAJgAgACwAMQAyAB4AJgAqACkALQAdACUAHQAbAB8AKQAfAB0AHQArACkAMwAcAC8AMQAyADMAJgAeAB0AJQAyABsALwApADEAIQApADEAJQAxACwAIQAkABwAHAAcAB8AIwAgACcAGwAeACsAKwAsADIAIAAnADMAKAAfABwALQApACAALwAwACMAJwAmACoAMAAsACsALAAlABsAIwAxACMAJwAeACQAIQAyACMAJAAeAB8AHAAjACUAIwAvAC8AIQAoACMAJgAqACYAKgAgACUAKgAmADAAIAApABsAIQAqAC8AIQAjACsAJwArADMAIgAkACoAIwAwACsALgAqACUAJwAtADEAIQApACIALgAfACAAMAAzAC4AMgAlABsAJwAuADIAIgAjAC8AJgAmABsAHAAzACUAIgAsACEALAAjACAAJwAiADMAKgAkAC8AKwAgACAAMQAzACkAKgAsACkAKAAmACAAJQAmACoAKAAdACkAKgAoABsAHgAvADMAMAArACkAHwAvACoAHwAsABwAKQAhACUAKwAgABsAJQAmADAAIQAsAB8AJwAwAB0ALQAeACQAIgAcACIAKgAjACkALAAdAC0AHwAvACIAKAAqAB4ALwAzAB0AKAAnADAAGwAxACYAMAAuADMAKQAvACsAIQAmAB8AJAAtABsAKQAzABwAHwAvADEAKQAlACoAMAAlACgAHQAeADEAMgAgAB8AHwAiACoAIgArAB4AKQAqACMAJwAxACwAKgAjACQAMAAnADEAMAAzACcAHQAwACwAGwAzAC8AKAAnACAAMQAmABwAKgAjACAAMAAhAC4AKAAqADEALAAfABwALwAfAC4AHAAwACkAHAAlABsAHgAlACQALwAyACsAIwApADAAIwAzACsAHAAtACgAMQArABsAMwAuACwALgArACgALgAxADAAKwAuACkAKgAmACoAMgAlACEALQArACkAJgAiACoAJAAkACcAKAArACkAHQAbACsAKgAjABwAMAAjACkALQApABwAJgApACAAMgAwAC4ALgAeACsAMwAyACoAJQAdAB8AMAAsAC8AMQAuACcAIgAuACEALAAdACAALwAfABsAMAAnACgAHQAjACYAKgAmACEAHgAbACIAIwAgACgAHQAnACwAGwApAB0AKQAfACEAKAAmADMALwAzADAAKAApACkAHAAtACAAJQApAB8AHgAoACsAIwAiACMAKAAtACYAIgAbAB4AMQAfADIAHwAqAB4AHgAjACkAJgAcACcAHgApACQAMgAcACkAIgAkACcAKAAzAC8AIQAlACoAHQArACYA",
          "dtype": "i2"
         },
         "xaxis": "x",
         "yaxis": "y"
        }
       ],
       "layout": {
        "barmode": "relative",
        "legend": {
         "title": {
          "text": "Device"
         },
         "tracegroupgap": 0
        },
        "margin": {
         "t": 60
        },
        "template": {
         "data": {
          "bar": [
           {
            "error_x": {
             "color": "#2a3f5f"
            },
            "error_y": {
             "color": "#2a3f5f"
            },
            "marker": {
             "line": {
              "color": "#E5ECF6",
              "width": 0.5
             },
             "pattern": {
              "fillmode": "overlay",
              "size": 10,
              "solidity": 0.2
             }
            },
            "type": "bar"
           }
          ],
          "barpolar": [
           {
            "marker": {
             "line": {
              "color": "#E5ECF6",
              "width": 0.5
             },
             "pattern": {
              "fillmode": "overlay",
              "size": 10,
              "solidity": 0.2
             }
            },
            "type": "barpolar"
           }
          ],
          "carpet": [
           {
            "aaxis": {
             "endlinecolor": "#2a3f5f",
             "gridcolor": "white",
             "linecolor": "white",
             "minorgridcolor": "white",
             "startlinecolor": "#2a3f5f"
            },
            "baxis": {
             "endlinecolor": "#2a3f5f",
             "gridcolor": "white",
             "linecolor": "white",
             "minorgridcolor": "white",
             "startlinecolor": "#2a3f5f"
            },
            "type": "carpet"
           }
          ],
          "choropleth": [
           {
            "colorbar": {
             "outlinewidth": 0,
             "ticks": ""
            },
            "type": "choropleth"
           }
          ],
          "contour": [
           {
            "colorbar": {
             "outlinewidth": 0,
             "ticks": ""
            },
            "colorscale": [
             [
              0,
              "#0d0887"
             ],
             [
              0.1111111111111111,
              "#46039f"
             ],
             [
              0.2222222222222222,
              "#7201a8"
             ],
             [
              0.3333333333333333,
              "#9c179e"
             ],
             [
              0.4444444444444444,
              "#bd3786"
             ],
             [
              0.5555555555555556,
              "#d8576b"
             ],
             [
              0.6666666666666666,
              "#ed7953"
             ],
             [
              0.7777777777777778,
              "#fb9f3a"
             ],
             [
              0.8888888888888888,
              "#fdca26"
             ],
             [
              1,
              "#f0f921"
             ]
            ],
            "type": "contour"
           }
          ],
          "contourcarpet": [
           {
            "colorbar": {
             "outlinewidth": 0,
             "ticks": ""
            },
            "type": "contourcarpet"
           }
          ],
          "heatmap": [
           {
            "colorbar": {
             "outlinewidth": 0,
             "ticks": ""
            },
            "colorscale": [
             [
              0,
              "#0d0887"
             ],
             [
              0.1111111111111111,
              "#46039f"
             ],
             [
              0.2222222222222222,
              "#7201a8"
             ],
             [
              0.3333333333333333,
              "#9c179e"
             ],
             [
              0.4444444444444444,
              "#bd3786"
             ],
             [
              0.5555555555555556,
              "#d8576b"
             ],
             [
              0.6666666666666666,
              "#ed7953"
             ],
             [
              0.7777777777777778,
              "#fb9f3a"
             ],
             [
              0.8888888888888888,
              "#fdca26"
             ],
             [
              1,
              "#f0f921"
             ]
            ],
            "type": "heatmap"
           }
          ],
          "histogram": [
           {
            "marker": {
             "pattern": {
              "fillmode": "overlay",
              "size": 10,
              "solidity": 0.2
             }
            },
            "type": "histogram"
           }
          ],
          "histogram2d": [
           {
            "colorbar": {
             "outlinewidth": 0,
             "ticks": ""
            },
            "colorscale": [
             [
              0,
              "#0d0887"
             ],
             [
              0.1111111111111111,
              "#46039f"
             ],
             [
              0.2222222222222222,
              "#7201a8"
             ],
             [
              0.3333333333333333,
              "#9c179e"
             ],
             [
              0.4444444444444444,
              "#bd3786"
             ],
             [
              0.5555555555555556,
              "#d8576b"
             ],
             [
              0.6666666666666666,
              "#ed7953"
             ],
             [
              0.7777777777777778,
              "#fb9f3a"
             ],
             [
              0.8888888888888888,
              "#fdca26"
             ],
             [
              1,
              "#f0f921"
             ]
            ],
            "type": "histogram2d"
           }
          ],
          "histogram2dcontour": [
           {
            "colorbar": {
             "outlinewidth": 0,
             "ticks": ""
            },
            "colorscale": [
             [
              0,
              "#0d0887"
             ],
             [
              0.1111111111111111,
              "#46039f"
             ],
             [
              0.2222222222222222,
              "#7201a8"
             ],
             [
              0.3333333333333333,
              "#9c179e"
             ],
             [
              0.4444444444444444,
              "#bd3786"
             ],
             [
              0.5555555555555556,
              "#d8576b"
             ],
             [
              0.6666666666666666,
              "#ed7953"
             ],
             [
              0.7777777777777778,
              "#fb9f3a"
             ],
             [
              0.8888888888888888,
              "#fdca26"
             ],
             [
              1,
              "#f0f921"
             ]
            ],
            "type": "histogram2dcontour"
           }
          ],
          "mesh3d": [
           {
            "colorbar": {
             "outlinewidth": 0,
             "ticks": ""
            },
            "type": "mesh3d"
           }
          ],
          "parcoords": [
           {
            "line": {
             "colorbar": {
              "outlinewidth": 0,
              "ticks": ""
             }
            },
            "type": "parcoords"
           }
          ],
          "pie": [
           {
            "automargin": true,
            "type": "pie"
           }
          ],
          "scatter": [
           {
            "fillpattern": {
             "fillmode": "overlay",
             "size": 10,
             "solidity": 0.2
            },
            "type": "scatter"
           }
          ],
          "scatter3d": [
           {
            "line": {
             "colorbar": {
              "outlinewidth": 0,
              "ticks": ""
             }
            },
            "marker": {
             "colorbar": {
              "outlinewidth": 0,
              "ticks": ""
             }
            },
            "type": "scatter3d"
           }
          ],
          "scattercarpet": [
           {
            "marker": {
             "colorbar": {
              "outlinewidth": 0,
              "ticks": ""
             }
            },
            "type": "scattercarpet"
           }
          ],
          "scattergeo": [
           {
            "marker": {
             "colorbar": {
              "outlinewidth": 0,
              "ticks": ""
             }
            },
            "type": "scattergeo"
           }
          ],
          "scattergl": [
           {
            "marker": {
             "colorbar": {
              "outlinewidth": 0,
              "ticks": ""
             }
            },
            "type": "scattergl"
           }
          ],
          "scattermap": [
           {
            "marker": {
             "colorbar": {
              "outlinewidth": 0,
              "ticks": ""
             }
            },
            "type": "scattermap"
           }
          ],
          "scattermapbox": [
           {
            "marker": {
             "colorbar": {
              "outlinewidth": 0,
              "ticks": ""
             }
            },
            "type": "scattermapbox"
           }
          ],
          "scatterpolar": [
           {
            "marker": {
             "colorbar": {
              "outlinewidth": 0,
              "ticks": ""
             }
            },
            "type": "scatterpolar"
           }
          ],
          "scatterpolargl": [
           {
            "marker": {
             "colorbar": {
              "outlinewidth": 0,
              "ticks": ""
             }
            },
            "type": "scatterpolargl"
           }
          ],
          "scatterternary": [
           {
            "marker": {
             "colorbar": {
              "outlinewidth": 0,
              "ticks": ""
             }
            },
            "type": "scatterternary"
           }
          ],
          "surface": [
           {
            "colorbar": {
             "outlinewidth": 0,
             "ticks": ""
            },
            "colorscale": [
             [
              0,
              "#0d0887"
             ],
             [
              0.1111111111111111,
              "#46039f"
             ],
             [
              0.2222222222222222,
              "#7201a8"
             ],
             [
              0.3333333333333333,
              "#9c179e"
             ],
             [
              0.4444444444444444,
              "#bd3786"
             ],
             [
              0.5555555555555556,
              "#d8576b"
             ],
             [
              0.6666666666666666,
              "#ed7953"
             ],
             [
              0.7777777777777778,
              "#fb9f3a"
             ],
             [
              0.8888888888888888,
              "#fdca26"
             ],
             [
              1,
              "#f0f921"
             ]
            ],
            "type": "surface"
           }
          ],
          "table": [
           {
            "cells": {
             "fill": {
              "color": "#EBF0F8"
             },
             "line": {
              "color": "white"
             }
            },
            "header": {
             "fill": {
              "color": "#C8D4E3"
             },
             "line": {
              "color": "white"
             }
            },
            "type": "table"
           }
          ]
         },
         "layout": {
          "annotationdefaults": {
           "arrowcolor": "#2a3f5f",
           "arrowhead": 0,
           "arrowwidth": 1
          },
          "autotypenumbers": "strict",
          "coloraxis": {
           "colorbar": {
            "outlinewidth": 0,
            "ticks": ""
           }
          },
          "colorscale": {
           "diverging": [
            [
             0,
             "#8e0152"
            ],
            [
             0.1,
             "#c51b7d"
            ],
            [
             0.2,
             "#de77ae"
            ],
            [
             0.3,
             "#f1b6da"
            ],
            [
             0.4,
             "#fde0ef"
            ],
            [
             0.5,
             "#f7f7f7"
            ],
            [
             0.6,
             "#e6f5d0"
            ],
            [
             0.7,
             "#b8e186"
            ],
            [
             0.8,
             "#7fbc41"
            ],
            [
             0.9,
             "#4d9221"
            ],
            [
             1,
             "#276419"
            ]
           ],
           "sequential": [
            [
             0,
             "#0d0887"
            ],
            [
             0.1111111111111111,
             "#46039f"
            ],
            [
             0.2222222222222222,
             "#7201a8"
            ],
            [
             0.3333333333333333,
             "#9c179e"
            ],
            [
             0.4444444444444444,
             "#bd3786"
            ],
            [
             0.5555555555555556,
             "#d8576b"
            ],
            [
             0.6666666666666666,
             "#ed7953"
            ],
            [
             0.7777777777777778,
             "#fb9f3a"
            ],
            [
             0.8888888888888888,
             "#fdca26"
            ],
            [
             1,
             "#f0f921"
            ]
           ],
           "sequentialminus": [
            [
             0,
             "#0d0887"
            ],
            [
             0.1111111111111111,
             "#46039f"
            ],
            [
             0.2222222222222222,
             "#7201a8"
            ],
            [
             0.3333333333333333,
             "#9c179e"
            ],
            [
             0.4444444444444444,
             "#bd3786"
            ],
            [
             0.5555555555555556,
             "#d8576b"
            ],
            [
             0.6666666666666666,
             "#ed7953"
            ],
            [
             0.7777777777777778,
             "#fb9f3a"
            ],
            [
             0.8888888888888888,
             "#fdca26"
            ],
            [
             1,
             "#f0f921"
            ]
           ]
          },
          "colorway": [
           "#636efa",
           "#EF553B",
           "#00cc96",
           "#ab63fa",
           "#FFA15A",
           "#19d3f3",
           "#FF6692",
           "#B6E880",
           "#FF97FF",
           "#FECB52"
          ],
          "font": {
           "color": "#2a3f5f"
          },
          "geo": {
           "bgcolor": "white",
           "lakecolor": "white",
           "landcolor": "#E5ECF6",
           "showlakes": true,
           "showland": true,
           "subunitcolor": "white"
          },
          "hoverlabel": {
           "align": "left"
          },
          "hovermode": "closest",
          "mapbox": {
           "style": "light"
          },
          "paper_bgcolor": "white",
          "plot_bgcolor": "#E5ECF6",
          "polar": {
           "angularaxis": {
            "gridcolor": "white",
            "linecolor": "white",
            "ticks": ""
           },
           "bgcolor": "#E5ECF6",
           "radialaxis": {
            "gridcolor": "white",
            "linecolor": "white",
            "ticks": ""
           }
          },
          "scene": {
           "xaxis": {
            "backgroundcolor": "#E5ECF6",
            "gridcolor": "white",
            "gridwidth": 2,
            "linecolor": "white",
            "showbackground": true,
            "ticks": "",
            "zerolinecolor": "white"
           },
           "yaxis": {
            "backgroundcolor": "#E5ECF6",
            "gridcolor": "white",
            "gridwidth": 2,
            "linecolor": "white",
            "showbackground": true,
            "ticks": "",
            "zerolinecolor": "white"
           },
           "zaxis": {
            "backgroundcolor": "#E5ECF6",
            "gridcolor": "white",
            "gridwidth": 2,
            "linecolor": "white",
            "showbackground": true,
            "ticks": "",
            "zerolinecolor": "white"
           }
          },
          "shapedefaults": {
           "line": {
            "color": "#2a3f5f"
           }
          },
          "ternary": {
           "aaxis": {
            "gridcolor": "white",
            "linecolor": "white",
            "ticks": ""
           },
           "baxis": {
            "gridcolor": "white",
            "linecolor": "white",
            "ticks": ""
           },
           "bgcolor": "#E5ECF6",
           "caxis": {
            "gridcolor": "white",
            "linecolor": "white",
            "ticks": ""
           }
          },
          "title": {
           "x": 0.05
          },
          "xaxis": {
           "automargin": true,
           "gridcolor": "white",
           "linecolor": "white",
           "ticks": "",
           "title": {
            "standoff": 15
           },
           "zerolinecolor": "white",
           "zerolinewidth": 2
          },
          "yaxis": {
           "automargin": true,
           "gridcolor": "white",
           "linecolor": "white",
           "ticks": "",
           "title": {
            "standoff": 15
           },
           "zerolinecolor": "white",
           "zerolinewidth": 2
          }
         }
        },
        "updatemenus": [
         {
          "buttons": [
           {
            "args": [
             {
              "x": [
               [
                28,
                31,
                26,
                28,
                31,
                30,
                28,
                27,
                37,
                39,
                46,
                40,
                27,
                47,
                42,
                30,
                45,
                35,
                33,
                46,
                49,
                40,
                47,
                43,
                47,
                30,
                27,
                41,
                33,
                29,
                36,
                29,
                33,
                29,
                44,
                34,
                36,
                47,
                43,
                42,
                47,
                48,
                33,
                28,
                48,
                31,
                37,
                43,
                36,
                28,
                30,
                35,
                27,
                37,
                32,
                33,
                38,
                42,
                28,
                51,
                29,
                41,
                34,
                29,
                45,
                29,
                46,
                29,
                41,
                49,
                29,
                48,
                28,
                29,
                29,
                33,
                30,
                38,
                50,
                33,
                28,
                42,
                33,
                49,
                38,
                51,
                39,
                31,
                37,
                28,
                31,
                45,
                30,
                43,
                43,
                39,
                49,
                30,
                31,
                28,
                32,
                47,
                40,
                48,
                27,
                29,
                44,
                45,
                37,
                29,
                43,
                39,
                30,
                40,
                43,
                35,
                29,
                31,
                28,
                40,
                51,
                47,
                35,
                36,
                41,
                33,
                31,
                31,
                42,
                30,
                47,
                46,
                40,
                29,
                28,
                27,
                33,
                46,
                48,
                36,
                34,
                36,
                42,
                50,
                44,
                36,
                36,
                36,
                49,
                41,
                49,
                34,
                42,
                32,
                43,
                47,
                50,
                50,
                35,
                27,
                27,
                28,
                50,
                30,
                31,
                43,
                38,
                50,
                31,
                46,
                49,
                39,
                37,
                35,
                51,
                44,
                42,
                36,
                46,
                38,
                38,
                43,
                47,
                51,
                39,
                30,
                34,
                40,
                34,
                45,
                29,
                34,
                50,
                29,
                33,
                50,
                38,
                28,
                30,
                47,
                48,
                50,
                43,
                42,
                30,
                51,
                33,
                39,
                37,
                27,
                37,
                51,
                39,
                42,
                48,
                35,
                47,
                36,
                36,
                46,
                39,
                44,
                39,
                41,
                42,
                30,
                29,
                30,
                51,
                36,
                48,
                48,
                33,
                42,
                27,
                48,
                30,
                30,
                47,
                33,
                42,
                30,
                37,
                41,
                30,
                47,
                49,
                41,
                37,
                29,
                46,
                49,
                33,
                50,
                38,
                50,
                51,
                44,
                42,
                33,
                39,
                43,
                29,
                41,
                44,
                35,
                39,
                42,
                34,
                48,
                39,
                39,
                40,
                30,
                48,
                48,
                39,
                44,
                42,
                40,
                46,
                32,
                44,
                49,
                37,
                42,
                35,
                41,
                42,
                27,
                48,
                31,
                47,
                30,
                44,
                34,
                27,
                27,
                29,
                48,
                28,
                43,
                32,
                37,
                34,
                42,
                43,
                35,
                42,
                32,
                50,
                43,
                27,
                47,
                28,
                45,
                30,
                36,
                40,
                35,
                43,
                33,
                31,
                38,
                29,
                43,
                50,
                32,
                38,
                41,
                45,
                38,
                46,
                42,
                40,
                44,
                36,
                27,
                49,
                39,
                34,
                29,
                41,
                34,
                37,
                40,
                37,
                39,
                30,
                35,
                41,
                35,
                41,
                41,
                37,
                50,
                48,
                51,
                48,
                41,
                35,
                48,
                35,
                45,
                48,
                34,
                46,
                30,
                34,
                38,
                42,
                50,
                44,
                47,
                37,
                41,
                35,
                39,
                51,
                47,
                45,
                44,
                37,
                27,
                35,
                41,
                49,
                33,
                38,
                29,
                40,
                29,
                44,
                42,
                45,
                51,
                33,
                47,
                47,
                35,
                37,
                45,
                31,
                40,
                47,
                50,
                36,
                50,
                41,
                31,
                43,
                45,
                33,
                34,
                50,
                38,
                49,
                45,
                43,
                48,
                27,
                40,
                44,
                47,
                43,
                51,
                36,
                30,
                51,
                30,
                45,
                45,
                34,
                37,
                30,
                39,
                51,
                49,
                50,
                49,
                48,
                38,
                39,
                47,
                50,
                46,
                42,
                47,
                40,
                38,
                35
               ]
              ]
             },
             {
              "title": "Idade em United States"
             }
            ],
            "label": "United States",
            "method": "update"
           },
           {
            "args": [
             {
              "x": [
               [
                35,
                45,
                34,
                37,
                40,
                37,
                37,
                31,
                35,
                39,
                31,
                33,
                51,
                48,
                28,
                33,
                31,
                39,
                30,
                50,
                31,
                36,
                48,
                28,
                37,
                38,
                28,
                36,
                33,
                43,
                44,
                50,
                44,
                31,
                41,
                38,
                31,
                31,
                51,
                28,
                42,
                47,
                29,
                46,
                30,
                42,
                45,
                32,
                30,
                51,
                32,
                49,
                43,
                32,
                39,
                38,
                38,
                48,
                35,
                36,
                35,
                43,
                38,
                50,
                50,
                36,
                42,
                43,
                37,
                27,
                30,
                34,
                27,
                47,
                49,
                30,
                32,
                36,
                29,
                39,
                43,
                47,
                34,
                41,
                37,
                48,
                49,
                31,
                33,
                45,
                47,
                46,
                50,
                36,
                34,
                46,
                30,
                47,
                31,
                49,
                42,
                46,
                50,
                32,
                30,
                41,
                37,
                42,
                29,
                43,
                38,
                50,
                28,
                37,
                39,
                32,
                50,
                38,
                35,
                29,
                47,
                29,
                46,
                39,
                43,
                34,
                46,
                38,
                46,
                41,
                37,
                36,
                48,
                37,
                46,
                51,
                48,
                29,
                39,
                45,
                44,
                28,
                40,
                35,
                29,
                40,
                47,
                36,
                27,
                49,
                49,
                32,
                48,
                27,
                32,
                46,
                35,
                40,
                38,
                31,
                29,
                40,
                32,
                30,
                35,
                44,
                33,
                31,
                50,
                41,
                42,
                45,
                46,
                49,
                51,
                41,
                38,
                39,
                27,
                43,
                29,
                45,
                51,
                35,
                50,
                28,
                39,
                32,
                34,
                35,
                30,
                46,
                43,
                39,
                51,
                28,
                45,
                46,
                46,
                50,
                40,
                27,
                28,
                39,
                35,
                39,
                38,
                30,
                38,
                41,
                28,
                39,
                46,
                31,
                35,
                28,
                37,
                36,
                37,
                30,
                43,
                51,
                36,
                39,
                40,
                50,
                46,
                44,
                36,
                34,
                46,
                44,
                48,
                49,
                33,
                49,
                39,
                30,
                46,
                32,
                33,
                41,
                27,
                39,
                35,
                28,
                42,
                31,
                47,
                39,
                48,
                39,
                32,
                48,
                30,
                41,
                34,
                39,
                37,
                44,
                31,
                29,
                40,
                47,
                44,
                39,
                40,
                46,
                34,
                46,
                30,
                43,
                47,
                39,
                28,
                44,
                49,
                35,
                29,
                39,
                43,
                40,
                40,
                30,
                32,
                40,
                45,
                37,
                31,
                41,
                31,
                41,
                37,
                37,
                39,
                41,
                47,
                43,
                28,
                51,
                47,
                34,
                42,
                27,
                38,
                27,
                41,
                28,
                36,
                36,
                36,
                48,
                36,
                27,
                50,
                35,
                48
               ]
              ]
             },
             {
              "title": "Idade em Canada"
             }
            ],
            "label": "Canada",
            "method": "update"
           },
           {
            "args": [
             {
              "x": [
               [
                42,
                48,
                49,
                41,
                36,
                41,
                41,
                28,
                46,
                35,
                36,
                37,
                49,
                47,
                30,
                47,
                29,
                40,
                36,
                50,
                42,
                49,
                34,
                50,
                33,
                45,
                46,
                28,
                46,
                39,
                45,
                36,
                40,
                43,
                46,
                34,
                47,
                44,
                49,
                40,
                28,
                41,
                41,
                46,
                36,
                45,
                40,
                46,
                28,
                35,
                42,
                41,
                40,
                39,
                27,
                38,
                29,
                51,
                42,
                50,
                49,
                37,
                42,
                35,
                27,
                51,
                40,
                35,
                33,
                42,
                39,
                30,
                38,
                39,
                34,
                28,
                31,
                32,
                49,
                42,
                42,
                36,
                40,
                46,
                35,
                38,
                51,
                35,
                27,
                36,
                34,
                35,
                45,
                32,
                42,
                44,
                38,
                27,
                38,
                43,
                42,
                38,
                39,
                38,
                42,
                51,
                34,
                29,
                46,
                37,
                40,
                43,
                45,
                36,
                51,
                49,
                44,
                41,
                45,
                34,
                35,
                43,
                43,
                30,
                27,
                35,
                41,
                38,
                48,
                41,
                35,
                34,
                33,
                47,
                35,
                42,
                51,
                31,
                46,
                46,
                34,
                50,
                50,
                27,
                34,
                32,
                39,
                31,
                30,
                29,
                45,
                37,
                37,
                37,
                47,
                42,
                29,
                44,
                28,
                46,
                46,
                46,
                34,
                44,
                41,
                34,
                47,
                50,
                38,
                28,
                37,
                34,
                38,
                30,
                50,
                35,
                41,
                44,
                30,
                28,
                30,
                39,
                29
               ]
              ]
             },
             {
              "title": "Idade em United Kingdom"
             }
            ],
            "label": "United Kingdom",
            "method": "update"
           },
           {
            "args": [
             {
              "x": [
               [
                51,
                27,
                31,
                29,
                29,
                29,
                29,
                41,
                32,
                44,
                38,
                48,
                43,
                32,
                33,
                27,
                42,
                39,
                28,
                37,
                37,
                43,
                40,
                44,
                28,
                48,
                51,
                27,
                39,
                50,
                33,
                28,
                32,
                34,
                42,
                40,
                48,
                39,
                35,
                41,
                28,
                47,
                28,
                32,
                50,
                51,
                45,
                38,
                40,
                31,
                40,
                31,
                30,
                37,
                31,
                48,
                44,
                51,
                39,
                47,
                41,
                37,
                37,
                27,
                33,
                40,
                46,
                28,
                36,
                32,
                28,
                47,
                35,
                49,
                30,
                50,
                37,
                44,
                44,
                50,
                35,
                31,
                34,
                42,
                27,
                40,
                41,
                29,
                49,
                45,
                51,
                32,
                33,
                32,
                48,
                38,
                48,
                51,
                49,
                42,
                41,
                29,
                46,
                48,
                35,
                37,
                28,
                47,
                46,
                30,
                38,
                38,
                47,
                27,
                46,
                41,
                36,
                30,
                31,
                47,
                30,
                36,
                27,
                32,
                51,
                45,
                30,
                38,
                48,
                49,
                42,
                28,
                35,
                42,
                41,
                36,
                49,
                33,
                36,
                47,
                41,
                50,
                37,
                36,
                27,
                36,
                39,
                29,
                51,
                28,
                41,
                46,
                43,
                31,
                35,
                27,
                29,
                46,
                29,
                47,
                40,
                33,
                35,
                39,
                41,
                40,
                35,
                41,
                40,
                40,
                40,
                30,
                34,
                43,
                40,
                30,
                35,
                46,
                30,
                45,
                30,
                49,
                48
               ]
              ]
             },
             {
              "title": "Idade em Australia"
             }
            ],
            "label": "Australia",
            "method": "update"
           },
           {
            "args": [
             {
              "x": [
               [
                33,
                38,
                40,
                39,
                43,
                39,
                40,
                28,
                37,
                34,
                46,
                50,
                42,
                47,
                35,
                28,
                49,
                47,
                47,
                50,
                30,
                50,
                48,
                50,
                47,
                46,
                32,
                34,
                42,
                45,
                47,
                47,
                32,
                47,
                48,
                32,
                36,
                44,
                44,
                45,
                49,
                39,
                38,
                39,
                41,
                31,
                34,
                31,
                28,
                39,
                43,
                44,
                40,
                37,
                41,
                41,
                36,
                43,
                32,
                41,
                28,
                39,
                36,
                32,
                32,
                40,
                47,
                35,
                43,
                47,
                38,
                30,
                49,
                33,
                38,
                34,
                32,
                41,
                47,
                39,
                46,
                36,
                35,
                46,
                38,
                43,
                30,
                33,
                33,
                36,
                41,
                46,
                31,
                49,
                33,
                49,
                36,
                41,
                40,
                29,
                31,
                40,
                43,
                49,
                39,
                36,
                39,
                28,
                47,
                50,
                31,
                37,
                48,
                49,
                27,
                37,
                38,
                32,
                44,
                43,
                39,
                49,
                49,
                39,
                38,
                33,
                32,
                37,
                32,
                28,
                30,
                36,
                37,
                50,
                50,
                50,
                42,
                42,
                27,
                32,
                42,
                51,
                33,
                36,
                38,
                36,
                40,
                44,
                42,
                39,
                28,
                46,
                51,
                29,
                35,
                33,
                44,
                31,
                46,
                40,
                45,
                30,
                47,
                27,
                41,
                38,
                33,
                43,
                38,
                34,
                36,
                35,
                38,
                49,
                31,
                30,
                30,
                37,
                44,
                31,
                35,
                37,
                35
               ]
              ]
             },
             {
              "title": "Idade em Germany"
             }
            ],
            "label": "Germany",
            "method": "update"
           },
           {
            "args": [
             {
              "x": [
               [
                29,
                36,
                29,
                35,
                34,
                36,
                29,
                51,
                29,
                32,
                49,
                45,
                45,
                41,
                38,
                47,
                42,
                37,
                33,
                45,
                40,
                51,
                35,
                39,
                38,
                34,
                44,
                34,
                50,
                48,
                45,
                50,
                30,
                35,
                37,
                38,
                41,
                39,
                48,
                30,
                32,
                28,
                35,
                41,
                46,
                41,
                33,
                31,
                37,
                51,
                44,
                49,
                31,
                34,
                37,
                51,
                46,
                38,
                31,
                49,
                49,
                31,
                28,
                46,
                37,
                49,
                45,
                43,
                30,
                27,
                36,
                37,
                42,
                32,
                45,
                45,
                29,
                50,
                33,
                43,
                48,
                39,
                44,
                51,
                33,
                27,
                46,
                47,
                40,
                28,
                51,
                39,
                48,
                51,
                47,
                32,
                41,
                28,
                51,
                35,
                37,
                31,
                32,
                33,
                50,
                45,
                34,
                45,
                48,
                41,
                33,
                39,
                51,
                31,
                51,
                31,
                36,
                50,
                30,
                43,
                41,
                29,
                35,
                35,
                39,
                32,
                38,
                28,
                27,
                44,
                34,
                48,
                31,
                41,
                48,
                43,
                46,
                51,
                43,
                45,
                38,
                29,
                33,
                28,
                34,
                36,
                40,
                44,
                37,
                34,
                28,
                39,
                34,
                36,
                35,
                45,
                31,
                33,
                35,
                41,
                48,
                46,
                30,
                31,
                47,
                47,
                51,
                43,
                46,
                37,
                28,
                39,
                48,
                47,
                29,
                41,
                35,
                44,
                29,
                46,
                41,
                28,
                41
               ]
              ]
             },
             {
              "title": "Idade em France"
             }
            ],
            "label": "France",
            "method": "update"
           },
           {
            "args": [
             {
              "x": [
               [
                46,
                30,
                47,
                45,
                39,
                46,
                47,
                45,
                45,
                29,
                29,
                40,
                36,
                49,
                49,
                30,
                29,
                27,
                49,
                45,
                45,
                44,
                51,
                46,
                27,
                46,
                44,
                37,
                43,
                40,
                29,
                44,
                32,
                36,
                29,
                39,
                32,
                37,
                39,
                31,
                37,
                31,
                51,
                47,
                36,
                40,
                47,
                50,
                30,
                44,
                32,
                48,
                41,
                37,
                49,
                39,
                30,
                45,
                39,
                32,
                49,
                36,
                36,
                36,
                45,
                43,
                28,
                39,
                44,
                35,
                33,
                34,
                37,
                40,
                42,
                38,
                28,
                33,
                37,
                50,
                43,
                45,
                47,
                35,
                48,
                37,
                31,
                32,
                27,
                45,
                31,
                33,
                47,
                32,
                51,
                47,
                27,
                42,
                42,
                41,
                46,
                30,
                30,
                34,
                40,
                31,
                42,
                28,
                32,
                29,
                27,
                40,
                29,
                36,
                28,
                29,
                40,
                28,
                44,
                35,
                27,
                45,
                34,
                41,
                45,
                51,
                38,
                49,
                48,
                47,
                35,
                40,
                27,
                43,
                29,
                28,
                30,
                43,
                48,
                31,
                31,
                50,
                46,
                45,
                28,
                32,
                31,
                29,
                44,
                47,
                48,
                42,
                35,
                32,
                49,
                50,
                48,
                27,
                27,
                30,
                43,
                42,
                50,
                39,
                49,
                29,
                31,
                36,
                40,
                30,
                38,
                47,
                38,
                33,
                38,
                39,
                47,
                29,
                28,
                27,
                40,
                40,
                29
               ]
              ]
             },
             {
              "title": "Idade em Brazil"
             }
            ],
            "label": "Brazil",
            "method": "update"
           },
           {
            "args": [
             {
              "x": [
               [
                39,
                43,
                33,
                32,
                32,
                34,
                33,
                49,
                47,
                31,
                27,
                33,
                48,
                28,
                39,
                47,
                29,
                49,
                44,
                49,
                36,
                27,
                39,
                48,
                34,
                41,
                34,
                34,
                51,
                41,
                31,
                39,
                45,
                33,
                30,
                34,
                28,
                47,
                38,
                51,
                37,
                47,
                45,
                35,
                48,
                27,
                32,
                32,
                33,
                41,
                50,
                42,
                37,
                37,
                37,
                31,
                46,
                28,
                41,
                38,
                36,
                42,
                31,
                39,
                40,
                44,
                43,
                38,
                37,
                35,
                50,
                33,
                39,
                40,
                42,
                42,
                42,
                34,
                35,
                51,
                51,
                29,
                33,
                34,
                51,
                30,
                49,
                34,
                28,
                39,
                44,
                42,
                43,
                35,
                27,
                44,
                41,
                40,
                41,
                47,
                30,
                44,
                40,
                39,
                29,
                45,
                29,
                31,
                51,
                43,
                47,
                40,
                43,
                41,
                33,
                51,
                29,
                45,
                37,
                39,
                42,
                44,
                28,
                32,
                29,
                40,
                32,
                33,
                33,
                29,
                31,
                35,
                48,
                35,
                37,
                48,
                48,
                45,
                36,
                49,
                35,
                39,
                28,
                41,
                48,
                45,
                47,
                32,
                37,
                47,
                40,
                41,
                45,
                31,
                50,
                42,
                32,
                34,
                38,
                31,
                48,
                28,
                32,
                44,
                29,
                49,
                48,
                48,
                34,
                32,
                36,
                40,
                34,
                48,
                47,
                30,
                41,
                28,
                48,
                43,
                50,
                47,
                33
               ]
              ]
             },
             {
              "title": "Idade em Mexico"
             }
            ],
            "label": "Mexico",
            "method": "update"
           },
           {
            "args": [
             {
              "x": [
               [
                37,
                32,
                36,
                27,
                28,
                27,
                36,
                43,
                39,
                29,
                35,
                44,
                38,
                40,
                46,
                51,
                49,
                30,
                47,
                39,
                41,
                46,
                29,
                38,
                42,
                28,
                29,
                50,
                34,
                27,
                31,
                32,
                35,
                30,
                28,
                41,
                46,
                46,
                45,
                44,
                37,
                27,
                51,
                37,
                37,
                46,
                41,
                38,
                49,
                28,
                43,
                38,
                35,
                42,
                34,
                50,
                30,
                38,
                49,
                31,
                39,
                51,
                29,
                37,
                36,
                49,
                31,
                28,
                35,
                33,
                33,
                50,
                27,
                27,
                49,
                35,
                51,
                33,
                51,
                38,
                31,
                39,
                31,
                34,
                51,
                49,
                33,
                42,
                46,
                31,
                43,
                48,
                27,
                45,
                44,
                50,
                32,
                27,
                47,
                51,
                41,
                44,
                32,
                36,
                27,
                48,
                27,
                32,
                49,
                48,
                46,
                33,
                38,
                47,
                31,
                31,
                35,
                40,
                47,
                35,
                36,
                51,
                50,
                47,
                31,
                44,
                30,
                45,
                50,
                38,
                37,
                32,
                48,
                40,
                27,
                34,
                34,
                29,
                38,
                40,
                39,
                49,
                45,
                42,
                42,
                45,
                28,
                42,
                45,
                46,
                51,
                31,
                28,
                29,
                40,
                46,
                28,
                50,
                37,
                35,
                39,
                36,
                42,
                46,
                40,
                38,
                30,
                51,
                51,
                51,
                33,
                32,
                50,
                44,
                42,
                37,
                34,
                51,
                39,
                46,
                40,
                41,
                41,
                51,
                44,
                37,
                48,
                33,
                27,
                37,
                42,
                32,
                33,
                48,
                40,
                33,
                48,
                35,
                32,
                28,
                28,
                51,
                30,
                47,
                41,
                34,
                41,
                43,
                51,
                28,
                51,
                37,
                35,
                31,
                48,
                48,
                48,
                30,
                44,
                36,
                29,
                51,
                51,
                47,
                34,
                40,
                33,
                43,
                42,
                31,
                35,
                39,
                41,
                31,
                43,
                48,
                46,
                43,
                49,
                48,
                36,
                45,
                32,
                41,
                31,
                45,
                42,
                33,
                42,
                48,
                32,
                47,
                28,
                31,
                49,
                32,
                30,
                31,
                44,
                39,
                30,
                31,
                45,
                35,
                38,
                40,
                30,
                50,
                49,
                36,
                37,
                41,
                49,
                30,
                35,
                51,
                42,
                47,
                41,
                43,
                27,
                30,
                49,
                48,
                39,
                30,
                28,
                40,
                49,
                31,
                32,
                43,
                36,
                32,
                46,
                41,
                37,
                33,
                30,
                28,
                30,
                51,
                37,
                28,
                36,
                27,
                31,
                47,
                45,
                45,
                40,
                49,
                37,
                48,
                30,
                29,
                44,
                29,
                28,
                33,
                48,
                49,
                32,
                42,
                31,
                27,
                28,
                46,
                33,
                43,
                49,
                29,
                36,
                41,
                42,
                28,
                43,
                43,
                29,
                33,
                43,
                30,
                33,
                31,
                43,
                48,
                44,
                27,
                31,
                46,
                41,
                30,
                39,
                32,
                38,
                28,
                45,
                45,
                31,
                41,
                42,
                31,
                48,
                46,
                44,
                46,
                39,
                29,
                42,
                44,
                28,
                28,
                32,
                48,
                39,
                48,
                43,
                29,
                34,
                42,
                34,
                42,
                32,
                50,
                33,
                40,
                27,
                45,
                36,
                39,
                28,
                48,
                27,
                41,
                33,
                41,
                31,
                40,
                51,
                50,
                40,
                41,
                28,
                33,
                37,
                49,
                39,
                41,
                47,
                41,
                40,
                30,
                47,
                29,
                49,
                33,
                32,
                30,
                44,
                43,
                49,
                31,
                34,
                37,
                30,
                49,
                50,
                36,
                35,
                46,
                48,
                35,
                31,
                50,
                34,
                40,
                42,
                44,
                49,
                51,
                48,
                31,
                42,
                34,
                40,
                51,
                33,
                37,
                36,
                28,
                33
               ]
              ]
             },
             {
              "title": "Idade em Spain"
             }
            ],
            "label": "Spain",
            "method": "update"
           },
           {
            "args": [
             {
              "x": [
               [
                44,
                41,
                42,
                48,
                45,
                42,
                41,
                43,
                49,
                35,
                37,
                30,
                43,
                43,
                47,
                39,
                32,
                36,
                37,
                45,
                49,
                29,
                51,
                38,
                28,
                27,
                47,
                34,
                48,
                36,
                49,
                30,
                40,
                44,
                44,
                43,
                46,
                27,
                43,
                49,
                37,
                28,
                46,
                47,
                49,
                30,
                31,
                37,
                36,
                38,
                44,
                49,
                29,
                45,
                38,
                47,
                46,
                41,
                29,
                28,
                38,
                44,
                28,
                48,
                29,
                30,
                32,
                42,
                35,
                36,
                29,
                30,
                49,
                50,
                28,
                44,
                38,
                34,
                44,
                31,
                46,
                29,
                42,
                36,
                28,
                51,
                47,
                31,
                33,
                37,
                33,
                27,
                46,
                43,
                41,
                32,
                40,
                28,
                39,
                44,
                34,
                28,
                40,
                44,
                34,
                40,
                30,
                42,
                43,
                40,
                32,
                43,
                37,
                45,
                47,
                31,
                30,
                27,
                31,
                49,
                36,
                51,
                51,
                36,
                51,
                42,
                50,
                34,
                46,
                28,
                31,
                28,
                45,
                35,
                45,
                31,
                50,
                48,
                41,
                30,
                39,
                29,
                45,
                35,
                37,
                35,
                34,
                27,
                40,
                31,
                27,
                43,
                50,
                29,
                47,
                31,
                36,
                39,
                31,
                46,
                38,
                31,
                40,
                27,
                45,
                51,
                41,
                30,
                47,
                42,
                35,
                32,
                39,
                30,
                42,
                33,
                32,
                39,
                39,
                47,
                30,
                47,
                43
               ]
              ]
             },
             {
              "title": "Idade em Italy"
             }
            ],
            "label": "Italy",
            "method": "update"
           }
          ],
          "x": 1.1,
          "y": 1.15
         }
        ],
        "xaxis": {
         "anchor": "y",
         "domain": [
          0,
          1
         ],
         "title": {
          "text": "Age"
         }
        },
        "yaxis": {
         "anchor": "x",
         "domain": [
          0,
          1
         ],
         "title": {
          "text": "count"
         }
        }
       }
      }
     },
     "metadata": {},
     "output_type": "display_data"
    }
   ],
   "source": [
    "# !pip install plotly ipywidgets\n",
    "\n",
    "from pathlib import Path\n",
    "import pandas as pd\n",
    "import plotly.express as px\n",
    "\n",
    "DATA = Path.cwd().parent / \"data\" / \"netflix-data.csv\"\n",
    "df = (pd.read_csv(DATA)\n",
    "        .dropna(subset=[\"Age\"])\n",
    "        .astype({\"Age\": \"int16\"}))\n",
    "\n",
    "fig = px.histogram(df, x=\"Age\", color=\"Device\", nbins=15, opacity=0.75)\n",
    "buttons = []\n",
    "for country in df[\"Country\"].unique():\n",
    "    visible = df[\"Country\"] == country\n",
    "    buttons.append(dict(\n",
    "        label=country,\n",
    "        method=\"update\",\n",
    "        args=[{\"x\": [df.loc[visible, \"Age\"]]}, {\"title\": f\"Idade em {country}\"}]\n",
    "    ))\n",
    "fig.update_layout(updatemenus=[dict(buttons=buttons, x=1.1, y=1.15)])\n",
    "fig.show()\n"
   ]
  },
  {
   "cell_type": "code",
   "execution_count": 91,
   "metadata": {},
   "outputs": [
    {
     "data": {
      "application/vnd.plotly.v1+json": {
       "config": {
        "plotlyServerURL": "https://plot.ly"
       },
       "data": [
        {
         "coloraxis": "coloraxis",
         "hovertemplate": "Dispositivo: %{x}<br>País: %{y}<br>Idade Média: %{z}<extra></extra>",
         "name": "0",
         "texttemplate": "%{z:.1f}",
         "type": "heatmap",
         "x": [
          "Laptop",
          "Smart TV",
          "Smartphone",
          "Tablet"
         ],
         "xaxis": "x",
         "y": [
          "Australia",
          "Brazil",
          "Canada",
          "France",
          "Germany",
          "Italy",
          "Mexico",
          "Spain",
          "United Kingdom",
          "United States"
         ],
         "yaxis": "y",
         "z": {
          "bdata": "g5hcQUwuQ0BDeQ3lNZRDQNs3rH3DWkNABn1BX9CXQkBddNFFF51DQM3MzMzMvEJAo4suuugiQ0Cjiy666CJDQAAAAAAAOENALt/yLd8yQ0AzMzMzM7tDQMprKK+hPENAip3YiZ14REC5I+6IO2JDQHg26jsbdUJA1K5E7UrUQ0DLsizLsqxDQPQ8z/M8T0NAOY7jOI5DQ0Bu27Zt27ZDQKRwPQrXo0NA3/SmN73pQkC/s1Hf2ShDQAAAAAAAYENA0UUXXXRRQ0C1K1G7ErVDQNOb3vSmd0NAip3YiZ04Q0CZQO/UtZxDQI7jOI7jOENApqWlpaUlQ0BY7mmE5Z5DQAAAAAAAIENAMzMzMzMDREAT2ktoLyFEQLZgC7ZgC0NAXXTRRRddQ0CWexphuYdDQIQPPvjgg0NAb3rTm950Q0A=",
          "dtype": "f8",
          "shape": "10, 4"
         }
        }
       ],
       "layout": {
        "coloraxis": {
         "colorbar": {
          "title": {
           "text": "Idade Média"
          }
         },
         "colorscale": [
          [
           0,
           "rgb(253, 253, 204)"
          ],
          [
           0.09090909090909091,
           "rgb(206, 236, 179)"
          ],
          [
           0.18181818181818182,
           "rgb(156, 219, 165)"
          ],
          [
           0.2727272727272727,
           "rgb(111, 201, 163)"
          ],
          [
           0.36363636363636365,
           "rgb(86, 177, 163)"
          ],
          [
           0.45454545454545453,
           "rgb(76, 153, 160)"
          ],
          [
           0.5454545454545454,
           "rgb(68, 130, 155)"
          ],
          [
           0.6363636363636364,
           "rgb(62, 108, 150)"
          ],
          [
           0.7272727272727273,
           "rgb(62, 82, 143)"
          ],
          [
           0.8181818181818182,
           "rgb(64, 60, 115)"
          ],
          [
           0.9090909090909091,
           "rgb(54, 43, 77)"
          ],
          [
           1,
           "rgb(39, 26, 44)"
          ]
         ]
        },
        "margin": {
         "b": 40,
         "l": 80,
         "r": 40,
         "t": 60
        },
        "template": {
         "data": {
          "bar": [
           {
            "error_x": {
             "color": "#2a3f5f"
            },
            "error_y": {
             "color": "#2a3f5f"
            },
            "marker": {
             "line": {
              "color": "white",
              "width": 0.5
             },
             "pattern": {
              "fillmode": "overlay",
              "size": 10,
              "solidity": 0.2
             }
            },
            "type": "bar"
           }
          ],
          "barpolar": [
           {
            "marker": {
             "line": {
              "color": "white",
              "width": 0.5
             },
             "pattern": {
              "fillmode": "overlay",
              "size": 10,
              "solidity": 0.2
             }
            },
            "type": "barpolar"
           }
          ],
          "carpet": [
           {
            "aaxis": {
             "endlinecolor": "#2a3f5f",
             "gridcolor": "#C8D4E3",
             "linecolor": "#C8D4E3",
             "minorgridcolor": "#C8D4E3",
             "startlinecolor": "#2a3f5f"
            },
            "baxis": {
             "endlinecolor": "#2a3f5f",
             "gridcolor": "#C8D4E3",
             "linecolor": "#C8D4E3",
             "minorgridcolor": "#C8D4E3",
             "startlinecolor": "#2a3f5f"
            },
            "type": "carpet"
           }
          ],
          "choropleth": [
           {
            "colorbar": {
             "outlinewidth": 0,
             "ticks": ""
            },
            "type": "choropleth"
           }
          ],
          "contour": [
           {
            "colorbar": {
             "outlinewidth": 0,
             "ticks": ""
            },
            "colorscale": [
             [
              0,
              "#0d0887"
             ],
             [
              0.1111111111111111,
              "#46039f"
             ],
             [
              0.2222222222222222,
              "#7201a8"
             ],
             [
              0.3333333333333333,
              "#9c179e"
             ],
             [
              0.4444444444444444,
              "#bd3786"
             ],
             [
              0.5555555555555556,
              "#d8576b"
             ],
             [
              0.6666666666666666,
              "#ed7953"
             ],
             [
              0.7777777777777778,
              "#fb9f3a"
             ],
             [
              0.8888888888888888,
              "#fdca26"
             ],
             [
              1,
              "#f0f921"
             ]
            ],
            "type": "contour"
           }
          ],
          "contourcarpet": [
           {
            "colorbar": {
             "outlinewidth": 0,
             "ticks": ""
            },
            "type": "contourcarpet"
           }
          ],
          "heatmap": [
           {
            "colorbar": {
             "outlinewidth": 0,
             "ticks": ""
            },
            "colorscale": [
             [
              0,
              "#0d0887"
             ],
             [
              0.1111111111111111,
              "#46039f"
             ],
             [
              0.2222222222222222,
              "#7201a8"
             ],
             [
              0.3333333333333333,
              "#9c179e"
             ],
             [
              0.4444444444444444,
              "#bd3786"
             ],
             [
              0.5555555555555556,
              "#d8576b"
             ],
             [
              0.6666666666666666,
              "#ed7953"
             ],
             [
              0.7777777777777778,
              "#fb9f3a"
             ],
             [
              0.8888888888888888,
              "#fdca26"
             ],
             [
              1,
              "#f0f921"
             ]
            ],
            "type": "heatmap"
           }
          ],
          "histogram": [
           {
            "marker": {
             "pattern": {
              "fillmode": "overlay",
              "size": 10,
              "solidity": 0.2
             }
            },
            "type": "histogram"
           }
          ],
          "histogram2d": [
           {
            "colorbar": {
             "outlinewidth": 0,
             "ticks": ""
            },
            "colorscale": [
             [
              0,
              "#0d0887"
             ],
             [
              0.1111111111111111,
              "#46039f"
             ],
             [
              0.2222222222222222,
              "#7201a8"
             ],
             [
              0.3333333333333333,
              "#9c179e"
             ],
             [
              0.4444444444444444,
              "#bd3786"
             ],
             [
              0.5555555555555556,
              "#d8576b"
             ],
             [
              0.6666666666666666,
              "#ed7953"
             ],
             [
              0.7777777777777778,
              "#fb9f3a"
             ],
             [
              0.8888888888888888,
              "#fdca26"
             ],
             [
              1,
              "#f0f921"
             ]
            ],
            "type": "histogram2d"
           }
          ],
          "histogram2dcontour": [
           {
            "colorbar": {
             "outlinewidth": 0,
             "ticks": ""
            },
            "colorscale": [
             [
              0,
              "#0d0887"
             ],
             [
              0.1111111111111111,
              "#46039f"
             ],
             [
              0.2222222222222222,
              "#7201a8"
             ],
             [
              0.3333333333333333,
              "#9c179e"
             ],
             [
              0.4444444444444444,
              "#bd3786"
             ],
             [
              0.5555555555555556,
              "#d8576b"
             ],
             [
              0.6666666666666666,
              "#ed7953"
             ],
             [
              0.7777777777777778,
              "#fb9f3a"
             ],
             [
              0.8888888888888888,
              "#fdca26"
             ],
             [
              1,
              "#f0f921"
             ]
            ],
            "type": "histogram2dcontour"
           }
          ],
          "mesh3d": [
           {
            "colorbar": {
             "outlinewidth": 0,
             "ticks": ""
            },
            "type": "mesh3d"
           }
          ],
          "parcoords": [
           {
            "line": {
             "colorbar": {
              "outlinewidth": 0,
              "ticks": ""
             }
            },
            "type": "parcoords"
           }
          ],
          "pie": [
           {
            "automargin": true,
            "type": "pie"
           }
          ],
          "scatter": [
           {
            "fillpattern": {
             "fillmode": "overlay",
             "size": 10,
             "solidity": 0.2
            },
            "type": "scatter"
           }
          ],
          "scatter3d": [
           {
            "line": {
             "colorbar": {
              "outlinewidth": 0,
              "ticks": ""
             }
            },
            "marker": {
             "colorbar": {
              "outlinewidth": 0,
              "ticks": ""
             }
            },
            "type": "scatter3d"
           }
          ],
          "scattercarpet": [
           {
            "marker": {
             "colorbar": {
              "outlinewidth": 0,
              "ticks": ""
             }
            },
            "type": "scattercarpet"
           }
          ],
          "scattergeo": [
           {
            "marker": {
             "colorbar": {
              "outlinewidth": 0,
              "ticks": ""
             }
            },
            "type": "scattergeo"
           }
          ],
          "scattergl": [
           {
            "marker": {
             "colorbar": {
              "outlinewidth": 0,
              "ticks": ""
             }
            },
            "type": "scattergl"
           }
          ],
          "scattermap": [
           {
            "marker": {
             "colorbar": {
              "outlinewidth": 0,
              "ticks": ""
             }
            },
            "type": "scattermap"
           }
          ],
          "scattermapbox": [
           {
            "marker": {
             "colorbar": {
              "outlinewidth": 0,
              "ticks": ""
             }
            },
            "type": "scattermapbox"
           }
          ],
          "scatterpolar": [
           {
            "marker": {
             "colorbar": {
              "outlinewidth": 0,
              "ticks": ""
             }
            },
            "type": "scatterpolar"
           }
          ],
          "scatterpolargl": [
           {
            "marker": {
             "colorbar": {
              "outlinewidth": 0,
              "ticks": ""
             }
            },
            "type": "scatterpolargl"
           }
          ],
          "scatterternary": [
           {
            "marker": {
             "colorbar": {
              "outlinewidth": 0,
              "ticks": ""
             }
            },
            "type": "scatterternary"
           }
          ],
          "surface": [
           {
            "colorbar": {
             "outlinewidth": 0,
             "ticks": ""
            },
            "colorscale": [
             [
              0,
              "#0d0887"
             ],
             [
              0.1111111111111111,
              "#46039f"
             ],
             [
              0.2222222222222222,
              "#7201a8"
             ],
             [
              0.3333333333333333,
              "#9c179e"
             ],
             [
              0.4444444444444444,
              "#bd3786"
             ],
             [
              0.5555555555555556,
              "#d8576b"
             ],
             [
              0.6666666666666666,
              "#ed7953"
             ],
             [
              0.7777777777777778,
              "#fb9f3a"
             ],
             [
              0.8888888888888888,
              "#fdca26"
             ],
             [
              1,
              "#f0f921"
             ]
            ],
            "type": "surface"
           }
          ],
          "table": [
           {
            "cells": {
             "fill": {
              "color": "#EBF0F8"
             },
             "line": {
              "color": "white"
             }
            },
            "header": {
             "fill": {
              "color": "#C8D4E3"
             },
             "line": {
              "color": "white"
             }
            },
            "type": "table"
           }
          ]
         },
         "layout": {
          "annotationdefaults": {
           "arrowcolor": "#2a3f5f",
           "arrowhead": 0,
           "arrowwidth": 1
          },
          "autotypenumbers": "strict",
          "coloraxis": {
           "colorbar": {
            "outlinewidth": 0,
            "ticks": ""
           }
          },
          "colorscale": {
           "diverging": [
            [
             0,
             "#8e0152"
            ],
            [
             0.1,
             "#c51b7d"
            ],
            [
             0.2,
             "#de77ae"
            ],
            [
             0.3,
             "#f1b6da"
            ],
            [
             0.4,
             "#fde0ef"
            ],
            [
             0.5,
             "#f7f7f7"
            ],
            [
             0.6,
             "#e6f5d0"
            ],
            [
             0.7,
             "#b8e186"
            ],
            [
             0.8,
             "#7fbc41"
            ],
            [
             0.9,
             "#4d9221"
            ],
            [
             1,
             "#276419"
            ]
           ],
           "sequential": [
            [
             0,
             "#0d0887"
            ],
            [
             0.1111111111111111,
             "#46039f"
            ],
            [
             0.2222222222222222,
             "#7201a8"
            ],
            [
             0.3333333333333333,
             "#9c179e"
            ],
            [
             0.4444444444444444,
             "#bd3786"
            ],
            [
             0.5555555555555556,
             "#d8576b"
            ],
            [
             0.6666666666666666,
             "#ed7953"
            ],
            [
             0.7777777777777778,
             "#fb9f3a"
            ],
            [
             0.8888888888888888,
             "#fdca26"
            ],
            [
             1,
             "#f0f921"
            ]
           ],
           "sequentialminus": [
            [
             0,
             "#0d0887"
            ],
            [
             0.1111111111111111,
             "#46039f"
            ],
            [
             0.2222222222222222,
             "#7201a8"
            ],
            [
             0.3333333333333333,
             "#9c179e"
            ],
            [
             0.4444444444444444,
             "#bd3786"
            ],
            [
             0.5555555555555556,
             "#d8576b"
            ],
            [
             0.6666666666666666,
             "#ed7953"
            ],
            [
             0.7777777777777778,
             "#fb9f3a"
            ],
            [
             0.8888888888888888,
             "#fdca26"
            ],
            [
             1,
             "#f0f921"
            ]
           ]
          },
          "colorway": [
           "#636efa",
           "#EF553B",
           "#00cc96",
           "#ab63fa",
           "#FFA15A",
           "#19d3f3",
           "#FF6692",
           "#B6E880",
           "#FF97FF",
           "#FECB52"
          ],
          "font": {
           "color": "#2a3f5f"
          },
          "geo": {
           "bgcolor": "white",
           "lakecolor": "white",
           "landcolor": "white",
           "showlakes": true,
           "showland": true,
           "subunitcolor": "#C8D4E3"
          },
          "hoverlabel": {
           "align": "left"
          },
          "hovermode": "closest",
          "mapbox": {
           "style": "light"
          },
          "paper_bgcolor": "white",
          "plot_bgcolor": "white",
          "polar": {
           "angularaxis": {
            "gridcolor": "#EBF0F8",
            "linecolor": "#EBF0F8",
            "ticks": ""
           },
           "bgcolor": "white",
           "radialaxis": {
            "gridcolor": "#EBF0F8",
            "linecolor": "#EBF0F8",
            "ticks": ""
           }
          },
          "scene": {
           "xaxis": {
            "backgroundcolor": "white",
            "gridcolor": "#DFE8F3",
            "gridwidth": 2,
            "linecolor": "#EBF0F8",
            "showbackground": true,
            "ticks": "",
            "zerolinecolor": "#EBF0F8"
           },
           "yaxis": {
            "backgroundcolor": "white",
            "gridcolor": "#DFE8F3",
            "gridwidth": 2,
            "linecolor": "#EBF0F8",
            "showbackground": true,
            "ticks": "",
            "zerolinecolor": "#EBF0F8"
           },
           "zaxis": {
            "backgroundcolor": "white",
            "gridcolor": "#DFE8F3",
            "gridwidth": 2,
            "linecolor": "#EBF0F8",
            "showbackground": true,
            "ticks": "",
            "zerolinecolor": "#EBF0F8"
           }
          },
          "shapedefaults": {
           "line": {
            "color": "#2a3f5f"
           }
          },
          "ternary": {
           "aaxis": {
            "gridcolor": "#DFE8F3",
            "linecolor": "#A2B1C6",
            "ticks": ""
           },
           "baxis": {
            "gridcolor": "#DFE8F3",
            "linecolor": "#A2B1C6",
            "ticks": ""
           },
           "bgcolor": "white",
           "caxis": {
            "gridcolor": "#DFE8F3",
            "linecolor": "#A2B1C6",
            "ticks": ""
           }
          },
          "title": {
           "x": 0.05
          },
          "xaxis": {
           "automargin": true,
           "gridcolor": "#EBF0F8",
           "linecolor": "#EBF0F8",
           "ticks": "",
           "title": {
            "standoff": 15
           },
           "zerolinecolor": "#EBF0F8",
           "zerolinewidth": 2
          },
          "yaxis": {
           "automargin": true,
           "gridcolor": "#EBF0F8",
           "linecolor": "#EBF0F8",
           "ticks": "",
           "title": {
            "standoff": 15
           },
           "zerolinecolor": "#EBF0F8",
           "zerolinewidth": 2
          }
         }
        },
        "title": {
         "text": "Idade Média por País × Dispositivo"
        },
        "xaxis": {
         "anchor": "y",
         "domain": [
          0,
          1
         ],
         "side": "top",
         "title": {
          "text": "Dispositivo"
         }
        },
        "yaxis": {
         "anchor": "x",
         "autorange": "reversed",
         "domain": [
          0,
          1
         ],
         "title": {
          "text": "País"
         }
        }
       }
      }
     },
     "metadata": {},
     "output_type": "display_data"
    }
   ],
   "source": [
    "dfpt = df.pivot_table(index=\"Country\", columns=\"Device\", values=\"Age\")\n",
    "\n",
    "fig_heat = px.imshow(\n",
    "    dfpt,\n",
    "    text_auto=\".1f\",\n",
    "    color_continuous_scale=\"deep\",\n",
    "    aspect=\"auto\",\n",
    "    labels={\"x\":\"Dispositivo\", \"y\":\"País\", \"color\":\"Idade Média\"},\n",
    "    title=\"Idade Média por País × Dispositivo\"\n",
    ")\n",
    "\n",
    "fig_heat.update_xaxes(side=\"top\")\n",
    "fig_heat.update_layout(template=\"plotly_white\", margin=dict(t=60, l=80, r=40, b=40))\n",
    "\n",
    "fig_heat.show()"
   ]
  }
 ],
 "metadata": {
  "kernelspec": {
   "display_name": "Python 3",
   "language": "python",
   "name": "python3"
  },
  "language_info": {
   "codemirror_mode": {
    "name": "ipython",
    "version": 3
   },
   "file_extension": ".py",
   "mimetype": "text/x-python",
   "name": "python",
   "nbconvert_exporter": "python",
   "pygments_lexer": "ipython3",
   "version": "3.11.0"
  }
 },
 "nbformat": 4,
 "nbformat_minor": 2
}
