{
 "cells": [
  {
   "cell_type": "markdown",
   "metadata": {},
   "source": [
    "# Marcos Históricos da Visualização de Dados"
   ]
  },
  {
   "cell_type": "markdown",
   "metadata": {},
   "source": [
    "## Cronologia\n",
    "\n",
    "Mapear os fatos históricos de uma determinada área da ciência de forma meticulosa é uma tarefa quase impossível. Neste capítulo, faremos um breve resumo dos principais eventos que marcaram época no desenvolvimento da visualização de dados. O material baseia-se em um capítulo escrito por Michael Friendly {cite:p}`friendly2005`, Professor da Universidade de York, Canadá.\n",
    "\n",
    "Registros da informação quantitativa técnica mais especializada são conhecidos desde o século XV ({numref}`fig-milestones`), principalmente motivados pela cartografia e pelo pensamento estatístico. Entretanto, os relatos são incompletos e organizados em obras de autores fortemente ligados à matemática, astronomia e estatística. Na presente cronologia, consideramos apenas eventos ocorridos a partir do século XVII.\n",
    "\n",
    "```{figure} ../figs/dataviz-milestones.png\n",
    "---\n",
    "name: fig-milestones\n",
    "alt: Marcos históricos da dataviz. \n",
    "align: center\n",
    "width: 500px\n",
    "---\n",
    "Marcos históricos da dataviz. \n",
    "```"
   ]
  },
  {
   "attachments": {},
   "cell_type": "markdown",
   "metadata": {},
   "source": [
    "### Período de 1600 - 1699\n",
    "\n",
    "No início deste século, preponderou o interesse em medir quantidades físicas, tais como tempo, distância e espaço, para finalidades de navegação, expansão territorial e estudo dos astros. Vimos a ascensão da geometria analítica, da teoria dos erros e estimações, da teoria da probabilidade e da estatística demográfica. Um nome que ressalta desta época é Michael Florent van Langren, astrônomo da corte espanhola que supostamente foi quem criou a primeira representação visual de dados estatísticos em 1644 ({numref}`fig-langren`). \n",
    "\n",
    "```{figure} ../figs/langren.png\n",
    "---\n",
    "name: fig-langren\n",
    "alt: Carte Figurative de Minard. Original.\n",
    "align: center\n",
    "width: 500px\n",
    "---\n",
    "Gráfico de van Langren (1644) para determinação de distância, em longitude, da cidade de Toledo a Roma.\n",
    "```"
   ]
  },
  {
   "cell_type": "markdown",
   "metadata": {},
   "source": [
    "### Período de 1700 - 1799\n",
    "\n",
    "Durante o século XVIII, formas gráficas mais elaboradas passaram a enriquecer os mapas até então conhecidos. Caminhos foram abertos para isolinhas e isocontornos, mapeamento temático de dados físicos, geológicos, econômicos e médicos. Gráficos abstratos e os primeiros gráficos de funções matemáticas foram introduzidos, bem como novas formas visuais que \"falavam por si\". \n",
    "\n",
    "[William Playfair](https://en.wikipedia.org/wiki/William_Playfair) (1759 - 1823) é considerado o principal inventor da época e o pioneiro da construção das representações visuais que utilizamos até hoje, tais como o gráfico de linhas e de barras (1786), o de setores (\"pizza\") e circular (1801)."
   ]
  },
  {
   "cell_type": "markdown",
   "metadata": {},
   "source": [
    "### Período de 1800 - 1850\n",
    "\n",
    "No curso da primeira metade deste século explodiram os gráficos estatísticos e os mapas temáticos modernos a uma taxa de produção sem precedentes, tais como histogramas, séries temporais, gráficos de dispersão e atlas compreensivos. Diversas formas de simbolismo em tópicos econômicos, sociais, morais, entre outros, progrediram em massa. Um autor proeminente desta época é [Charles Minard](https://en.wikipedia.org/wiki/Charles_Joseph_Minard) (1781 - 1870)."
   ]
  },
  {
   "cell_type": "markdown",
   "metadata": {},
   "source": [
    "### Período de 1850 - 1900\n",
    "\n",
    "Na segunda metade do século XIX, o cenário já estava pronto para que os mecanismos para visualização de dados se consolidassem. Escritórios oficiais sobre análises estatísticas foram estabelecidos por toda a Europa em resposta ao reconhecimento da relevância da informação numérica para ações de planejamento social, comercial e de mobilidade. A teoria estatística encabeçada por Gauss e Laplace foram responsáveis por difundir grandes quantidades de dados, fazendo com que este período fosse conhecido como a era de ouro dos gráficos estatísticos."
   ]
  },
  {
   "cell_type": "markdown",
   "metadata": {},
   "source": [
    "### Período de 1900 - 1950\n",
    "\n",
    "Houve pouca inovação neste período para os gráficos estatísticos, que foram ofuscados pelo crescimento dos modelos formais. As figuras passaram a ser meras ilustrações. Opostamente ao período anterior, esta fase da história da visualização de dados ficou conhecida como a _era das trevas_. Apesar disso, neste período as representações visuais tornaram-se populares, passando a compor livros didáticos, currículos escolares. Elas também instauraram o padrão visual em instituições governamentais, comerciais e científicas. "
   ]
  },
  {
   "cell_type": "markdown",
   "metadata": {},
   "source": [
    "### Período de 1950 - 1975\n",
    "\n",
    "O espírito numérico e formal estabelecido em meados da década de 1930 induziu o renascimento da visualização de dados por volta de 1960. Os desenvolvimentos mais significativos responsáveis por reanimar a área após cerca de 50 anos de apatia foram os seguintes:\n",
    "\n",
    "- Nos EUA, [John Tukey](https://en.wikipedia.org/wiki/John_Tukey) (1915 - 2000) configura-se como patrono da _Análise Exploratória de Dados_. Além de atuar em outras frentes, foi durante o trabalho com [John von Neumann](https://en.wikipedia.org/wiki/John_von_Neumann) que Tukey introduziu o termo _bit_ como designador de _binary digit_ (dígito binário).\n",
    "\n",
    "- Na França, [Jacques Bertin](https://en.wikipedia.org/wiki/Jacques_Bertin) (1918 - 2010) publicou a conhecida obra _Sémiologie Graphique_ (Semiologia Gráfica) em 1967, onde estabeleceu as variáveis visuais estruturantes para se construir imagens gráficas. As 8 variáveis de Bertin revolucionaram a ciência da percepção visual.\n",
    "\n",
    "- O desenvolvimento da computação permitiu que gráficos de alta resolução pudessem ser elaborados. Ao mesmo tempo, evoluções paralelas ocorreram, tais como o desenvolvimento de linguagens de programação no Bell Labs, da análise exploratória de dados, da tecnologia de impressão e de periféricos (plotters, terminais gráficos, mouse etc.). Esse encadeamento de fatos implicaram em novos paradigmas de expressão de ideias estatísticas e técnicas avançadas de implementação de visualização de dados."
   ]
  },
  {
   "cell_type": "markdown",
   "metadata": {},
   "source": [
    "### Período de 1975 em diante\n",
    "\n",
    "No final do século XX, a ciência multidisciplinar intermediou o florescimento da visualização de dados. Métodos computacionais hoje estão disponíveis para qualquer sistema operacional, preferidos por cientistas e analistas provenientes das mais diversas áreas de conhecimento. Alguns pontos de destaque são:\n",
    "\n",
    "- Desenvolvimento de sistemas interativos;\n",
    "- Novos paradigmas de manipulação de dados;\n",
    "- Métodos inovadores para representação multidimensional de dados;\n",
    "- Reinvenção de técnicas gráficas para dados discretos e categóricos;\n",
    "- Visualização de dados suportada por estruturas de dados de alta complexidade;\n",
    "- Domínio de conhecimento sobre aspectos cognitivos e de percepção da representação de dados;\n",
    "- Crescimento da infraestrutura tecnológica e computacional para visualização (códigos abertos, engenharia de software gráficos, computação paralela, _streaming_ de dados em tempo real)."
   ]
  },
  {
   "cell_type": "markdown",
   "metadata": {},
   "source": [
    "### Fatos emblemáticos\n",
    "\n",
    "A seguinte tabela mostra uma cronologia breve sobre fatos emblemáticos da dataviz.\n",
    "\n",
    "| Período     | Evento |\n",
    "|:------------|:--------------------------------------------------------------------------------------------------------------------------------------|\n",
    "| 1750 - 1800 | William Playfair produz os primeiros gráficos modernos.                                                                               |\n",
    "| 1858        | Florence Nightingale cria o seu “diagrama Coxcomb” (circular) para ilustrar frações de mortalidade por doenças no exército britânico. |\n",
    "| 1861        | Charles Minard publica a Carte Figurative.                                                                                            |\n",
    "| 1914        | Willard Brinton publica o primeiro livro sobre visualização para negócios: Graphic Methods for Presenting Facts.                      |\n",
    "| 1952        | Mary Eleanor Spear publica Charting Statistics, um livro de melhores práticas de criação de gráficos.                                 |\n",
    "| 1967        | Jacques Bertin publica Sémiologie Graphique.                                                                                          |\n",
    "| 1970 - 1980 | John Tukey inaugura a visualização de dados por meio de computadores e populariza os conceito de análise exploratória de dados.       |\n",
    "| 1983        | Edward Tufte publica The Visual Display of Quantitative Information.                                                                  |\n",
    "| 1984        | William Cleveland e Robert McGill publicam o primeiro de vários trabalhos de pesquisa que tentam medir a “percepção gráfica”.         |\n",
    "| 1986        | Jock Mackinlay publica uma influente tese de doutorado que levou o trabalho de Jacques Bertin para a era digital.                     |\n",
    "| 1990 - 2000 | Abordagens divergentes surgem entre agentes da visualização científica de dados e jornalistas orientados por design.                  |\n",
    "| 2010        | Dataviz torna-se democrática por causa da internet.                                                                                   |\n",
    "| Hoje        | Dataviz se expande por um amplo espectro de disciplinas com gráficos dinâmicos e alta interatividade.                                 |                               |"
   ]
  },
  {
   "cell_type": "markdown",
   "metadata": {},
   "source": [
    "## Cronologia gráfica\n",
    "\n",
    "- _Carte Figurative_ de [Charles J. Minard](https://en.wikipedia.org/wiki/Charles_Joseph_Minard) (1781 - 1870). Versões ({numref}`fig-minard1`, {numref}`fig-minard2`). Ver {cite:p}`friendly2002visions`.\n",
    "\n",
    "```{figure} ../figs/minard1.png\n",
    "---\n",
    "name: fig-minard1\n",
    "alt: Carte Figurative de Minard. Original.\n",
    "align: center\n",
    "width: 500px\n",
    "---\n",
    "_Carte Figurative_ de Minard: ilustra a campanha militar de 1812 de Napoleão Bonaparte.  Original: ENPC, Multimedia Library\n",
    "```\n",
    "\n",
    "```{figure} ../figs/minard2.png\n",
    "---\n",
    "name: fig-minard2\n",
    "alt: Carte Figurative de Minard. Revision.\n",
    "align: center\n",
    "width: 500px\n",
    "---\n",
    "_Carte Figurative_ de Minard: ilustra a campanha militar de 1812 de Napoleão Bonaparte. Revisão: Friendly, M.\n",
    "```"
   ]
  },
  {
   "cell_type": "markdown",
   "metadata": {},
   "source": [
    "- Gráficos de [William Playfair](https://en.wikipedia.org/wiki/William_Playfair) (1759 - 1823) sobre a economia da Inglaterra ({numref}`fig-playfair1`, {numref}`fig-playfair2`, {numref}`fig-playfair3`), disponíveis [aqui](https://www.datavis.ca/gallery/historical.php).\n",
    "\n",
    "```{figure} ../figs/playfair1.png\n",
    "---\n",
    "name: fig-playfair1\n",
    "alt: Balança Comercial da Inglaterra.\n",
    "align: center\n",
    "width: 500px\n",
    "---\n",
    "Balança comercial da Inglaterra.\n",
    "```\n",
    "\n",
    "```{figure} ../figs/playfair2.png\n",
    "---\n",
    "name: fig-playfair2\n",
    "alt: Série temporal de preços e salários.\n",
    "align: center\n",
    "width: 500px\n",
    "---\n",
    "Série temporal tripla: variação de preço do trigo, do salário semanal e do monarca reinante ao longo de 250 anos (1565 - 1820).\n",
    "```\n",
    "\n",
    "```{figure} ../figs/playfair3.png\n",
    "---\n",
    "name: fig-playfair3\n",
    "alt: Dívida pública inglesa.\n",
    "align: center\n",
    "width: 200px\n",
    "---\n",
    "Dívida pública inglesa.\n",
    "```"
   ]
  },
  {
   "cell_type": "markdown",
   "metadata": {},
   "source": [
    "- Gráfico circular (\"coxcomb\") de [Florence Nightingale](https://en.wikipedia.org/wiki/Florence_Nightingale) (1820 - 1910) sobre causas de mortalidade no exército britânico ({numref}`fig-nightingale1`, {numref}`fig-nightingale2`), disponíveis [aqui](https://www.datavis.ca/gallery/historical.php).\n",
    "\n",
    "```{figure} ../figs/nightingale1.png\n",
    "---\n",
    "name: fig-nightingale1\n",
    "alt: Gráfico circular (\"coxcomb\") - original de 1858.\n",
    "align: center\n",
    "width: 500px\n",
    "---\n",
    "Gráfico circular (\"coxcomb\") - original de 1858. Nightingale, enfermeira no exército britânico descobriu que a mortalidade das tropas era causada principalmente por fatores não ligados às batalhas.\n",
    "```\n",
    "\n",
    "```{figure} ../figs/nightingale2.png\n",
    "---\n",
    "name: fig-nightingale2\n",
    "alt: Gráfico circular (\"coxcomb\") - reconstrução.\n",
    "align: center\n",
    "width: 500px\n",
    "---\n",
    "Gráfico circular (\"coxcomb\") - reconstrução.\n",
    "```"
   ]
  },
  {
   "cell_type": "markdown",
   "metadata": {},
   "source": [
    "## Referências\n",
    "\n",
    "```{bibliography}\n",
    ":filter: docname in docnames\n",
    "```"
   ]
  },
  {
   "cell_type": "markdown",
   "metadata": {},
   "source": [
    "## Links recomendados\n",
    "\n",
    "- [datavis.ca](https://www.datavis.ca/index.php)"
   ]
  }
 ],
 "metadata": {
  "kernelspec": {
   "display_name": "Python 3.9.13 ('dataviz')",
   "language": "python",
   "name": "python3"
  },
  "language_info": {
   "codemirror_mode": {
    "name": "ipython",
    "version": 3
   },
   "file_extension": ".py",
   "mimetype": "text/x-python",
   "name": "python",
   "nbconvert_exporter": "python",
   "pygments_lexer": "ipython3",
   "version": "3.9.13"
  },
  "orig_nbformat": 4,
  "vscode": {
   "interpreter": {
    "hash": "62aa3616d1d4e8dca987b405e9154085c089eb3c5a17f4da4310667e0712ec96"
   }
  }
 },
 "nbformat": 4,
 "nbformat_minor": 2
}
